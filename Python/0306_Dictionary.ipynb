{
 "cells": [
  {
   "cell_type": "markdown",
   "metadata": {},
   "source": [
    "### DICTIONARY :\n",
    "\n",
    "It is used to store non-homogenous group of data in the form of key : value.\n",
    "\n",
    "#### Properties :\n",
    "- It is used to store data as K : V in `{}`\n",
    "- It is iterable.\n",
    "- Ordered\n",
    "    - Python 3.6 is Unordered.\n",
    "    - Python 3.6+ is ordered.\n",
    "- Key should be unique and it is immutable.\n",
    "- Value can be non-unique and it is mutable."
   ]
  },
  {
   "cell_type": "code",
   "execution_count": 1,
   "metadata": {},
   "outputs": [
    {
     "name": "stdout",
     "output_type": "stream",
     "text": [
      "{'RollNo': [1, 2, 3, 4, 5, 6]}\n"
     ]
    }
   ],
   "source": [
    "d1 = {'RollNo' : [1, 2, 3, 4, 5, 6]}\n",
    "\n",
    "print(d1)"
   ]
  },
  {
   "cell_type": "code",
   "execution_count": 39,
   "metadata": {},
   "outputs": [
    {
     "name": "stdout",
     "output_type": "stream",
     "text": [
      "{'1234567890': ['APSSDC', 'Visakhapatnam', '01/01/2020', '9876543210'], '9876543210': ['Python', 'Earth', '01/01/2020', '0123456789']}\n"
     ]
    }
   ],
   "source": [
    "d1 = {'1234567890' : ['APSSDC', 'Vijayawada', '01/01/2020', '9876543210'],\n",
    "    '9876543210' : ['Python', 'Earth', '01/01/2020', '0123456789'],\n",
    "     '1234567890' : ['APSSDC', 'Visakhapatnam', '01/01/2020', '9876543210']}\n",
    "print(d1)"
   ]
  },
  {
   "cell_type": "code",
   "execution_count": 40,
   "metadata": {},
   "outputs": [],
   "source": [
    "d2 = {(1, 2, 3) : 'Python'}"
   ]
  },
  {
   "cell_type": "code",
   "execution_count": 41,
   "metadata": {},
   "outputs": [
    {
     "name": "stdout",
     "output_type": "stream",
     "text": [
      "{(1, 2, 3): 'Python'}\n"
     ]
    }
   ],
   "source": [
    "print(d2)"
   ]
  },
  {
   "cell_type": "markdown",
   "metadata": {},
   "source": [
    "### Accessing the pairs in the dictionary :\n"
   ]
  },
  {
   "cell_type": "code",
   "execution_count": 42,
   "metadata": {},
   "outputs": [
    {
     "name": "stdout",
     "output_type": "stream",
     "text": [
      "{'1234567890': ['APSSDC', 'Visakhapatnam', '01/01/2020', '9876543210'], '9876543210': ['Python', 'Earth', '01/01/2020', '0123456789']}\n"
     ]
    }
   ],
   "source": [
    "print(d1)"
   ]
  },
  {
   "cell_type": "code",
   "execution_count": 43,
   "metadata": {},
   "outputs": [
    {
     "name": "stdout",
     "output_type": "stream",
     "text": [
      "['APSSDC', 'Visakhapatnam', '01/01/2020', '9876543210']\n"
     ]
    }
   ],
   "source": [
    "print(d1['1234567890'])"
   ]
  },
  {
   "cell_type": "code",
   "execution_count": 44,
   "metadata": {},
   "outputs": [
    {
     "ename": "KeyError",
     "evalue": "'123456789'",
     "output_type": "error",
     "traceback": [
      "\u001b[1;31m---------------------------------------------------------------------------\u001b[0m",
      "\u001b[1;31mKeyError\u001b[0m                                  Traceback (most recent call last)",
      "\u001b[1;32m<ipython-input-44-f54622f17d58>\u001b[0m in \u001b[0;36m<module>\u001b[1;34m\u001b[0m\n\u001b[1;32m----> 1\u001b[1;33m \u001b[0mprint\u001b[0m\u001b[1;33m(\u001b[0m\u001b[0md1\u001b[0m\u001b[1;33m[\u001b[0m\u001b[1;34m'123456789'\u001b[0m\u001b[1;33m]\u001b[0m\u001b[1;33m)\u001b[0m\u001b[1;33m\u001b[0m\u001b[1;33m\u001b[0m\u001b[0m\n\u001b[0m",
      "\u001b[1;31mKeyError\u001b[0m: '123456789'"
     ]
    }
   ],
   "source": [
    "print(d1['123456789'])"
   ]
  },
  {
   "cell_type": "code",
   "execution_count": 45,
   "metadata": {},
   "outputs": [
    {
     "name": "stdout",
     "output_type": "stream",
     "text": [
      "{'1234567890': ['APSSDC', 'Bhimavaram', '05/01/2020', '9876543210'], '9876543210': ['Python', 'Earth', '01/01/2020', '0123456789'], '123456789': ['APSSDC', 'Visakhapatnam', '01/01/2020', '9876543210']}\n"
     ]
    }
   ],
   "source": [
    "d1['1234567890'] = ['APSSDC','Bhimavaram', '05/01/2020', '9876543210']\n",
    "d1['123456789'] = ['APSSDC', 'Visakhapatnam', '01/01/2020', '9876543210']\n",
    "\n",
    "print(d1)"
   ]
  },
  {
   "cell_type": "code",
   "execution_count": 46,
   "metadata": {},
   "outputs": [
    {
     "name": "stdout",
     "output_type": "stream",
     "text": [
      "05/01/2020\n"
     ]
    }
   ],
   "source": [
    "print(d1['1234567890'][2])"
   ]
  },
  {
   "cell_type": "code",
   "execution_count": 47,
   "metadata": {},
   "outputs": [
    {
     "name": "stdout",
     "output_type": "stream",
     "text": [
      "{'1234567890': ['APSSDC', 'Bhimavaram', '05/01/2020', '9898989898'], '9876543210': ['Python', 'Earth', '01/01/2020', '0123456789'], '123456789': ['APSSDC', 'Visakhapatnam', '01/01/2020', '9876543210']}\n"
     ]
    }
   ],
   "source": [
    "d1['1234567890'][3] = '9898989898'\n",
    "\n",
    "print(d1)"
   ]
  },
  {
   "cell_type": "code",
   "execution_count": 48,
   "metadata": {},
   "outputs": [
    {
     "name": "stdout",
     "output_type": "stream",
     "text": [
      "{'1234567890': ['05/01/2020', '9898989898', 'APSSDC', 'Bhimavaram'], '9876543210': ['Python', 'Earth', '01/01/2020', '0123456789'], '123456789': ['APSSDC', 'Visakhapatnam', '01/01/2020', '9876543210']}\n"
     ]
    }
   ],
   "source": [
    "d1['1234567890'] = sorted(d1['1234567890'])\n",
    "\n",
    "print(d1)"
   ]
  },
  {
   "cell_type": "code",
   "execution_count": 49,
   "metadata": {},
   "outputs": [
    {
     "name": "stdout",
     "output_type": "stream",
     "text": [
      "{'1234567890': ['05/01/2020', '9898989898', 'APSSDC', 'Bhimavaram'], '9876543210': ['Python', 'Earth', '01/01/2020', '0123456789'], '123456789': ['APSSDC', 'Visakhapatnam', '01/01/2020', '9876543210']}\n"
     ]
    }
   ],
   "source": [
    "d = {123:456, 132:344, 123:456}\n",
    "print(d1)"
   ]
  },
  {
   "cell_type": "code",
   "execution_count": 50,
   "metadata": {},
   "outputs": [
    {
     "name": "stdout",
     "output_type": "stream",
     "text": [
      "456\n"
     ]
    }
   ],
   "source": [
    "print(d[123])"
   ]
  },
  {
   "cell_type": "markdown",
   "metadata": {},
   "source": [
    "### Dictionary Methods :\n"
   ]
  },
  {
   "cell_type": "code",
   "execution_count": 51,
   "metadata": {},
   "outputs": [
    {
     "name": "stdout",
     "output_type": "stream",
     "text": [
      "{'1234567890': ['05/01/2020', '9898989898', 'APSSDC', 'Bhimavaram'], '9876543210': ['Python', 'Earth', '01/01/2020', '0123456789'], '123456789': ['APSSDC', 'Visakhapatnam', '01/01/2020', '9876543210']}\n"
     ]
    }
   ],
   "source": [
    "print(d1)"
   ]
  },
  {
   "cell_type": "code",
   "execution_count": 52,
   "metadata": {},
   "outputs": [
    {
     "name": "stdout",
     "output_type": "stream",
     "text": [
      "dict_keys(['1234567890', '9876543210', '123456789'])\n"
     ]
    }
   ],
   "source": [
    "print(d1.keys())"
   ]
  },
  {
   "cell_type": "code",
   "execution_count": 53,
   "metadata": {},
   "outputs": [
    {
     "name": "stdout",
     "output_type": "stream",
     "text": [
      "dict_values([['05/01/2020', '9898989898', 'APSSDC', 'Bhimavaram'], ['Python', 'Earth', '01/01/2020', '0123456789'], ['APSSDC', 'Visakhapatnam', '01/01/2020', '9876543210']])\n"
     ]
    }
   ],
   "source": [
    "print(d1.values())"
   ]
  },
  {
   "cell_type": "code",
   "execution_count": 55,
   "metadata": {},
   "outputs": [
    {
     "name": "stdout",
     "output_type": "stream",
     "text": [
      "dict_items([('1234567890', ['05/01/2020', '9898989898', 'APSSDC', 'Bhimavaram']), ('9876543210', ['Python', 'Earth', '01/01/2020', '0123456789']), ('123456789', ['APSSDC', 'Visakhapatnam', '01/01/2020', '9876543210'])])\n"
     ]
    }
   ],
   "source": [
    "print(d1.items())"
   ]
  },
  {
   "cell_type": "code",
   "execution_count": 57,
   "metadata": {},
   "outputs": [
    {
     "name": "stdout",
     "output_type": "stream",
     "text": [
      "None\n"
     ]
    }
   ],
   "source": [
    "print(d1.get('123'))"
   ]
  },
  {
   "cell_type": "code",
   "execution_count": 58,
   "metadata": {},
   "outputs": [
    {
     "name": "stdout",
     "output_type": "stream",
     "text": [
      "key not available\n"
     ]
    }
   ],
   "source": [
    "print(d1.get('123', 'key not available'))"
   ]
  },
  {
   "cell_type": "code",
   "execution_count": 59,
   "metadata": {},
   "outputs": [
    {
     "name": "stdout",
     "output_type": "stream",
     "text": [
      "['05/01/2020', '9898989898', 'APSSDC', 'Bhimavaram']\n"
     ]
    }
   ],
   "source": [
    "print(d1.get('1234567890', 'key not available'))"
   ]
  },
  {
   "cell_type": "code",
   "execution_count": 67,
   "metadata": {},
   "outputs": [],
   "source": [
    "m21 = {'2_1' : [25, 55, 65, 77, 80, 69]}\n",
    "m31 = {'2_1' : [35, 55, 65, 77, 80, 60], '3_1' : [1, 2, 3, 4, 5]}\n",
    "m32 = {'2_1' : [50, 55, 65, 77, 80, 60], '3_2' : [6, 5, 3, 2, 1]}"
   ]
  },
  {
   "cell_type": "code",
   "execution_count": 68,
   "metadata": {},
   "outputs": [
    {
     "name": "stdout",
     "output_type": "stream",
     "text": [
      "{'2_1': [25, 55, 65, 77, 80, 69]}\n"
     ]
    }
   ],
   "source": [
    "\n",
    "print(m21)"
   ]
  },
  {
   "cell_type": "code",
   "execution_count": 69,
   "metadata": {},
   "outputs": [
    {
     "name": "stdout",
     "output_type": "stream",
     "text": [
      "{'2_1': [35, 55, 65, 77, 80, 60], '3_1': [1, 2, 3, 4, 5]}\n"
     ]
    }
   ],
   "source": [
    "m21.update(m31)\n",
    "print(m21)"
   ]
  },
  {
   "cell_type": "code",
   "execution_count": 70,
   "metadata": {},
   "outputs": [
    {
     "name": "stdout",
     "output_type": "stream",
     "text": [
      "{'2_1': [50, 55, 65, 77, 80, 60], '3_1': [1, 2, 3, 4, 5], '3_2': [6, 5, 3, 2, 1]}\n"
     ]
    }
   ],
   "source": [
    "m21.update(m32)\n",
    "print(m21)"
   ]
  },
  {
   "cell_type": "code",
   "execution_count": 72,
   "metadata": {},
   "outputs": [
    {
     "name": "stdout",
     "output_type": "stream",
     "text": [
      "{'RollNo': [50, 55, 65, 77, 80, 60], '3_2': [1, 2, 3, 4, 5]}\n"
     ]
    }
   ],
   "source": [
    "coopy = m21.copy()\n",
    "\n",
    "\n",
    "print(copy)"
   ]
  },
  {
   "cell_type": "code",
   "execution_count": 73,
   "metadata": {},
   "outputs": [
    {
     "name": "stdout",
     "output_type": "stream",
     "text": [
      "{'2_1': [35, 55, 65, 77, 80, 60], '3_1': [1, 2, 3, 4, 5]}\n"
     ]
    }
   ],
   "source": [
    "m21 = m31.copy()\n",
    "print(m21)"
   ]
  },
  {
   "cell_type": "code",
   "execution_count": 74,
   "metadata": {},
   "outputs": [
    {
     "name": "stdout",
     "output_type": "stream",
     "text": [
      "{}\n"
     ]
    }
   ],
   "source": [
    "m21.clear()\n",
    "print(m21)"
   ]
  },
  {
   "cell_type": "code",
   "execution_count": 75,
   "metadata": {},
   "outputs": [
    {
     "name": "stdout",
     "output_type": "stream",
     "text": [
      "[1, 2, 3, 4, 5]\n",
      "{'2_1': [35, 55, 65, 77, 80, 60]}\n"
     ]
    }
   ],
   "source": [
    "print(m31.pop(\"3_1\"))\n",
    "\n",
    "print(m31)"
   ]
  },
  {
   "cell_type": "code",
   "execution_count": 76,
   "metadata": {},
   "outputs": [
    {
     "name": "stdout",
     "output_type": "stream",
     "text": [
      "{'2_1': [50, 55, 65, 77, 80, 60], '3_2': [6, 5, 3, 2, 1]}\n"
     ]
    }
   ],
   "source": [
    "print(m32)"
   ]
  },
  {
   "cell_type": "code",
   "execution_count": 77,
   "metadata": {},
   "outputs": [
    {
     "name": "stdout",
     "output_type": "stream",
     "text": [
      "('3_2', [6, 5, 3, 2, 1])\n",
      "{'2_1': [50, 55, 65, 77, 80, 60]}\n"
     ]
    }
   ],
   "source": [
    "print(m32.popitem())\n",
    "\n",
    "print(m32)"
   ]
  },
  {
   "cell_type": "code",
   "execution_count": 78,
   "metadata": {},
   "outputs": [
    {
     "name": "stdout",
     "output_type": "stream",
     "text": [
      "1 2 3\n"
     ]
    }
   ],
   "source": [
    "li = [1, 2, 3]\n",
    "\n",
    "a, b, c = li\n",
    "\n",
    "print(a, b, c)"
   ]
  },
  {
   "cell_type": "code",
   "execution_count": 79,
   "metadata": {},
   "outputs": [
    {
     "ename": "ValueError",
     "evalue": "too many values to unpack (expected 2)",
     "output_type": "error",
     "traceback": [
      "\u001b[1;31m---------------------------------------------------------------------------\u001b[0m",
      "\u001b[1;31mValueError\u001b[0m                                Traceback (most recent call last)",
      "\u001b[1;32m<ipython-input-79-76d070971616>\u001b[0m in \u001b[0;36m<module>\u001b[1;34m\u001b[0m\n\u001b[1;32m----> 1\u001b[1;33m \u001b[0ma\u001b[0m\u001b[1;33m,\u001b[0m \u001b[0mb\u001b[0m \u001b[1;33m=\u001b[0m \u001b[1;33m[\u001b[0m\u001b[1;36m1\u001b[0m\u001b[1;33m,\u001b[0m\u001b[1;36m2\u001b[0m\u001b[1;33m,\u001b[0m\u001b[1;36m3\u001b[0m\u001b[1;33m]\u001b[0m\u001b[1;33m\u001b[0m\u001b[1;33m\u001b[0m\u001b[0m\n\u001b[0m",
      "\u001b[1;31mValueError\u001b[0m: too many values to unpack (expected 2)"
     ]
    }
   ],
   "source": [
    "a, b = [1,2,3]"
   ]
  },
  {
   "cell_type": "code",
   "execution_count": 80,
   "metadata": {},
   "outputs": [],
   "source": [
    "a, b = [1, 2]"
   ]
  },
  {
   "cell_type": "code",
   "execution_count": 81,
   "metadata": {},
   "outputs": [
    {
     "name": "stdout",
     "output_type": "stream",
     "text": [
      "1 2\n"
     ]
    }
   ],
   "source": [
    "print(a, b)"
   ]
  },
  {
   "cell_type": "code",
   "execution_count": 82,
   "metadata": {},
   "outputs": [
    {
     "name": "stdout",
     "output_type": "stream",
     "text": [
      "1 1 2 3\n"
     ]
    }
   ],
   "source": [
    "a, b, c, d = (1, 1, 2, 3)\n",
    "\n",
    "print(a, b, c, d)"
   ]
  },
  {
   "cell_type": "code",
   "execution_count": 84,
   "metadata": {},
   "outputs": [
    {
     "name": "stdout",
     "output_type": "stream",
     "text": [
      "[1, 1, 2, 3]\n"
     ]
    }
   ],
   "source": [
    "li2 = [a, b, c, d]\n",
    "print(li2)"
   ]
  },
  {
   "cell_type": "markdown",
   "metadata": {},
   "source": [
    "### Iterating :"
   ]
  },
  {
   "cell_type": "code",
   "execution_count": 85,
   "metadata": {},
   "outputs": [
    {
     "name": "stdout",
     "output_type": "stream",
     "text": [
      "1234567890\n",
      "9876543210\n",
      "123456789\n"
     ]
    }
   ],
   "source": [
    "for pair in d1 :\n",
    "    print(pair)"
   ]
  },
  {
   "cell_type": "code",
   "execution_count": 89,
   "metadata": {},
   "outputs": [
    {
     "name": "stdout",
     "output_type": "stream",
     "text": [
      "['05/01/2020', '9898989898', 'APSSDC', 'Bhimavaram']\n",
      "['Python', 'Earth', '01/01/2020', '0123456789']\n",
      "['APSSDC', 'Visakhapatnam', '01/01/2020', '9876543210']\n"
     ]
    }
   ],
   "source": [
    "for val in d1.values() :\n",
    "    print(val)"
   ]
  },
  {
   "cell_type": "code",
   "execution_count": 90,
   "metadata": {},
   "outputs": [
    {
     "name": "stdout",
     "output_type": "stream",
     "text": [
      "('1234567890', ['05/01/2020', '9898989898', 'APSSDC', 'Bhimavaram'])\n",
      "('9876543210', ['Python', 'Earth', '01/01/2020', '0123456789'])\n",
      "('123456789', ['APSSDC', 'Visakhapatnam', '01/01/2020', '9876543210'])\n"
     ]
    }
   ],
   "source": [
    "for pair in d1.items() :\n",
    "    print(pair)"
   ]
  },
  {
   "cell_type": "code",
   "execution_count": 91,
   "metadata": {},
   "outputs": [
    {
     "name": "stdout",
     "output_type": "stream",
     "text": [
      "['05/01/2020', '9898989898', 'APSSDC', 'Bhimavaram']\n",
      "['Python', 'Earth', '01/01/2020', '0123456789']\n",
      "['APSSDC', 'Visakhapatnam', '01/01/2020', '9876543210']\n"
     ]
    }
   ],
   "source": [
    "for pair in d1.items():\n",
    "    print(pair[1])"
   ]
  },
  {
   "cell_type": "code",
   "execution_count": 92,
   "metadata": {},
   "outputs": [
    {
     "name": "stdout",
     "output_type": "stream",
     "text": [
      "1234567890\n",
      "['05/01/2020', '9898989898', 'APSSDC', 'Bhimavaram']\n",
      "9876543210\n",
      "['Python', 'Earth', '01/01/2020', '0123456789']\n",
      "123456789\n",
      "['APSSDC', 'Visakhapatnam', '01/01/2020', '9876543210']\n"
     ]
    }
   ],
   "source": [
    "for key, value in d1.items() :\n",
    "    print(key)\n",
    "    print(value)"
   ]
  },
  {
   "cell_type": "markdown",
   "metadata": {},
   "source": [
    "#### {1:1, 2:4, 3:9, ........ 100:10000}"
   ]
  },
  {
   "cell_type": "code",
   "execution_count": 94,
   "metadata": {},
   "outputs": [
    {
     "name": "stdout",
     "output_type": "stream",
     "text": [
      "{1: 1, 2: 4, 3: 9, 4: 16, 5: 25, 6: 36, 7: 49, 8: 64, 9: 81, 10: 100, 11: 121, 12: 144, 13: 169, 14: 196, 15: 225, 16: 256, 17: 289, 18: 324, 19: 361, 20: 400, 21: 441, 22: 484, 23: 529, 24: 576, 25: 625, 26: 676, 27: 729, 28: 784, 29: 841, 30: 900, 31: 961, 32: 1024, 33: 1089, 34: 1156, 35: 1225, 36: 1296, 37: 1369, 38: 1444, 39: 1521, 40: 1600, 41: 1681, 42: 1764, 43: 1849, 44: 1936, 45: 2025, 46: 2116, 47: 2209, 48: 2304, 49: 2401, 50: 2500, 51: 2601, 52: 2704, 53: 2809, 54: 2916, 55: 3025, 56: 3136, 57: 3249, 58: 3364, 59: 3481, 60: 3600, 61: 3721, 62: 3844, 63: 3969, 64: 4096, 65: 4225, 66: 4356, 67: 4489, 68: 4624, 69: 4761, 70: 4900, 71: 5041, 72: 5184, 73: 5329, 74: 5476, 75: 5625, 76: 5776, 77: 5929, 78: 6084, 79: 6241, 80: 6400, 81: 6561, 82: 6724, 83: 6889, 84: 7056, 85: 7225, 86: 7396, 87: 7569, 88: 7744, 89: 7921, 90: 8100, 91: 8281, 92: 8464, 93: 8649, 94: 8836, 95: 9025, 96: 9216, 97: 9409, 98: 9604, 99: 9801, 100: 10000}\n"
     ]
    }
   ],
   "source": [
    "sq = {}\n",
    "\n",
    "for i in range(1, 101) :\n",
    "    sq[i] = i ** 2\n",
    "print(sq)"
   ]
  },
  {
   "cell_type": "code",
   "execution_count": 97,
   "metadata": {},
   "outputs": [
    {
     "name": "stdout",
     "output_type": "stream",
     "text": [
      "4--16--36--64--100--144--196--256--324--400--484--576--676--784--900--1024--1156--1296--1444--1600--1764--1936--2116--2304--2500--2704--2916--3136--3364--3600--3844--4096--4356--4624--4900--5184--5476--5776--6084--6400--6724--7056--7396--7744--8100--8464--8836--9216--9604--10000--"
     ]
    }
   ],
   "source": [
    "for key in sq :\n",
    "    if key % 2 == 0 :\n",
    "        print(sq[key], end = '--')"
   ]
  },
  {
   "cell_type": "markdown",
   "metadata": {},
   "source": [
    "## TASKS :\n",
    "\n",
    "\n",
    "- Character frequency inside the string.\n",
    "- Word frequency inside the string.\n"
   ]
  },
  {
   "cell_type": "code",
   "execution_count": 100,
   "metadata": {},
   "outputs": [],
   "source": [
    "s = \"\"\"\"Python is a widely used general-purpose, high level programming language. It was created by Guido van Rossum in 1991 and further developed by the Python Software Foundation. It was designed with an emphasis on code readability, and its syntax allows programmers to express their concepts in fewer lines of code.\"\"\""
   ]
  },
  {
   "cell_type": "markdown",
   "metadata": {},
   "source": [
    "char, char_count\n",
    "\n",
    "- [['p', 5], ['a', 10]]\n",
    "- {'p : 5, 'a' : '10}"
   ]
  },
  {
   "cell_type": "markdown",
   "metadata": {},
   "source": [
    "### Contact Application :\n",
    "\n",
    "{'Name' : ['Mobile1', 'mobile2', 'email', 'DOB', 'website']}\n",
    "\n",
    "Take the input from the user\n",
    "\n",
    "- 1.Create a contact -> key : value\n",
    "- 2.Add the contact to existing contact. -> Key -> Name\n",
    "- 3.Edit the contact. -> Key -> value.\n",
    "- 4.Delete the contact. -> Name\n",
    "- 5.View contact."
   ]
  },
  {
   "cell_type": "code",
   "execution_count": 118,
   "metadata": {},
   "outputs": [
    {
     "name": "stdout",
     "output_type": "stream",
     "text": [
      "Press the option below\n",
      "\n",
      "1.Create a contact \n",
      "2.Add the contact to existing contact. \n",
      "3.Edit the contact.\n",
      "4.Delete the contact.\n",
      "5.view contact2\n"
     ]
    }
   ],
   "source": [
    "Option = input(\"\"\"Press the option below\n",
    "\n",
    "1.Create a contact \n",
    "2.Add the contact to existing contact. \n",
    "3.Edit the contact.\n",
    "4.Delete the contact.\n",
    "5.view contact\"\"\")"
   ]
  },
  {
   "cell_type": "code",
   "execution_count": 111,
   "metadata": {},
   "outputs": [],
   "source": [
    "contact = {}"
   ]
  },
  {
   "cell_type": "code",
   "execution_count": 116,
   "metadata": {},
   "outputs": [
    {
     "name": "stdout",
     "output_type": "stream",
     "text": [
      "Enter contact name : Python\n",
      "Enter details with space seperate : 9876543210 python@gmail.com 01/01/2021\n"
     ]
    }
   ],
   "source": [
    "if Option == '1' :\n",
    "    key = input('Enter contact name : ')\n",
    "    value = input(\"Enter details with space seperate : \").split()\n",
    "    contact[key] = value"
   ]
  },
  {
   "cell_type": "code",
   "execution_count": 117,
   "metadata": {},
   "outputs": [
    {
     "name": "stdout",
     "output_type": "stream",
     "text": [
      "{'Python': ['9876543210', 'python@gmail.com', '01/01/2021']}\n"
     ]
    }
   ],
   "source": [
    "print(contact)"
   ]
  },
  {
   "cell_type": "code",
   "execution_count": 122,
   "metadata": {},
   "outputs": [
    {
     "name": "stdout",
     "output_type": "stream",
     "text": [
      "Enter the name to add the existingPython\n",
      "Enter the data to update1234567890\n"
     ]
    },
    {
     "ename": "TypeError",
     "evalue": "'builtin_function_or_method' object is not iterable",
     "output_type": "error",
     "traceback": [
      "\u001b[1;31m---------------------------------------------------------------------------\u001b[0m",
      "\u001b[1;31mTypeError\u001b[0m                                 Traceback (most recent call last)",
      "\u001b[1;32m<ipython-input-122-a3e0705effa3>\u001b[0m in \u001b[0;36m<module>\u001b[1;34m\u001b[0m\n\u001b[0;32m      3\u001b[0m     \u001b[1;32mif\u001b[0m \u001b[0mname\u001b[0m \u001b[1;32min\u001b[0m \u001b[0mcontact\u001b[0m \u001b[1;33m:\u001b[0m\u001b[1;33m\u001b[0m\u001b[1;33m\u001b[0m\u001b[0m\n\u001b[0;32m      4\u001b[0m         \u001b[0mdata\u001b[0m \u001b[1;33m=\u001b[0m \u001b[0minput\u001b[0m\u001b[1;33m(\u001b[0m\u001b[1;34m'Enter the data to update'\u001b[0m\u001b[1;33m)\u001b[0m\u001b[1;33m.\u001b[0m\u001b[0msplit\u001b[0m\u001b[1;33m\u001b[0m\u001b[1;33m\u001b[0m\u001b[0m\n\u001b[1;32m----> 5\u001b[1;33m         \u001b[0mcontact\u001b[0m\u001b[1;33m[\u001b[0m\u001b[0mname\u001b[0m\u001b[1;33m]\u001b[0m\u001b[1;33m.\u001b[0m\u001b[0mextend\u001b[0m\u001b[1;33m(\u001b[0m\u001b[0mdata\u001b[0m\u001b[1;33m)\u001b[0m\u001b[1;33m\u001b[0m\u001b[1;33m\u001b[0m\u001b[0m\n\u001b[0m\u001b[0;32m      6\u001b[0m     \u001b[1;32melse\u001b[0m \u001b[1;33m:\u001b[0m\u001b[1;33m\u001b[0m\u001b[1;33m\u001b[0m\u001b[0m\n\u001b[0;32m      7\u001b[0m         \u001b[0mprint\u001b[0m\u001b[1;33m(\u001b[0m\u001b[0mname\u001b[0m\u001b[1;33m,\u001b[0m \u001b[1;34m'Contact is available'\u001b[0m\u001b[1;33m)\u001b[0m\u001b[1;33m\u001b[0m\u001b[1;33m\u001b[0m\u001b[0m\n",
      "\u001b[1;31mTypeError\u001b[0m: 'builtin_function_or_method' object is not iterable"
     ]
    }
   ],
   "source": [
    "if Option == '2' :\n",
    "    name = input('Enter the name to add the existing')\n",
    "    if name in contact :\n",
    "        data = input('Enter the data to update').split\n",
    "        contact[name].extend(data)\n",
    "    else :\n",
    "        print(name, 'Contact is available')"
   ]
  },
  {
   "cell_type": "code",
   "execution_count": 123,
   "metadata": {},
   "outputs": [
    {
     "name": "stdout",
     "output_type": "stream",
     "text": [
      "{'Python': ['9876543210', 'python@gmail.com', '01/01/2021']}\n"
     ]
    }
   ],
   "source": [
    "print(contact)"
   ]
  },
  {
   "cell_type": "code",
   "execution_count": null,
   "metadata": {},
   "outputs": [],
   "source": []
  }
 ],
 "metadata": {
  "kernelspec": {
   "display_name": "Python 3",
   "language": "python",
   "name": "python3"
  },
  "language_info": {
   "codemirror_mode": {
    "name": "ipython",
    "version": 3
   },
   "file_extension": ".py",
   "mimetype": "text/x-python",
   "name": "python",
   "nbconvert_exporter": "python",
   "pygments_lexer": "ipython3",
   "version": "3.7.6"
  }
 },
 "nbformat": 4,
 "nbformat_minor": 5
}
