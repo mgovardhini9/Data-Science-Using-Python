{
 "cells": [
  {
   "cell_type": "markdown",
   "metadata": {},
   "source": [
    "## Data science Life cycle:\n",
    "\n",
    "Involves 6-7 steps:\n",
    "1. Business Understanding.\n",
    "2. Data Preparation.\n",
    "3. Data Munging/ Data Wrangling.\n",
    "    - feature selection.\n",
    "    - EDA tool.\n",
    "4. Model trianing.\n",
    "5. Model evaluation.\n",
    "6. Model Deployment.\n",
    "    - aws\n",
    "    - IBM watson studio.\n",
    "7. Model tracking."
   ]
  },
  {
   "cell_type": "markdown",
   "metadata": {},
   "source": [
    "## Data Analysis Libraries:\n",
    "- Numpy\n",
    "- Pandas\n",
    "- Matplotlib\n",
    "- Seaborn\n",
    "- Scipy"
   ]
  },
  {
   "cell_type": "markdown",
   "metadata": {},
   "source": [
    "## Numpy: \n",
    "- Numerical Python.\n",
    "- Developed in 2005 by Travis oliphant.\n",
    "    - Zero dimensional array.\n",
    "    - Single dimensional array.\n",
    "    - Two dimensional array.\n",
    "    - Multi dimensional array.\n",
    "- linear algebra, Fourier transforms, materics."
   ]
  },
  {
   "cell_type": "code",
   "execution_count": 3,
   "metadata": {},
   "outputs": [],
   "source": [
    "import numpy"
   ]
  },
  {
   "cell_type": "code",
   "execution_count": 4,
   "metadata": {},
   "outputs": [
    {
     "name": "stdout",
     "output_type": "stream",
     "text": [
      "Requirement already satisfied: numpy in c:\\users\\bhagy\\anaconda3\\lib\\site-packages (1.20.1)\n",
      "Note: you may need to restart the kernel to use updated packages.\n"
     ]
    }
   ],
   "source": [
    "pip install numpy"
   ]
  },
  {
   "cell_type": "code",
   "execution_count": 5,
   "metadata": {},
   "outputs": [],
   "source": [
    "import numpy as np"
   ]
  },
  {
   "cell_type": "code",
   "execution_count": 6,
   "metadata": {},
   "outputs": [
    {
     "data": {
      "text/plain": [
       "'1.20.1'"
      ]
     },
     "execution_count": 6,
     "metadata": {},
     "output_type": "execute_result"
    }
   ],
   "source": [
    "np.__version__"
   ]
  },
  {
   "cell_type": "markdown",
   "metadata": {},
   "source": [
    "## Creating Array's:"
   ]
  },
  {
   "cell_type": "code",
   "execution_count": 7,
   "metadata": {},
   "outputs": [
    {
     "name": "stdout",
     "output_type": "stream",
     "text": [
      "23\n"
     ]
    }
   ],
   "source": [
    "import numpy as np\n",
    "x = np.array(23)\n",
    "print(x)"
   ]
  },
  {
   "cell_type": "code",
   "execution_count": 9,
   "metadata": {},
   "outputs": [
    {
     "data": {
      "text/plain": [
       "0"
      ]
     },
     "execution_count": 9,
     "metadata": {},
     "output_type": "execute_result"
    }
   ],
   "source": [
    "# check dimension.\n",
    "np.ndim(x)"
   ]
  },
  {
   "cell_type": "code",
   "execution_count": 10,
   "metadata": {},
   "outputs": [
    {
     "name": "stdout",
     "output_type": "stream",
     "text": [
      "[12 23  4  5  6]\n",
      "1\n"
     ]
    }
   ],
   "source": [
    "# 1D-array\n",
    "\n",
    "x1 = np.array([12, 23, 4, 5, 6])\n",
    "print(x1)\n",
    "print(np.ndim(x1))"
   ]
  },
  {
   "cell_type": "code",
   "execution_count": 14,
   "metadata": {},
   "outputs": [
    {
     "name": "stdout",
     "output_type": "stream",
     "text": [
      "[[ 1 22  5]\n",
      " [ 1  3  4]]\n",
      "dimension of x2: 2\n"
     ]
    }
   ],
   "source": [
    "# 2D-array\n",
    "\n",
    "x2 = np.array([[1, 22, 5], [1, 3, 4]])\n",
    "print(x2)\n",
    "print(\"dimension of x2:\",np.ndim(x2))"
   ]
  },
  {
   "cell_type": "code",
   "execution_count": 15,
   "metadata": {},
   "outputs": [
    {
     "data": {
      "text/plain": [
       "6"
      ]
     },
     "execution_count": 15,
     "metadata": {},
     "output_type": "execute_result"
    }
   ],
   "source": [
    "# to get the number of elements in x2 array\n",
    "\n",
    "np.size(x2)"
   ]
  },
  {
   "cell_type": "code",
   "execution_count": 17,
   "metadata": {},
   "outputs": [
    {
     "name": "stdout",
     "output_type": "stream",
     "text": [
      "number of rows and columns in x2: (2, 3)\n"
     ]
    }
   ],
   "source": [
    "# To get number of rows and columns\n",
    "\n",
    "print(\"number of rows and columns in x2:\",np.shape(x2))"
   ]
  },
  {
   "cell_type": "markdown",
   "metadata": {},
   "source": [
    "### 3D-array\n",
    "\n",
    "- `[ [ [ ] ] ]`"
   ]
  },
  {
   "cell_type": "code",
   "execution_count": 18,
   "metadata": {},
   "outputs": [
    {
     "name": "stdout",
     "output_type": "stream",
     "text": [
      "[[[1 2 3]\n",
      "  [4 5 6]\n",
      "  [7 8 9]]]\n",
      "Dimension of x3: 3\n",
      "Elements of x3: 9\n",
      "Shape of x3: (1, 3, 3)\n"
     ]
    }
   ],
   "source": [
    "import numpy as np\n",
    "x3 = np.array([[[1, 2, 3],[4, 5, 6], [7, 8, 9]]])\n",
    "print(x3)\n",
    "print(\"Dimension of x3:\",np.ndim(x3))\n",
    "print(\"Elements of x3:\", np.size(x3))\n",
    "print(\"Shape of x3:\", np.shape(x3))"
   ]
  },
  {
   "cell_type": "markdown",
   "metadata": {},
   "source": [
    "## Methods to create arrays\n",
    "- Zeros\n",
    "- Ones\n",
    "- Linspace\n",
    "- Logspace\n",
    "- Arange\n",
    "- randon.rand"
   ]
  },
  {
   "cell_type": "code",
   "execution_count": 26,
   "metadata": {},
   "outputs": [
    {
     "data": {
      "text/plain": [
       "array([0, 0, 0])"
      ]
     },
     "execution_count": 26,
     "metadata": {},
     "output_type": "execute_result"
    }
   ],
   "source": [
    "a0 = np.zeros(3, dtype = int)\n",
    "a0"
   ]
  },
  {
   "cell_type": "code",
   "execution_count": 27,
   "metadata": {},
   "outputs": [
    {
     "data": {
      "text/plain": [
       "array([1, 1, 1, 1, 1])"
      ]
     },
     "execution_count": 27,
     "metadata": {},
     "output_type": "execute_result"
    }
   ],
   "source": [
    "a1 = np.ones(5, dtype = int)\n",
    "a1"
   ]
  },
  {
   "cell_type": "code",
   "execution_count": 30,
   "metadata": {},
   "outputs": [
    {
     "name": "stdout",
     "output_type": "stream",
     "text": [
      "[1 1 1 1 1]\n",
      "reshape of a1 into a2: [[1]\n",
      " [1]\n",
      " [1]\n",
      " [1]\n",
      " [1]]\n",
      "reshape of a1 into a3: [[1 1 1 1 1]]\n"
     ]
    }
   ],
   "source": [
    "a1 = np.ones(5, dtype = int)\n",
    "print(a1)\n",
    "a2 = a1.reshape(5, 1)\n",
    "print(\"reshape of a1 into a2:\", a2)\n",
    "a3 = a1.reshape(1, 5)\n",
    "print(\"reshape of a1 into a3:\", a3)"
   ]
  },
  {
   "cell_type": "code",
   "execution_count": 35,
   "metadata": {},
   "outputs": [
    {
     "name": "stdout",
     "output_type": "stream",
     "text": [
      "[ 1  3  5  7  9 11]\n",
      "Dimension: 1\n",
      "Elements: 6\n"
     ]
    }
   ],
   "source": [
    "# 1 is start value, 10 is stop value, 2 is step value.\n",
    "\n",
    "a = np.arange(1, 12, 2)\n",
    "print(a)\n",
    "print(\"Dimension:\", np.ndim(a))\n",
    "print(\"Elements:\", np.size(a))"
   ]
  },
  {
   "cell_type": "markdown",
   "metadata": {},
   "source": [
    "### possibililties to reshape 6 elements\n",
    "- (1, 6)\n",
    "- (2, 3)\n",
    "- (3, 2)\n",
    "- (6, 1)\n",
    "\n"
   ]
  },
  {
   "cell_type": "code",
   "execution_count": 39,
   "metadata": {},
   "outputs": [
    {
     "name": "stdout",
     "output_type": "stream",
     "text": [
      "[ 1  3  5  7  9 11]\n",
      "[[ 1  3  5]\n",
      " [ 7  9 11]]\n"
     ]
    }
   ],
   "source": [
    "a1 = a.reshape(2, 3)\n",
    "print(a)\n",
    "print(a1)"
   ]
  },
  {
   "cell_type": "code",
   "execution_count": 40,
   "metadata": {},
   "outputs": [
    {
     "ename": "ValueError",
     "evalue": "cannot reshape array of size 6 into shape (2,6)",
     "output_type": "error",
     "traceback": [
      "\u001b[1;31m---------------------------------------------------------------------------\u001b[0m",
      "\u001b[1;31mValueError\u001b[0m                                Traceback (most recent call last)",
      "\u001b[1;32m<ipython-input-40-e3cd4914cca1>\u001b[0m in \u001b[0;36m<module>\u001b[1;34m\u001b[0m\n\u001b[1;32m----> 1\u001b[1;33m \u001b[0ma1\u001b[0m \u001b[1;33m=\u001b[0m \u001b[0ma\u001b[0m\u001b[1;33m.\u001b[0m\u001b[0mreshape\u001b[0m\u001b[1;33m(\u001b[0m\u001b[1;36m2\u001b[0m\u001b[1;33m,\u001b[0m \u001b[1;36m6\u001b[0m\u001b[1;33m)\u001b[0m\u001b[1;33m\u001b[0m\u001b[1;33m\u001b[0m\u001b[0m\n\u001b[0m",
      "\u001b[1;31mValueError\u001b[0m: cannot reshape array of size 6 into shape (2,6)"
     ]
    }
   ],
   "source": [
    "a1 = a.reshape(2, 6)"
   ]
  },
  {
   "cell_type": "code",
   "execution_count": 43,
   "metadata": {},
   "outputs": [
    {
     "name": "stdout",
     "output_type": "stream",
     "text": [
      "[1.00000000e+01 1.20679264e+01 1.45634848e+01 1.75751062e+01\n",
      " 2.12095089e+01 2.55954792e+01 3.08884360e+01 3.72759372e+01\n",
      " 4.49843267e+01 5.42867544e+01 6.55128557e+01 7.90604321e+01\n",
      " 9.54095476e+01 1.15139540e+02 1.38949549e+02 1.67683294e+02\n",
      " 2.02358965e+02 2.44205309e+02 2.94705170e+02 3.55648031e+02\n",
      " 4.29193426e+02 5.17947468e+02 6.25055193e+02 7.54312006e+02\n",
      " 9.10298178e+02 1.09854114e+03 1.32571137e+03 1.59985872e+03\n",
      " 1.93069773e+03 2.32995181e+03 2.81176870e+03 3.39322177e+03\n",
      " 4.09491506e+03 4.94171336e+03 5.96362332e+03 7.19685673e+03\n",
      " 8.68511374e+03 1.04811313e+04 1.26485522e+04 1.52641797e+04\n",
      " 1.84206997e+04 2.22299648e+04 2.68269580e+04 3.23745754e+04\n",
      " 3.90693994e+04 4.71486636e+04 5.68986603e+04 6.86648845e+04\n",
      " 8.28642773e+04 1.00000000e+05]\n"
     ]
    }
   ],
   "source": [
    "l1 = np.logspace(1, 5)\n",
    "print(l1)"
   ]
  },
  {
   "cell_type": "code",
   "execution_count": 44,
   "metadata": {},
   "outputs": [
    {
     "name": "stdout",
     "output_type": "stream",
     "text": [
      "[1.e+01 1.e+03 1.e+05]\n"
     ]
    }
   ],
   "source": [
    "l1 = np.logspace(1, 5, 3)\n",
    "print(l1)"
   ]
  },
  {
   "cell_type": "code",
   "execution_count": 47,
   "metadata": {},
   "outputs": [
    {
     "name": "stdout",
     "output_type": "stream",
     "text": [
      "[10.]\n"
     ]
    }
   ],
   "source": [
    "l1 = np.logspace(1, 5, 1)\n",
    "print(l1)"
   ]
  },
  {
   "cell_type": "code",
   "execution_count": 50,
   "metadata": {},
   "outputs": [
    {
     "data": {
      "text/plain": [
       "array([1. , 1.8, 2.6, 3.4, 4.2, 5. ])"
      ]
     },
     "execution_count": 50,
     "metadata": {},
     "output_type": "execute_result"
    }
   ],
   "source": [
    "l2 = np.linspace(1, 5, 6)\n",
    "l2"
   ]
  },
  {
   "cell_type": "code",
   "execution_count": 56,
   "metadata": {},
   "outputs": [
    {
     "name": "stdout",
     "output_type": "stream",
     "text": [
      "[[0.50392341 0.51529964]]\n"
     ]
    }
   ],
   "source": [
    "r = np.random.rand(1, 2)\n",
    "print(r)"
   ]
  },
  {
   "cell_type": "code",
   "execution_count": 57,
   "metadata": {},
   "outputs": [
    {
     "name": "stdout",
     "output_type": "stream",
     "text": [
      "8\n"
     ]
    }
   ],
   "source": [
    "r1 = np.random.randint(1, 10)\n",
    "print(r1)"
   ]
  },
  {
   "cell_type": "code",
   "execution_count": 58,
   "metadata": {},
   "outputs": [
    {
     "data": {
      "text/plain": [
       "array([[-1.17151248,  2.01121977,  0.39785513, -0.0493953 , -0.73483266,\n",
       "         1.03487683,  0.08119897,  0.46941515, -0.26064149,  0.27198548]])"
      ]
     },
     "execution_count": 58,
     "metadata": {},
     "output_type": "execute_result"
    }
   ],
   "source": [
    "r2 = np.random.randn(1, 10)\n",
    "r2"
   ]
  },
  {
   "cell_type": "code",
   "execution_count": 59,
   "metadata": {},
   "outputs": [
    {
     "data": {
      "text/plain": [
       "2"
      ]
     },
     "execution_count": 59,
     "metadata": {},
     "output_type": "execute_result"
    }
   ],
   "source": [
    "np.ndim(r2)"
   ]
  },
  {
   "cell_type": "code",
   "execution_count": 62,
   "metadata": {},
   "outputs": [
    {
     "data": {
      "text/plain": [
       "array([-1.17151248,  2.01121977,  0.39785513, -0.0493953 , -0.73483266,\n",
       "        1.03487683,  0.08119897,  0.46941515, -0.26064149,  0.27198548])"
      ]
     },
     "execution_count": 62,
     "metadata": {},
     "output_type": "execute_result"
    }
   ],
   "source": [
    "r3 = r2.flatten()\n",
    "r3"
   ]
  },
  {
   "cell_type": "code",
   "execution_count": 63,
   "metadata": {},
   "outputs": [
    {
     "data": {
      "text/plain": [
       "1"
      ]
     },
     "execution_count": 63,
     "metadata": {},
     "output_type": "execute_result"
    }
   ],
   "source": [
    "np.ndim(r3)"
   ]
  },
  {
   "cell_type": "markdown",
   "metadata": {},
   "source": [
    "## Accessing elements in arrays:\n",
    "1. indexing\n",
    "    - +ve\n",
    "    - -ve\n",
    "2. slicing -[start:stop:step]\n",
    "3. loop\n",
    "    - for\n",
    "    - while"
   ]
  },
  {
   "cell_type": "code",
   "execution_count": null,
   "metadata": {},
   "outputs": [],
   "source": []
  }
 ],
 "metadata": {
  "kernelspec": {
   "display_name": "Python 3",
   "language": "python",
   "name": "python3"
  },
  "language_info": {
   "codemirror_mode": {
    "name": "ipython",
    "version": 3
   },
   "file_extension": ".py",
   "mimetype": "text/x-python",
   "name": "python",
   "nbconvert_exporter": "python",
   "pygments_lexer": "ipython3",
   "version": "3.7.6"
  }
 },
 "nbformat": 4,
 "nbformat_minor": 5
}
