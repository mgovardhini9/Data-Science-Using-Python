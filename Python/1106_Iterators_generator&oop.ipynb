{
 "cells": [
  {
   "cell_type": "markdown",
   "metadata": {},
   "source": [
    "### ITERATORS :\n",
    "\n",
    "list, string, tuple, set, dictionary."
   ]
  },
  {
   "cell_type": "markdown",
   "metadata": {},
   "source": [
    "50 l need \n",
    "100 l need 25 char"
   ]
  },
  {
   "cell_type": "code",
   "execution_count": 1,
   "metadata": {},
   "outputs": [],
   "source": [
    "s = \"\"\"Python is an interpreted high-level general-purpose programming language. Python's design philosophy emphasizes code readability with its notable use of significant indentation. Wikipedia\n",
    "Developer: Python Software Foundation\n",
    "Stable release: 3.9.5 / 3 May 2021; 19 days ago\n",
    "Preview release: 3.10.0b1 / 3 May 2021; 19 days ago\n",
    "Typing discipline: Duck, dynamic, strong typing; gradual (since 3.5, but ignored in CPython)\n",
    "First appeared: February 1991; 30 years ago\n",
    "Paradigm: Multi-paradigm: object-oriented, procedural (imperative), functional, structured, reflective\"\"\""
   ]
  },
  {
   "cell_type": "code",
   "execution_count": 2,
   "metadata": {},
   "outputs": [
    {
     "name": "stdout",
     "output_type": "stream",
     "text": [
      "<str_iterator object at 0x0000014CBD08A220>\n"
     ]
    }
   ],
   "source": [
    "it = iter(s)\n",
    "\n",
    "print(it)"
   ]
  },
  {
   "cell_type": "code",
   "execution_count": 3,
   "metadata": {},
   "outputs": [
    {
     "data": {
      "text/plain": [
       "'P'"
      ]
     },
     "execution_count": 3,
     "metadata": {},
     "output_type": "execute_result"
    }
   ],
   "source": [
    "next(it)"
   ]
  },
  {
   "cell_type": "code",
   "execution_count": 4,
   "metadata": {},
   "outputs": [
    {
     "name": "stdout",
     "output_type": "stream",
     "text": [
      "y\n"
     ]
    }
   ],
   "source": [
    "print(next(it))"
   ]
  },
  {
   "cell_type": "code",
   "execution_count": 5,
   "metadata": {
    "collapsed": true
   },
   "outputs": [
    {
     "name": "stdout",
     "output_type": "stream",
     "text": [
      "t\n",
      "h\n",
      "o\n",
      "n\n",
      " \n",
      "i\n",
      "s\n",
      " \n",
      "a\n",
      "n\n"
     ]
    }
   ],
   "source": [
    "for i in range(10) :\n",
    "    print(next(it))"
   ]
  },
  {
   "cell_type": "code",
   "execution_count": 6,
   "metadata": {},
   "outputs": [
    {
     "data": {
      "text/plain": [
       "' '"
      ]
     },
     "execution_count": 6,
     "metadata": {},
     "output_type": "execute_result"
    }
   ],
   "source": [
    "next(it)"
   ]
  },
  {
   "cell_type": "code",
   "execution_count": 7,
   "metadata": {},
   "outputs": [
    {
     "data": {
      "text/plain": [
       "'i'"
      ]
     },
     "execution_count": 7,
     "metadata": {},
     "output_type": "execute_result"
    }
   ],
   "source": [
    "next(it)"
   ]
  },
  {
   "cell_type": "code",
   "execution_count": 12,
   "metadata": {},
   "outputs": [],
   "source": [
    "it1 = iter('Python')\n",
    "it2 = 'python'"
   ]
  },
  {
   "cell_type": "code",
   "execution_count": 13,
   "metadata": {},
   "outputs": [
    {
     "name": "stdout",
     "output_type": "stream",
     "text": [
      "P\n",
      "y\n",
      "t\n",
      "h\n",
      "o\n",
      "n\n"
     ]
    }
   ],
   "source": [
    "for i in it1 :\n",
    "    print(i)"
   ]
  },
  {
   "cell_type": "code",
   "execution_count": 14,
   "metadata": {
    "collapsed": true
   },
   "outputs": [
    {
     "name": "stdout",
     "output_type": "stream",
     "text": [
      "p\n",
      "y\n",
      "t\n",
      "h\n",
      "o\n",
      "n\n"
     ]
    }
   ],
   "source": [
    "for j in it2 :\n",
    "    print(j)"
   ]
  },
  {
   "cell_type": "code",
   "execution_count": 15,
   "metadata": {
    "collapsed": true
   },
   "outputs": [
    {
     "ename": "StopIteration",
     "evalue": "",
     "output_type": "error",
     "traceback": [
      "\u001b[1;31m---------------------------------------------------------------------------\u001b[0m",
      "\u001b[1;31mStopIteration\u001b[0m                             Traceback (most recent call last)",
      "\u001b[1;32m<ipython-input-15-a1664e0d0ec1>\u001b[0m in \u001b[0;36m<module>\u001b[1;34m\u001b[0m\n\u001b[1;32m----> 1\u001b[1;33m \u001b[0mprint\u001b[0m\u001b[1;33m(\u001b[0m\u001b[0mnext\u001b[0m\u001b[1;33m(\u001b[0m\u001b[0mit1\u001b[0m\u001b[1;33m)\u001b[0m\u001b[1;33m)\u001b[0m\u001b[1;33m\u001b[0m\u001b[1;33m\u001b[0m\u001b[0m\n\u001b[0m",
      "\u001b[1;31mStopIteration\u001b[0m: "
     ]
    }
   ],
   "source": [
    "print(next(it1))"
   ]
  },
  {
   "cell_type": "code",
   "execution_count": 16,
   "metadata": {},
   "outputs": [],
   "source": [
    "for i in it1 :\n",
    "    print(i)\n",
    "    "
   ]
  },
  {
   "cell_type": "code",
   "execution_count": 17,
   "metadata": {
    "collapsed": true
   },
   "outputs": [
    {
     "name": "stdout",
     "output_type": "stream",
     "text": [
      "p\n",
      "y\n",
      "t\n",
      "h\n",
      "o\n",
      "n\n"
     ]
    }
   ],
   "source": [
    "for j in it2 :\n",
    "    print(j)"
   ]
  },
  {
   "cell_type": "code",
   "execution_count": 30,
   "metadata": {},
   "outputs": [],
   "source": [
    "li = [1, 2, 3, 4, 5, 6]\n",
    "li2 = iter([1, 2, 3, 4, 5, 6])"
   ]
  },
  {
   "cell_type": "code",
   "execution_count": 31,
   "metadata": {},
   "outputs": [
    {
     "name": "stdout",
     "output_type": "stream",
     "text": [
      "[1, 2, 3, 4, 5, 6] <list_iterator object at 0x0000014CBD08A880>\n"
     ]
    }
   ],
   "source": [
    "print(li, li2)"
   ]
  },
  {
   "cell_type": "code",
   "execution_count": 32,
   "metadata": {},
   "outputs": [
    {
     "data": {
      "text/plain": [
       "1"
      ]
     },
     "execution_count": 32,
     "metadata": {},
     "output_type": "execute_result"
    }
   ],
   "source": [
    "next(li2)"
   ]
  },
  {
   "cell_type": "code",
   "execution_count": 33,
   "metadata": {},
   "outputs": [
    {
     "name": "stdout",
     "output_type": "stream",
     "text": [
      "2\n"
     ]
    }
   ],
   "source": [
    "print(next(li2))"
   ]
  },
  {
   "cell_type": "code",
   "execution_count": 34,
   "metadata": {},
   "outputs": [
    {
     "name": "stdout",
     "output_type": "stream",
     "text": [
      "3\n"
     ]
    }
   ],
   "source": [
    "print(next(li2))\n"
   ]
  },
  {
   "cell_type": "code",
   "execution_count": 37,
   "metadata": {},
   "outputs": [
    {
     "name": "stdout",
     "output_type": "stream",
     "text": [
      "6\n"
     ]
    }
   ],
   "source": [
    "print(next(li2))"
   ]
  },
  {
   "cell_type": "code",
   "execution_count": 38,
   "metadata": {},
   "outputs": [
    {
     "ename": "StopIteration",
     "evalue": "",
     "output_type": "error",
     "traceback": [
      "\u001b[1;31m---------------------------------------------------------------------------\u001b[0m",
      "\u001b[1;31mStopIteration\u001b[0m                             Traceback (most recent call last)",
      "\u001b[1;32m<ipython-input-38-a51a8cea1203>\u001b[0m in \u001b[0;36m<module>\u001b[1;34m\u001b[0m\n\u001b[1;32m----> 1\u001b[1;33m \u001b[0mnext\u001b[0m\u001b[1;33m(\u001b[0m\u001b[0mli2\u001b[0m\u001b[1;33m)\u001b[0m\u001b[1;33m\u001b[0m\u001b[1;33m\u001b[0m\u001b[0m\n\u001b[0m",
      "\u001b[1;31mStopIteration\u001b[0m: "
     ]
    }
   ],
   "source": [
    "next(li2)"
   ]
  },
  {
   "cell_type": "code",
   "execution_count": 39,
   "metadata": {},
   "outputs": [
    {
     "name": "stdout",
     "output_type": "stream",
     "text": [
      "[1, 2, 3, 4, 5, 6]\n"
     ]
    }
   ],
   "source": [
    "print(li)"
   ]
  },
  {
   "cell_type": "code",
   "execution_count": 40,
   "metadata": {},
   "outputs": [],
   "source": [
    "li2 = iter([1, 2, 3, 4, 5, 6])"
   ]
  },
  {
   "cell_type": "code",
   "execution_count": 41,
   "metadata": {},
   "outputs": [
    {
     "name": "stdout",
     "output_type": "stream",
     "text": [
      "1\n",
      "2\n",
      "3\n"
     ]
    }
   ],
   "source": [
    "for i in range(3) :\n",
    "    print(next(li2))"
   ]
  },
  {
   "cell_type": "code",
   "execution_count": 43,
   "metadata": {},
   "outputs": [
    {
     "ename": "StopIteration",
     "evalue": "",
     "output_type": "error",
     "traceback": [
      "\u001b[1;31m---------------------------------------------------------------------------\u001b[0m",
      "\u001b[1;31mStopIteration\u001b[0m                             Traceback (most recent call last)",
      "\u001b[1;32m<ipython-input-43-a4e1a6f37ffb>\u001b[0m in \u001b[0;36m<module>\u001b[1;34m\u001b[0m\n\u001b[0;32m      1\u001b[0m \u001b[1;32mfor\u001b[0m \u001b[0mi\u001b[0m \u001b[1;32min\u001b[0m \u001b[0mrange\u001b[0m\u001b[1;33m(\u001b[0m\u001b[1;36m3\u001b[0m\u001b[1;33m)\u001b[0m \u001b[1;33m:\u001b[0m\u001b[1;33m\u001b[0m\u001b[1;33m\u001b[0m\u001b[0m\n\u001b[1;32m----> 2\u001b[1;33m     \u001b[0mprint\u001b[0m\u001b[1;33m(\u001b[0m\u001b[0mnext\u001b[0m\u001b[1;33m(\u001b[0m\u001b[0mli2\u001b[0m\u001b[1;33m)\u001b[0m\u001b[1;33m)\u001b[0m\u001b[1;33m\u001b[0m\u001b[1;33m\u001b[0m\u001b[0m\n\u001b[0m",
      "\u001b[1;31mStopIteration\u001b[0m: "
     ]
    }
   ],
   "source": [
    "for i in range(3) :\n",
    "    print(next(li2))"
   ]
  },
  {
   "cell_type": "markdown",
   "metadata": {},
   "source": [
    "### GENERATOR :"
   ]
  },
  {
   "cell_type": "code",
   "execution_count": 54,
   "metadata": {},
   "outputs": [],
   "source": [
    "def gen() :\n",
    "    a = 10\n",
    "    yield a\n",
    "    \n",
    "    a **= 5\n",
    "    yield a\n",
    "    \n",
    "    a **= 10\n",
    "    yield a"
   ]
  },
  {
   "cell_type": "code",
   "execution_count": 55,
   "metadata": {},
   "outputs": [],
   "source": [
    "g = gen()\n"
   ]
  },
  {
   "cell_type": "code",
   "execution_count": 56,
   "metadata": {},
   "outputs": [
    {
     "data": {
      "text/plain": [
       "10"
      ]
     },
     "execution_count": 56,
     "metadata": {},
     "output_type": "execute_result"
    }
   ],
   "source": [
    "next(g)"
   ]
  },
  {
   "cell_type": "code",
   "execution_count": 57,
   "metadata": {},
   "outputs": [
    {
     "data": {
      "text/plain": [
       "100000"
      ]
     },
     "execution_count": 57,
     "metadata": {},
     "output_type": "execute_result"
    }
   ],
   "source": [
    "next(g)"
   ]
  },
  {
   "cell_type": "code",
   "execution_count": 58,
   "metadata": {},
   "outputs": [
    {
     "data": {
      "text/plain": [
       "100000000000000000000000000000000000000000000000000"
      ]
     },
     "execution_count": 58,
     "metadata": {},
     "output_type": "execute_result"
    }
   ],
   "source": [
    "next(g)"
   ]
  },
  {
   "cell_type": "code",
   "execution_count": 59,
   "metadata": {},
   "outputs": [
    {
     "ename": "StopIteration",
     "evalue": "",
     "output_type": "error",
     "traceback": [
      "\u001b[1;31m---------------------------------------------------------------------------\u001b[0m",
      "\u001b[1;31mStopIteration\u001b[0m                             Traceback (most recent call last)",
      "\u001b[1;32m<ipython-input-59-e734f8aca5ac>\u001b[0m in \u001b[0;36m<module>\u001b[1;34m\u001b[0m\n\u001b[1;32m----> 1\u001b[1;33m \u001b[0mnext\u001b[0m\u001b[1;33m(\u001b[0m\u001b[0mg\u001b[0m\u001b[1;33m)\u001b[0m\u001b[1;33m\u001b[0m\u001b[1;33m\u001b[0m\u001b[0m\n\u001b[0m",
      "\u001b[1;31mStopIteration\u001b[0m: "
     ]
    }
   ],
   "source": [
    "next(g)"
   ]
  },
  {
   "cell_type": "code",
   "execution_count": 60,
   "metadata": {},
   "outputs": [],
   "source": [
    "t1 = (i for i in range(100))"
   ]
  },
  {
   "cell_type": "code",
   "execution_count": 61,
   "metadata": {},
   "outputs": [
    {
     "name": "stdout",
     "output_type": "stream",
     "text": [
      "<generator object <genexpr> at 0x0000014CBD15A6D0>\n"
     ]
    }
   ],
   "source": [
    "print(t1)"
   ]
  },
  {
   "cell_type": "code",
   "execution_count": 62,
   "metadata": {},
   "outputs": [
    {
     "data": {
      "text/plain": [
       "0"
      ]
     },
     "execution_count": 62,
     "metadata": {},
     "output_type": "execute_result"
    }
   ],
   "source": [
    "next(t1)"
   ]
  },
  {
   "cell_type": "code",
   "execution_count": 66,
   "metadata": {},
   "outputs": [],
   "source": [
    "li = range(0, 100)"
   ]
  },
  {
   "cell_type": "code",
   "execution_count": 67,
   "metadata": {},
   "outputs": [
    {
     "name": "stdout",
     "output_type": "stream",
     "text": [
      "0\n",
      "1\n",
      "2\n",
      "3\n",
      "4\n",
      "5\n",
      "6\n",
      "7\n",
      "8\n",
      "9\n",
      "10\n"
     ]
    }
   ],
   "source": [
    "for i in li :\n",
    "    print(i)\n",
    "    if i == 10 :\n",
    "        break"
   ]
  },
  {
   "cell_type": "code",
   "execution_count": 68,
   "metadata": {},
   "outputs": [
    {
     "name": "stdout",
     "output_type": "stream",
     "text": [
      "0\n",
      "1\n",
      "2\n",
      "3\n",
      "4\n",
      "5\n",
      "6\n",
      "7\n",
      "8\n",
      "9\n",
      "10\n"
     ]
    }
   ],
   "source": [
    "for i in li :\n",
    "    print(i)\n",
    "    if i == 10 :\n",
    "        break"
   ]
  },
  {
   "cell_type": "code",
   "execution_count": 69,
   "metadata": {},
   "outputs": [
    {
     "name": "stdout",
     "output_type": "stream",
     "text": [
      "0\n",
      "1\n",
      "2\n",
      "3\n",
      "4\n",
      "5\n",
      "6\n",
      "7\n",
      "8\n",
      "9\n",
      "10\n"
     ]
    }
   ],
   "source": [
    "for i in li :\n",
    "    print(i)\n",
    "    if i == 10 :\n",
    "        break"
   ]
  },
  {
   "cell_type": "code",
   "execution_count": 71,
   "metadata": {},
   "outputs": [
    {
     "name": "stdout",
     "output_type": "stream",
     "text": [
      "1\n",
      "2\n",
      "3\n",
      "4\n",
      "5\n",
      "6\n",
      "7\n",
      "8\n",
      "9\n",
      "10\n"
     ]
    }
   ],
   "source": [
    "for i in t1 :\n",
    "    print(i)\n",
    "    if i == 10 :\n",
    "        break"
   ]
  },
  {
   "cell_type": "code",
   "execution_count": 72,
   "metadata": {},
   "outputs": [
    {
     "name": "stdout",
     "output_type": "stream",
     "text": [
      "11\n",
      "12\n",
      "13\n",
      "14\n",
      "15\n",
      "16\n",
      "17\n",
      "18\n",
      "19\n",
      "20\n"
     ]
    }
   ],
   "source": [
    "for i in t1 :\n",
    "    print(i)\n",
    "    if i == 20 :\n",
    "        break"
   ]
  },
  {
   "cell_type": "markdown",
   "metadata": {},
   "source": [
    " ### OBJECT ORIENTED PROGRAMMING IN PYTHON :\n",
    " "
   ]
  },
  {
   "cell_type": "markdown",
   "metadata": {},
   "source": [
    "- Attributes -> Variables created inside class.\n",
    "- Method -> Function created inside the class.\n",
    "- Class -> Blueprint for the object. -> Design of a thing. -> No memory.\n",
    "- Object - Instance of the class. -> It occupies memory.\n",
    "\n",
    "\n",
    "\n",
    "### Structure :\n",
    "\n",
    "```python\n",
    "\n",
    "class ClassName :\n",
    "    \"\"\"Doc string\"\"\"\n",
    "    Attributes\n",
    "    Methods\n",
    "```"
   ]
  },
  {
   "cell_type": "code",
   "execution_count": 73,
   "metadata": {},
   "outputs": [],
   "source": [
    "class Student :\n",
    "    \"\"\"This is the blueprint created for student Id card.\"\"\""
   ]
  },
  {
   "cell_type": "code",
   "execution_count": 75,
   "metadata": {},
   "outputs": [],
   "source": [
    "apssdc = Student()"
   ]
  },
  {
   "cell_type": "code",
   "execution_count": 76,
   "metadata": {},
   "outputs": [],
   "source": [
    "class Student2 :\n",
    "    pass"
   ]
  },
  {
   "cell_type": "code",
   "execution_count": 77,
   "metadata": {},
   "outputs": [],
   "source": [
    "apssdc = Student()"
   ]
  },
  {
   "cell_type": "code",
   "execution_count": 78,
   "metadata": {},
   "outputs": [
    {
     "name": "stdout",
     "output_type": "stream",
     "text": [
      "<__main__.Student object at 0x0000014CBCF79B50>\n"
     ]
    }
   ],
   "source": [
    "print(apssdc)"
   ]
  },
  {
   "cell_type": "code",
   "execution_count": 79,
   "metadata": {},
   "outputs": [
    {
     "data": {
      "text/plain": [
       "'This is the blueprint created for student Id card.'"
      ]
     },
     "execution_count": 79,
     "metadata": {},
     "output_type": "execute_result"
    }
   ],
   "source": [
    "apssdc.__doc__"
   ]
  },
  {
   "cell_type": "code",
   "execution_count": 80,
   "metadata": {},
   "outputs": [
    {
     "data": {
      "text/plain": [
       "'This is the blueprint created for student Id card.'"
      ]
     },
     "execution_count": 80,
     "metadata": {},
     "output_type": "execute_result"
    }
   ],
   "source": [
    "Student.__doc__"
   ]
  },
  {
   "cell_type": "code",
   "execution_count": 81,
   "metadata": {},
   "outputs": [],
   "source": [
    "class Student :\n",
    "    \"\"\"This is the blueprint created for student Id card.\"\"\"\n",
    "    college = 'SVECW'\n",
    "    branch = 'CSE'\n",
    "    collegeAddress = 'Vishnupur, Bhimavaram'"
   ]
  },
  {
   "cell_type": "code",
   "execution_count": 87,
   "metadata": {},
   "outputs": [],
   "source": [
    "std1 = Student()\n",
    "std2 = Student()"
   ]
  },
  {
   "cell_type": "code",
   "execution_count": 88,
   "metadata": {},
   "outputs": [
    {
     "data": {
      "text/plain": [
       "'SVECW'"
      ]
     },
     "execution_count": 88,
     "metadata": {},
     "output_type": "execute_result"
    }
   ],
   "source": [
    "std1.college"
   ]
  },
  {
   "cell_type": "code",
   "execution_count": 89,
   "metadata": {},
   "outputs": [
    {
     "data": {
      "text/plain": [
       "'SVECW'"
      ]
     },
     "execution_count": 89,
     "metadata": {},
     "output_type": "execute_result"
    }
   ],
   "source": [
    "\n",
    "std2.college"
   ]
  },
  {
   "cell_type": "code",
   "execution_count": 91,
   "metadata": {},
   "outputs": [
    {
     "data": {
      "text/plain": [
       "'Vishnupur, Bhimavaram'"
      ]
     },
     "execution_count": 91,
     "metadata": {},
     "output_type": "execute_result"
    }
   ],
   "source": [
    "std1.collegeAddress"
   ]
  },
  {
   "cell_type": "code",
   "execution_count": 96,
   "metadata": {},
   "outputs": [],
   "source": [
    "class Student :\n",
    "    \"\"\"This is the blueprint created for student Id card.\"\"\"\n",
    "    college = 'SVECW'\n",
    "    branch = 'CSE'\n",
    "    collegeAddress = 'Vishnupur, Bhimavaram'\n",
    "    def __init__(self) : #dendur init, constructor , instance method, initializer.\n",
    "        print(\"Student object is created.\")"
   ]
  },
  {
   "cell_type": "code",
   "execution_count": 97,
   "metadata": {},
   "outputs": [
    {
     "name": "stdout",
     "output_type": "stream",
     "text": [
      "Student object is created.\n",
      "Student object is created.\n"
     ]
    }
   ],
   "source": [
    "std1 = Student()\n",
    "std2 = Student()"
   ]
  },
  {
   "cell_type": "code",
   "execution_count": 98,
   "metadata": {},
   "outputs": [],
   "source": [
    "class Student :\n",
    "    \"\"\"This is the blueprint created for student Id card.\"\"\"\n",
    "    college = 'SVECW'\n",
    "    branch = 'CSE'\n",
    "    collegeAddress = 'Vishnupur, Bhimavaram'\n",
    "    def __init__(self, name, rollno, mobile) : #dendur init, constructor , instance method, initializer.\n",
    "        self.name = name\n",
    "        self.rollno = rollno\n",
    "        self.mobile = mobile\n",
    "        print(\"{} object is created.\".format(self.name))\n",
    "        "
   ]
  },
  {
   "cell_type": "code",
   "execution_count": 99,
   "metadata": {},
   "outputs": [
    {
     "name": "stdout",
     "output_type": "stream",
     "text": [
      "Python object is created.\n",
      "Data object is created.\n"
     ]
    }
   ],
   "source": [
    "std1 = Student('Python', '123', '9876543210')\n",
    "std2 = Student('Data', '456', '9630125478')"
   ]
  },
  {
   "cell_type": "code",
   "execution_count": 100,
   "metadata": {},
   "outputs": [
    {
     "data": {
      "text/plain": [
       "'Python'"
      ]
     },
     "execution_count": 100,
     "metadata": {},
     "output_type": "execute_result"
    }
   ],
   "source": [
    "std1.name"
   ]
  },
  {
   "cell_type": "code",
   "execution_count": 101,
   "metadata": {},
   "outputs": [
    {
     "data": {
      "text/plain": [
       "('SVECW', 'SVECW')"
      ]
     },
     "execution_count": 101,
     "metadata": {},
     "output_type": "execute_result"
    }
   ],
   "source": [
    "std2.college, std1.college"
   ]
  },
  {
   "cell_type": "code",
   "execution_count": 102,
   "metadata": {},
   "outputs": [
    {
     "name": "stdout",
     "output_type": "stream",
     "text": [
      "<__main__.Student object at 0x0000014CBCF7E6D0> <__main__.Student object at 0x0000014CBCF7EF10>\n"
     ]
    }
   ],
   "source": [
    "print(std1, std2)"
   ]
  },
  {
   "cell_type": "code",
   "execution_count": 114,
   "metadata": {},
   "outputs": [],
   "source": [
    "class Student :\n",
    "    \"\"\"This is the blueprint created for student Id card.\"\"\"\n",
    "    college = 'SVECW'\n",
    "    branch = 'CSE'\n",
    "    collegeAddress = 'Vishnupur, Bhimavaram'\n",
    "    def __init__(self, name, rollno, mobile, python, java) : #dendur init, constructor , instance method, initializer.\n",
    "        self.name = name\n",
    "        self.rollno = rollno\n",
    "        self.mobile = mobile\n",
    "        self.python = python\n",
    "        self.java = java\n",
    "        print(\"{} object is created.\".format(self.name))\n",
    "    def average(self) :\n",
    "        avg = (self.python + self.java) / 2\n",
    "        return avg\n",
    "    def py_status(self) :\n",
    "        if self.python >= 40 :\n",
    "            print(\"Hurry! you have passed python subject.\")\n",
    "        else :\n",
    "            print(\"Hurry! you have failed python subject.\")\n",
    "    def java_status(self) :\n",
    "        if self.java >=  40 :\n",
    "            print(\"Hurry! you have passed java subject.\")\n",
    "        else :\n",
    "            print(\"Hurry! you have failed java subject.\")\n",
    "        "
   ]
  },
  {
   "cell_type": "code",
   "execution_count": 118,
   "metadata": {},
   "outputs": [
    {
     "name": "stdout",
     "output_type": "stream",
     "text": [
      "bhagya object is created.\n",
      "angel object is created.\n"
     ]
    }
   ],
   "source": [
    "std1 = Student('bhagya', '5e5', '9898989898', 63, 39)\n",
    "std2 = Student('angel', '5f5', '1234567890', 29, 79)"
   ]
  },
  {
   "cell_type": "code",
   "execution_count": 116,
   "metadata": {},
   "outputs": [
    {
     "data": {
      "text/plain": [
       "51.0"
      ]
     },
     "execution_count": 116,
     "metadata": {},
     "output_type": "execute_result"
    }
   ],
   "source": [
    "std1.average()"
   ]
  },
  {
   "cell_type": "code",
   "execution_count": 117,
   "metadata": {},
   "outputs": [
    {
     "data": {
      "text/plain": [
       "54.0"
      ]
     },
     "execution_count": 117,
     "metadata": {},
     "output_type": "execute_result"
    }
   ],
   "source": [
    "std2.average()"
   ]
  },
  {
   "cell_type": "code",
   "execution_count": 120,
   "metadata": {},
   "outputs": [],
   "source": [
    "class Student :\n",
    "    \"\"\"This is the blueprint created for student Id card.\"\"\"\n",
    "    college = 'SVECW'\n",
    "    branch = 'CSE'\n",
    "    collegeAddress = 'Vishnupur, Bhimavaram'\n",
    "    def __init__(self, name, rollno, mobile, python, java) : #dendur init, constructor , instance method, initializer.\n",
    "        self.name = name\n",
    "        self.rollno = rollno\n",
    "        self.mobile = mobile\n",
    "        self.python = python\n",
    "        self.java = java\n",
    "        print(\"{} object is created.\".format(self.name))\n",
    "    def average(self) :\n",
    "        avg = (self.python + self.java) / 2\n",
    "        return avg\n",
    "    def py_status(self, pyaddOn) :\n",
    "        self.python += pyaddOn\n",
    "        if self.python >= 40 :\n",
    "            print(\"Hurry! you have passed python subject.\")\n",
    "        else :\n",
    "            print(\"Hurry! you have failed python subject.\")\n",
    "    def java_status(self, jaddOn) :\n",
    "        self.java  += jaddOn\n",
    "        if self.java >=  40 :\n",
    "            print(\"Hurry! you have passed java subject.\")\n",
    "        else :\n",
    "            print(\"Hurry! you have failed java subject.\")\n",
    "        "
   ]
  },
  {
   "cell_type": "code",
   "execution_count": 121,
   "metadata": {},
   "outputs": [
    {
     "name": "stdout",
     "output_type": "stream",
     "text": [
      "bhagya object is created.\n",
      "angel object is created.\n"
     ]
    }
   ],
   "source": [
    "std1 = Student('bhagya', '5e5', '9898989898', 35, 65)\n",
    "std2 = Student('angel', '5f5', '1234567890', 65, 25)"
   ]
  },
  {
   "cell_type": "code",
   "execution_count": 122,
   "metadata": {},
   "outputs": [
    {
     "name": "stdout",
     "output_type": "stream",
     "text": [
      "Hurry! you have passed python subject.\n"
     ]
    }
   ],
   "source": [
    "std1.py_status(5)"
   ]
  },
  {
   "cell_type": "code",
   "execution_count": 124,
   "metadata": {},
   "outputs": [
    {
     "data": {
      "text/plain": [
       "40"
      ]
     },
     "execution_count": 124,
     "metadata": {},
     "output_type": "execute_result"
    }
   ],
   "source": [
    "std1.python"
   ]
  },
  {
   "cell_type": "code",
   "execution_count": 125,
   "metadata": {},
   "outputs": [
    {
     "name": "stdout",
     "output_type": "stream",
     "text": [
      "Hurry! you have passed python subject.\n"
     ]
    }
   ],
   "source": [
    "std2.py_status(0)"
   ]
  },
  {
   "cell_type": "code",
   "execution_count": 135,
   "metadata": {},
   "outputs": [],
   "source": [
    "class Student :\n",
    "    \"\"\"This is the blueprint created for student Id card.\"\"\"\n",
    "    college = 'SVECW'\n",
    "    branch = 'CSE'\n",
    "    collegeAddress = 'Vishnupur, Bhimavaram'\n",
    "    def __init__(self, name, rollno, mobile, python, java) : #dendur init, constructor , instance method, initializer.\n",
    "        self.name = name\n",
    "        self.rollno = rollno\n",
    "        self.mobile = mobile\n",
    "        self.python = python\n",
    "        self.java = java\n",
    "        print(\"{} object is created.\".format(self.name))\n",
    "    def average(self) :\n",
    "        avg = (self.python + self.java) / 2\n",
    "        return avg\n",
    "    def py_status(self, pyaddOn) :\n",
    "        self.python += pyaddOn\n",
    "        if self.python >= 40 :\n",
    "            print(\"Hurry! you have passed python subject.\")\n",
    "        else :\n",
    "            print(\"Hurry! you have failed python subject.\")\n",
    "    def java_status(self, jaddOn) :\n",
    "        self.java  += jaddOn\n",
    "        if self.java >=  40 :\n",
    "            print(\"Hurry! you have passed java subject.\")\n",
    "        else :\n",
    "            print(\"Hurry! you have failed java subject.\")\n",
    "    def __str__(self):\n",
    "        return \"This class belongs to {}\".format(self.name)"
   ]
  },
  {
   "cell_type": "code",
   "execution_count": 136,
   "metadata": {},
   "outputs": [
    {
     "name": "stdout",
     "output_type": "stream",
     "text": [
      "bhagya object is created.\n",
      "angel object is created.\n"
     ]
    }
   ],
   "source": [
    "std1 = Student('bhagya', '5e5', '9898989898', 35, 65)\n",
    "std2 = Student('angel', '5f5', '1234567890', 65, 25)"
   ]
  },
  {
   "cell_type": "code",
   "execution_count": 137,
   "metadata": {},
   "outputs": [
    {
     "name": "stdout",
     "output_type": "stream",
     "text": [
      "This class belongs to bhagya This class belongs to angel\n"
     ]
    }
   ],
   "source": [
    "print(std1, std2)"
   ]
  },
  {
   "cell_type": "code",
   "execution_count": 142,
   "metadata": {},
   "outputs": [],
   "source": [
    "class Student :\n",
    "    \"\"\"This is the blueprint created for student Id card.\"\"\"\n",
    "    college = 'SVECW'\n",
    "    branch = 'CSE'\n",
    "    collegeAddress = 'Vishnupur, Bhimavaram'\n",
    "    def __init__(self, name, rollno, mobile, python, java) : #dendur init, constructor , instance method, initializer.\n",
    "        self.name = name\n",
    "        self.rollno = rollno\n",
    "        self.mobile = mobile\n",
    "        self.python = python\n",
    "        self.java = java\n",
    "        print(\"{} object is created.\".format(self.name))\n",
    "    def average(self) :\n",
    "        avg = (self.python + self.java) / 2\n",
    "        return avg\n",
    "    def py_status(self, pyaddOn) :\n",
    "        self.python += pyaddOn\n",
    "        if self.python >= 40 :\n",
    "            print(\"Hurry! you have passed python subject.\")\n",
    "        else :\n",
    "            print(\"Hurry! you have failed python subject.\")\n",
    "    def java_status(self, jaddOn) :\n",
    "        self.java  += jaddOn\n",
    "        if self.java >=  40 :\n",
    "            print(\"Hurry! you have passed java subject.\")\n",
    "        else :\n",
    "            print(\"Hurry! you have failed java subject.\")\n",
    "    def __str__(self):\n",
    "        return \"This class belongs to {}\".format(self.name)\n",
    "    def __del__(self) : #destructor\n",
    "        print(\"{} data has deleted.\".format(self.name))"
   ]
  },
  {
   "cell_type": "code",
   "execution_count": 143,
   "metadata": {},
   "outputs": [
    {
     "name": "stderr",
     "output_type": "stream",
     "text": [
      "Exception ignored in: <function Student.__del__ at 0x0000014CBD1800D0>\n",
      "Traceback (most recent call last):\n",
      "  File \"<ipython-input-138-531676de59dc>\", line 31, in __del__\n",
      "TypeError: 'str' object is not callable\n"
     ]
    },
    {
     "name": "stdout",
     "output_type": "stream",
     "text": [
      "bhagya object is created.\n",
      "angel object is created.\n"
     ]
    }
   ],
   "source": [
    "std1 = Student('bhagya', '5e5', '9898989898', 35, 65)\n",
    "std2 = Student('angel', '5f5', '1234567890', 65, 25)"
   ]
  },
  {
   "cell_type": "code",
   "execution_count": 144,
   "metadata": {},
   "outputs": [
    {
     "data": {
      "text/plain": [
       "<__main__.Student at 0x14cbd14c7f0>"
      ]
     },
     "execution_count": 144,
     "metadata": {},
     "output_type": "execute_result"
    }
   ],
   "source": [
    "std1\n"
   ]
  },
  {
   "cell_type": "code",
   "execution_count": 149,
   "metadata": {},
   "outputs": [],
   "source": [
    "class Student :\n",
    "    \"\"\"This is the blueprint created for student Id card.\"\"\"\n",
    "    college = 'SVECW'\n",
    "    branch = 'CSE'\n",
    "    collegeAddress = 'Vishnupur, Bhimavaram'\n",
    "    def __init__(self, name, rollno, mobile, python, java) : #dendur init, constructor , instance method, initializer.\n",
    "        self.name = name\n",
    "        self.rollno = rollno\n",
    "        self.mobile = mobile\n",
    "        self.python = python\n",
    "        self.java = java\n",
    "        print(\"{} object is created.\".format(self.name))\n",
    "    def average(self) :\n",
    "        avg = (self.python + self.java) / 2\n",
    "        return avg\n",
    "    def py_status(self, pyaddOn) :\n",
    "        self.python += pyaddOn\n",
    "        if self.python >= 40 :\n",
    "            print(\"Hurry! you have passed python subject.\")\n",
    "        else :\n",
    "            print(\"Hurry! you have failed python subject.\")\n",
    "    def java_status(self, jaddOn) :\n",
    "        self.java  += jaddOn\n",
    "        if self.java >=  40 :\n",
    "            print(\"Hurry! you have passed java subject.\")\n",
    "        else :\n",
    "            print(\"Hurry! you have failed java subject.\")\n",
    "    def __str__(self):\n",
    "        return \"This class belongs to {}\".format(self.name)\n",
    "    def __del__(self) : #decorator\n",
    "        print(\"{} data has deleted.\".format(self.name))\n",
    "        \n",
    "    @staticmethod #Decorator\n",
    "    def clgNo() :\n",
    "        return 1234567890"
   ]
  },
  {
   "cell_type": "code",
   "execution_count": 150,
   "metadata": {},
   "outputs": [
    {
     "data": {
      "text/plain": [
       "1234567890"
      ]
     },
     "execution_count": 150,
     "metadata": {},
     "output_type": "execute_result"
    }
   ],
   "source": [
    "Student.clgNo()"
   ]
  },
  {
   "cell_type": "code",
   "execution_count": 151,
   "metadata": {},
   "outputs": [],
   "source": [
    "class Student :\n",
    "    \"\"\"This is the blueprint created for student Id card.\"\"\"\n",
    "    college = 'SVECW'\n",
    "    branch = 'CSE'\n",
    "    collegeAddress = 'Vishnupur, Bhimavaram'\n",
    "    def __init__(self, name, rollno, mobile, python, java) : #dendur init, constructor , instance method, initializer.\n",
    "        self.name = name\n",
    "        self.rollno = rollno\n",
    "        self.mobile = mobile\n",
    "        self.python = python\n",
    "        self.java = java\n",
    "        print(\"{} object is created.\".format(self.name))\n",
    "    def average(self) :\n",
    "        avg = (self.python + self.java) / 2\n",
    "        return avg\n",
    "    def py_status(self, pyaddOn) :\n",
    "        self.python += pyaddOn\n",
    "        if self.python >= 40 :\n",
    "            print(\"Hurry! you have passed python subject.\")\n",
    "        else :\n",
    "            print(\"Hurry! you have failed python subject.\")\n",
    "    def java_status(self, jaddOn) :\n",
    "        self.java  += jaddOn\n",
    "        if self.java >=  40 :\n",
    "            print(\"Hurry! you have passed java subject.\")\n",
    "        else :\n",
    "            print(\"Hurry! you have failed java subject.\")\n",
    "    def __str__(self):\n",
    "        return \"This class belongs to {}\".format(self.name)\n",
    "    def __del__(self) : #decorator\n",
    "        print(\"{} data has deleted.\".format(self.name))\n",
    "        \n",
    "    @staticmethod #Decorator\n",
    "    def clgNo() :\n",
    "        return 1234567890\n",
    "    @classmethod \n",
    "    def clgName(cls) :\n",
    "        return cls.college"
   ]
  },
  {
   "cell_type": "code",
   "execution_count": 152,
   "metadata": {},
   "outputs": [
    {
     "data": {
      "text/plain": [
       "'SVECW'"
      ]
     },
     "execution_count": 152,
     "metadata": {},
     "output_type": "execute_result"
    }
   ],
   "source": [
    "Student.clgName()"
   ]
  },
  {
   "cell_type": "markdown",
   "metadata": {},
   "source": [
    "- Encapsulation\n",
    "- Polymorphism\n",
    "- Inheritance\n",
    "    - Types :\n",
    "        - Multi level\n",
    "        - Hybrid\n",
    "        - Multiple\n",
    "        - Hierarchy\n",
    "    - Operator overloading\n",
    "    - Method overriding.\n",
    "- Abstraction\n"
   ]
  },
  {
   "cell_type": "code",
   "execution_count": null,
   "metadata": {},
   "outputs": [],
   "source": []
  }
 ],
 "metadata": {
  "kernelspec": {
   "display_name": "Python 3",
   "language": "python",
   "name": "python3"
  },
  "language_info": {
   "codemirror_mode": {
    "name": "ipython",
    "version": 3
   },
   "file_extension": ".py",
   "mimetype": "text/x-python",
   "name": "python",
   "nbconvert_exporter": "python",
   "pygments_lexer": "ipython3",
   "version": "3.7.6"
  }
 },
 "nbformat": 4,
 "nbformat_minor": 5
}
