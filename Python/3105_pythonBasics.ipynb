{
 "cells": [
  {
   "cell_type": "markdown",
   "metadata": {},
   "source": [
    "### Conditional Statements\n",
    "\n",
    "Controling the flow of execution\n",
    "\n",
    "\n",
    "#### Syntax\n",
    "\n",
    "```python\n",
    "\n",
    "if condition:\n",
    "    Block of code\n",
    "```\n",
    "\n",
    "```python\n",
    "if condition:\n",
    "    Block of code\n",
    "else:\n",
    "    Block of code\n",
    "```\n",
    "\n",
    "```python\n",
    "if condition:\n",
    "    Block of code\n",
    "elif condition:\n",
    "    Block of code\n",
    "else:\n",
    "    Block of code\n",
    "```\n",
    "    "
   ]
  },
  {
   "cell_type": "markdown",
   "metadata": {},
   "source": [
    "- Biggest of 2 numbers\n"
   ]
  },
  {
   "cell_type": "code",
   "execution_count": 1,
   "metadata": {},
   "outputs": [
    {
     "name": "stdout",
     "output_type": "stream",
     "text": [
      "15 is the biggest number.\n"
     ]
    }
   ],
   "source": [
    "a = 5\n",
    "b = 15\n",
    "\n",
    "if a > b :\n",
    "    print(a, \"is the biggest number.\")\n",
    "else :\n",
    "    print(b, \"is the biggest number.\")"
   ]
  },
  {
   "cell_type": "markdown",
   "metadata": {},
   "source": [
    "- Biggest of 2 numbers, if both are equal.\n"
   ]
  },
  {
   "cell_type": "code",
   "execution_count": 4,
   "metadata": {},
   "outputs": [
    {
     "name": "stdout",
     "output_type": "stream",
     "text": [
      "both are biggest numbers.\n"
     ]
    }
   ],
   "source": [
    "a = 5\n",
    "b = 5\n",
    "\n",
    "\n",
    "if a > b :\n",
    "    print(a, \"is the biggest number.\")\n",
    "elif b > a :\n",
    "    print(b, \"is the biggest number\")\n",
    "else :\n",
    "    print(\"both are biggest numbers.\")"
   ]
  },
  {
   "cell_type": "markdown",
   "metadata": {},
   "source": [
    "- Biggest of 3 numbers"
   ]
  },
  {
   "cell_type": "code",
   "execution_count": 5,
   "metadata": {},
   "outputs": [
    {
     "name": "stdout",
     "output_type": "stream",
     "text": [
      "15 is the biggest number.\n"
     ]
    }
   ],
   "source": [
    "a = 5\n",
    "b = 15\n",
    "c = 8\n",
    "\n",
    "if a > b and a > c:\n",
    "    print(a, \"is the biggest number.\")\n",
    "elif b > c :\n",
    "    print(b, \"is the biggest number.\")\n",
    "else :\n",
    "    print(c, \"is the biggest number.\")"
   ]
  },
  {
   "cell_type": "markdown",
   "metadata": {},
   "source": [
    "- Check the input is even or not."
   ]
  },
  {
   "cell_type": "code",
   "execution_count": 8,
   "metadata": {},
   "outputs": [
    {
     "name": "stdout",
     "output_type": "stream",
     "text": [
      "Enter a number :56\n",
      "56 is even number.\n"
     ]
    }
   ],
   "source": [
    "n = int(input(\"Enter a number :\"))\n",
    "\n",
    "if n % 2 == 0 :\n",
    "    print(n, \"is even number.\")\n",
    "else :\n",
    "    print(n, \"is odd number.\")"
   ]
  },
  {
   "cell_type": "markdown",
   "metadata": {},
   "source": [
    "Verify given year leap year or not\n",
    "\n",
    "- It should divisible by 4 and remainder as 0.\n",
    "- It shouldn't divisible by 100.\n",
    "- It should divisible by 400."
   ]
  },
  {
   "cell_type": "code",
   "execution_count": 10,
   "metadata": {},
   "outputs": [
    {
     "name": "stdout",
     "output_type": "stream",
     "text": [
      "Enter a year : 1236\n",
      "1236 is a leap year\n"
     ]
    }
   ],
   "source": [
    "year = int(input(\"Enter a year : \"))\n",
    "\n",
    "if (year % 4 == 0) or (year % 4 == 0 and year % 100 != 0) :\n",
    "    print(year, \"is a leap year\")\n",
    "else :\n",
    "    print(year, \"is not a leap year.\")"
   ]
  },
  {
   "cell_type": "markdown",
   "metadata": {},
   "source": [
    "Calculator Application\n",
    "\n",
    "- 2 input number\n",
    "- arithmetic operation."
   ]
  },
  {
   "cell_type": "code",
   "execution_count": 12,
   "metadata": {},
   "outputs": [
    {
     "name": "stdout",
     "output_type": "stream",
     "text": [
      "Enter a number : 123646\n",
      "Enter a number : 3256423\n",
      "What Arithmetic I need to perform : /\n",
      "0.03796988290526138\n"
     ]
    }
   ],
   "source": [
    "a = int(input(\"Enter a number : \"))\n",
    "b = int(input(\"Enter a number : \"))\n",
    "arith = input(\"What Arithmetic I need to perform : \")\n",
    "\n",
    "if arith == '+' :\n",
    "    print(a + b)\n",
    "elif arith == '-' :\n",
    "    print(a - b)\n",
    "elif arith == '*' :\n",
    "    print(a * b)\n",
    "elif arith == '/' :\n",
    "    print(a / b)\n",
    "else :\n",
    "    print(\"Given arithmetic operation is invalid\")"
   ]
  },
  {
   "cell_type": "markdown",
   "metadata": {},
   "source": [
    "### Loops in Python\n",
    "\n",
    "execute the block of code for multiple times.\n",
    "\n",
    "- Initialization\n",
    "- condition\n",
    "- inc / dec\n",
    "\n",
    "#### Syntax\n",
    "- For loop\n",
    "\n",
    "```python\n",
    "for IterativeVariable in GroupOfData:\n",
    "    Block of code \n",
    "```\n",
    "\n",
    "- While loop -> based on the condition\n",
    "\n",
    "```python\n",
    "init\n",
    "while condition :\n",
    "    Block of code\n",
    "    inc/dec\n",
    "```\n",
    "\n",
    "\n",
    "### GroupofNumbers"
   ]
  },
  {
   "cell_type": "markdown",
   "metadata": {},
   "source": [
    "### Even numbers between 1 to 1000"
   ]
  },
  {
   "cell_type": "code",
   "execution_count": 14,
   "metadata": {},
   "outputs": [
    {
     "name": "stdout",
     "output_type": "stream",
     "text": [
      "2\t4\t6\t8\t10\t12\t14\t16\t18\t20\t22\t24\t26\t28\t30\t32\t34\t36\t38\t40\t42\t44\t46\t48\t50\t52\t54\t56\t58\t60\t62\t64\t66\t68\t70\t72\t74\t76\t78\t80\t82\t84\t86\t88\t90\t92\t94\t96\t98\t100\t102\t104\t106\t108\t110\t112\t114\t116\t118\t120\t122\t124\t126\t128\t130\t132\t134\t136\t138\t140\t142\t144\t146\t148\t150\t152\t154\t156\t158\t160\t162\t164\t166\t168\t170\t172\t174\t176\t178\t180\t182\t184\t186\t188\t190\t192\t194\t196\t198\t200\t202\t204\t206\t208\t210\t212\t214\t216\t218\t220\t222\t224\t226\t228\t230\t232\t234\t236\t238\t240\t242\t244\t246\t248\t250\t252\t254\t256\t258\t260\t262\t264\t266\t268\t270\t272\t274\t276\t278\t280\t282\t284\t286\t288\t290\t292\t294\t296\t298\t300\t302\t304\t306\t308\t310\t312\t314\t316\t318\t320\t322\t324\t326\t328\t330\t332\t334\t336\t338\t340\t342\t344\t346\t348\t350\t352\t354\t356\t358\t360\t362\t364\t366\t368\t370\t372\t374\t376\t378\t380\t382\t384\t386\t388\t390\t392\t394\t396\t398\t400\t402\t404\t406\t408\t410\t412\t414\t416\t418\t420\t422\t424\t426\t428\t430\t432\t434\t436\t438\t440\t442\t444\t446\t448\t450\t452\t454\t456\t458\t460\t462\t464\t466\t468\t470\t472\t474\t476\t478\t480\t482\t484\t486\t488\t490\t492\t494\t496\t498\t500\t502\t504\t506\t508\t510\t512\t514\t516\t518\t520\t522\t524\t526\t528\t530\t532\t534\t536\t538\t540\t542\t544\t546\t548\t550\t552\t554\t556\t558\t560\t562\t564\t566\t568\t570\t572\t574\t576\t578\t580\t582\t584\t586\t588\t590\t592\t594\t596\t598\t600\t602\t604\t606\t608\t610\t612\t614\t616\t618\t620\t622\t624\t626\t628\t630\t632\t634\t636\t638\t640\t642\t644\t646\t648\t650\t652\t654\t656\t658\t660\t662\t664\t666\t668\t670\t672\t674\t676\t678\t680\t682\t684\t686\t688\t690\t692\t694\t696\t698\t700\t702\t704\t706\t708\t710\t712\t714\t716\t718\t720\t722\t724\t726\t728\t730\t732\t734\t736\t738\t740\t742\t744\t746\t748\t750\t752\t754\t756\t758\t760\t762\t764\t766\t768\t770\t772\t774\t776\t778\t780\t782\t784\t786\t788\t790\t792\t794\t796\t798\t800\t802\t804\t806\t808\t810\t812\t814\t816\t818\t820\t822\t824\t826\t828\t830\t832\t834\t836\t838\t840\t842\t844\t846\t848\t850\t852\t854\t856\t858\t860\t862\t864\t866\t868\t870\t872\t874\t876\t878\t880\t882\t884\t886\t888\t890\t892\t894\t896\t898\t900\t902\t904\t906\t908\t910\t912\t914\t916\t918\t920\t922\t924\t926\t928\t930\t932\t934\t936\t938\t940\t942\t944\t946\t948\t950\t952\t954\t956\t958\t960\t962\t964\t966\t968\t970\t972\t974\t976\t978\t980\t982\t984\t986\t988\t990\t992\t994\t996\t998\t1000\t"
     ]
    }
   ],
   "source": [
    "for num in range(1, 1001, 1) :\n",
    "    if num % 2 == 0:\n",
    "        print(num, end = '\\t')\n",
    "        "
   ]
  },
  {
   "cell_type": "markdown",
   "metadata": {},
   "source": [
    "1. Get the leap year between the given range\n",
    "    - Starting range ending range is given as input\n",
    "2. Get the prime numbers between the given range\n",
    "3. Get n number of Fibonacci numbers"
   ]
  },
  {
   "cell_type": "markdown",
   "metadata": {},
   "source": [
    "### While loop"
   ]
  },
  {
   "cell_type": "code",
   "execution_count": 15,
   "metadata": {},
   "outputs": [
    {
     "name": "stdout",
     "output_type": "stream",
     "text": [
      "1\t2\t3\t4\t5\t6\t7\t8\t9\t10\t11\t12\t13\t14\t15\t16\t17\t18\t19\t20\t21\t22\t23\t24\t25\t26\t27\t28\t29\t30\t31\t32\t33\t34\t35\t36\t37\t38\t39\t40\t41\t42\t43\t44\t45\t46\t47\t48\t49\t50\t51\t52\t53\t54\t55\t56\t57\t58\t59\t60\t61\t62\t63\t64\t65\t66\t67\t68\t69\t70\t71\t72\t73\t74\t75\t76\t77\t78\t79\t80\t81\t82\t83\t84\t85\t86\t87\t88\t89\t90\t91\t92\t93\t94\t95\t96\t97\t98\t99\t100\t"
     ]
    }
   ],
   "source": [
    "i = 1\n",
    "while i < 101 :\n",
    "    print(i, end = '\\t')\n",
    "    i += 1"
   ]
  },
  {
   "cell_type": "markdown",
   "metadata": {},
   "source": [
    "- Break : To terminate the execution of the loop.\n",
    "- Continue : Skip the current execution of the loop."
   ]
  },
  {
   "cell_type": "markdown",
   "metadata": {},
   "source": [
    "print the numbers between 1 to 100 whenever I reached 50, stop travelling."
   ]
  },
  {
   "cell_type": "code",
   "execution_count": 17,
   "metadata": {},
   "outputs": [
    {
     "name": "stdout",
     "output_type": "stream",
     "text": [
      "1\t3\t5\t7\t9\t11\t13\t15\t17\t19\t21\t23\t25\t27\t29\t31\t33\t35\t37\t39\t41\t43\t45\t47\t49\t"
     ]
    }
   ],
   "source": [
    "for travel in range(1, 101, 1) :\n",
    "    if travel == 50 :\n",
    "        break\n",
    "    elif travel % 2 == 0 :\n",
    "        continue\n",
    "    print(travel, end = '\\t')"
   ]
  },
  {
   "cell_type": "code",
   "execution_count": 18,
   "metadata": {},
   "outputs": [
    {
     "name": "stdout",
     "output_type": "stream",
     "text": [
      "32\n",
      "32\n",
      "3\n",
      "3\n",
      "mk3\n",
      "mk3\n",
      "kl\n",
      "kl\n",
      "cancel\n",
      "Loop Terminated\n"
     ]
    }
   ],
   "source": [
    "while True : \n",
    "    inp = input()\n",
    "    if inp == 'cancel' :\n",
    "        print(\"Loop Terminated\")\n",
    "        break\n",
    "    print(inp)"
   ]
  },
  {
   "cell_type": "markdown",
   "metadata": {},
   "source": [
    "### Strings\n",
    "\n",
    "It is group of data enclosed between \"\", '', \"\"\"\"\"\", '''''' are called strings in python.\n",
    "\n",
    "#### Properties of Strings\n",
    "\n",
    "- It is immutable data type.\n",
    "- It is iterable.\n"
   ]
  },
  {
   "cell_type": "code",
   "execution_count": 27,
   "metadata": {},
   "outputs": [
    {
     "name": "stdout",
     "output_type": "stream",
     "text": [
      "b\th\ta\tg\ty\ta\t \tl\ta\tk\ts\th\tm\ti\t"
     ]
    }
   ],
   "source": [
    "s = 'bhagya lakshmi'\n",
    "for char in s : \n",
    "    if char == 'a' or char == 'e' or char == 'i' or char == 'o' or 'u' :\n",
    "        print(char, end = '\\t')"
   ]
  },
  {
   "cell_type": "code",
   "execution_count": 26,
   "metadata": {},
   "outputs": [
    {
     "name": "stdout",
     "output_type": "stream",
     "text": [
      "0 upper case ovels 1 lower 3 constants\n"
     ]
    }
   ],
   "source": [
    "s = 'abcd'\n",
    "lo = 0\n",
    "uo = 0\n",
    "c = 0\n",
    "for char in s :\n",
    "    if char in 'aeiou' :\n",
    "        lo += 1\n",
    "    elif char in 'AEIOU' :\n",
    "        uo += 1\n",
    "    else :\n",
    "        c += 1\n",
    "print(uo, \"upper case ovels\", lo, \"lower\", c, \"constants\")"
   ]
  },
  {
   "cell_type": "code",
   "execution_count": 28,
   "metadata": {},
   "outputs": [
    {
     "name": "stdout",
     "output_type": "stream",
     "text": [
      "bhagya lakshmi\n"
     ]
    }
   ],
   "source": [
    "print(s)"
   ]
  },
  {
   "cell_type": "code",
   "execution_count": 29,
   "metadata": {},
   "outputs": [
    {
     "name": "stdout",
     "output_type": "stream",
     "text": [
      "b\n"
     ]
    }
   ],
   "source": [
    "print(s[0])"
   ]
  },
  {
   "cell_type": "code",
   "execution_count": 30,
   "metadata": {},
   "outputs": [
    {
     "name": "stdout",
     "output_type": "stream",
     "text": [
      "i\n"
     ]
    }
   ],
   "source": [
    "print(s[-1])"
   ]
  },
  {
   "cell_type": "code",
   "execution_count": null,
   "metadata": {},
   "outputs": [],
   "source": []
  }
 ],
 "metadata": {
  "kernelspec": {
   "display_name": "Python 3",
   "language": "python",
   "name": "python3"
  },
  "language_info": {
   "codemirror_mode": {
    "name": "ipython",
    "version": 3
   },
   "file_extension": ".py",
   "mimetype": "text/x-python",
   "name": "python",
   "nbconvert_exporter": "python",
   "pygments_lexer": "ipython3",
   "version": "3.7.6"
  }
 },
 "nbformat": 4,
 "nbformat_minor": 5
}
