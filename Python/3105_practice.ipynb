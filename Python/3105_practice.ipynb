{
 "cells": [
  {
   "cell_type": "markdown",
   "metadata": {},
   "source": [
    "## 1. Get the leap year between the given range\n",
    "    - Starting range ending range is given as input"
   ]
  },
  {
   "cell_type": "code",
   "execution_count": 2,
   "metadata": {},
   "outputs": [
    {
     "name": "stdout",
     "output_type": "stream",
     "text": [
      "Enter starting year : 2021\n",
      "Enter ending year : 2041\n",
      "The leap years between  2021 and  2041 are : \n",
      "2024\t2028\t2032\t2036\t2040\t"
     ]
    }
   ],
   "source": [
    "SYear = int(input(\"Enter starting year : \"))\n",
    "EYear = int(input(\"Enter ending year : \"))\n",
    "print(\"The leap years between \",SYear,\"and \",EYear, \"are : \")\n",
    "\n",
    "for SYear in range (SYear, EYear) :\n",
    "    if (SYear % 4 == 0) or (SYear % 4 == 0 and SYear % 100 != 0) :\n",
    "        print(SYear, end = '\\t')"
   ]
  },
  {
   "cell_type": "markdown",
   "metadata": {},
   "source": [
    "## 2. Get the prime numbers between the given range\n"
   ]
  },
  {
   "cell_type": "code",
   "execution_count": 1,
   "metadata": {},
   "outputs": [
    {
     "name": "stdout",
     "output_type": "stream",
     "text": [
      "Enter starting number : 5\n",
      "Enter ending number : 20\n",
      "The prime numbers between  5 and  20 are : \n",
      "5\n",
      "7\n",
      "11\n",
      "13\n",
      "17\n",
      "19\n"
     ]
    }
   ],
   "source": [
    "SNum = int(input(\"Enter starting number : \"))\n",
    "ENum = int(input(\"Enter ending number : \"))\n",
    "print(\"The prime numbers between \",SNum,\"and \",ENum, \"are : \")\n",
    "\n",
    "for num in range (SNum, ENum) :\n",
    "    count = 0\n",
    "    if num > 1:\n",
    "        for i in range (2, num) :\n",
    "            if num % i == 0 :\n",
    "                count += 1\n",
    "        if count < 1:\n",
    "            print(num)\n"
   ]
  },
  {
   "cell_type": "markdown",
   "metadata": {},
   "source": [
    "## 3. Get n number of Fibonacci numbers"
   ]
  },
  {
   "cell_type": "code",
   "execution_count": 3,
   "metadata": {},
   "outputs": [
    {
     "name": "stdout",
     "output_type": "stream",
     "text": [
      "Enter starting number : 2\n",
      "Enter ending number : 15\n",
      "The fibonacci numbers between  2 and  15 are : \n",
      "3\n",
      "5\n",
      "8\n",
      "13\n"
     ]
    }
   ],
   "source": [
    "SNum = int(input(\"Enter starting number : \"))\n",
    "ENum = int(input(\"Enter ending number : \"))\n",
    "print(\"The fibonacci numbers between \",SNum,\"and \",ENum, \"are : \")\n",
    "\n",
    "f1 = 0\n",
    "f2 = 1\n",
    "\n",
    "for i in range (2, ENum) :\n",
    "    f3 = f1 + f2\n",
    "    if f3 > SNum and f3 < ENum : \n",
    "        print(f3)\n",
    "    f1 = f2\n",
    "    f2 = f3\n",
    "    \n",
    "\n"
   ]
  },
  {
   "cell_type": "code",
   "execution_count": null,
   "metadata": {},
   "outputs": [],
   "source": []
  }
 ],
 "metadata": {
  "kernelspec": {
   "display_name": "Python 3",
   "language": "python",
   "name": "python3"
  },
  "language_info": {
   "codemirror_mode": {
    "name": "ipython",
    "version": 3
   },
   "file_extension": ".py",
   "mimetype": "text/x-python",
   "name": "python",
   "nbconvert_exporter": "python",
   "pygments_lexer": "ipython3",
   "version": "3.7.6"
  }
 },
 "nbformat": 4,
 "nbformat_minor": 5
}
