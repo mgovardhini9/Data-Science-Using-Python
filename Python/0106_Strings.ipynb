{
 "cells": [
  {
   "cell_type": "code",
   "execution_count": 137,
   "metadata": {},
   "outputs": [
    {
     "name": "stdout",
     "output_type": "stream",
     "text": [
      "y\n"
     ]
    }
   ],
   "source": [
    "s = \"\"\"Python is an interpreted high-level general-purpose programming language. Python's design philosophy emphasizes code readability with its notable use of significant indentation. Its language constructs as well as its object-oriented approach aim to help programmers write clear, logical code for small and large-scale projects.[30]\n",
    "\n",
    "Python is dynamically-typed and garbage-collected. It supports multiple programming paradigms, including structured (particularly, procedural), object-oriented and functional programming. Python is often described as a \"batteries included\" language due to its comprehensive standard library.[31]\n",
    "\n",
    "Guido van Rossum began working on Python in the late 1980s, as a successor to the ABC programming language, and first released it in 1991 as Python 0.9.0.[32] Python 2.0 was released in 2000 and introduced new features, such as list comprehensions and a garbage collection system using reference counting. Python 3.0 was released in 2008 and was a major revision of the language that is not completely backward-compatible and much Python 2 code does not run unmodified on Python 3. Python 2 was discontinued with version 2.7.18 in 2020.\"\"\"\n",
    "\n",
    "print(s[1])"
   ]
  },
  {
   "cell_type": "code",
   "execution_count": 138,
   "metadata": {},
   "outputs": [
    {
     "name": "stdout",
     "output_type": "stream",
     "text": [
      "1166\n"
     ]
    }
   ],
   "source": [
    "print(len(s))"
   ]
  },
  {
   "cell_type": "markdown",
   "metadata": {},
   "source": [
    "### STRING SLICING :\n",
    "\n",
    "#### Syntax\n",
    "\n",
    "String_var[staringIndex : EndingIndex]\n",
    "\n",
    "- Default SI -> 0\n",
    "- Default EI -> Length of the string - 1."
   ]
  },
  {
   "cell_type": "code",
   "execution_count": 139,
   "metadata": {},
   "outputs": [
    {
     "name": "stdout",
     "output_type": "stream",
     "text": [
      "Python\n"
     ]
    }
   ],
   "source": [
    "\n",
    "print(s[0 : 6])"
   ]
  },
  {
   "cell_type": "code",
   "execution_count": 140,
   "metadata": {},
   "outputs": [
    {
     "name": "stdout",
     "output_type": "stream",
     "text": [
      "Python is an interpreted high-level general-purpose programming language. Python's design philosophy\n"
     ]
    }
   ],
   "source": [
    "print(s[0 : 100])"
   ]
  },
  {
   "cell_type": "code",
   "execution_count": 141,
   "metadata": {},
   "outputs": [
    {
     "name": "stdout",
     "output_type": "stream",
     "text": [
      "n 2 code does not run unmodified on Python 3. Python 2 was discontinued with version 2.7.18 in 2020.\n"
     ]
    }
   ],
   "source": [
    "print(s[-100 : ])"
   ]
  },
  {
   "cell_type": "code",
   "execution_count": 142,
   "metadata": {},
   "outputs": [
    {
     "name": "stdout",
     "output_type": "stream",
     "text": [
      " \n"
     ]
    }
   ],
   "source": [
    "print(s[6])"
   ]
  },
  {
   "cell_type": "code",
   "execution_count": 143,
   "metadata": {},
   "outputs": [
    {
     "name": "stdout",
     "output_type": "stream",
     "text": [
      "Python is an in Python is an in\n"
     ]
    }
   ],
   "source": [
    "print(s[:15],s[0 : 15])"
   ]
  },
  {
   "cell_type": "code",
   "execution_count": 144,
   "metadata": {},
   "outputs": [
    {
     "name": "stdout",
     "output_type": "stream",
     "text": [
      "Python is an interpreted high-level general-purpose programming language. Python's design philosophy emphasizes code readability with its notable use of significant indentation. Its language constructs as well as its object-oriented approach aim to help programmers write clear, logical code for small and large-scale projects.[30]\n",
      "\n",
      "Python is dynamically-typed and garbage-collected. It supports multiple programming paradigms, including structured (particularly, procedural), object-oriented and functional programming. Python is often described as a \"batteries included\" language due to its comprehensive standard library.[31]\n",
      "\n",
      "Guido van Rossum began working on Python in the late 1980s, as a successor to the ABC programming language, and first released it in 1991 as Python 0.9.0.[32] Python 2.0 was released in 2000 and introduced new features, such as list comprehensions and a garbage collection system using reference counting. Python 3.0 was released in 2008 and was a major revision of the language that is not completely backward-compatible and much Python 2 code does not run unmodified on Python 3. Python 2 was discontinued with version 2.7.18 in 2020.\n"
     ]
    }
   ],
   "source": [
    "print(s[:])"
   ]
  },
  {
   "cell_type": "code",
   "execution_count": 145,
   "metadata": {},
   "outputs": [
    {
     "name": "stdout",
     "output_type": "stream",
     "text": [
      "Pto s\n"
     ]
    }
   ],
   "source": [
    "print(s[0 : 10 : 2])"
   ]
  },
  {
   "cell_type": "code",
   "execution_count": 146,
   "metadata": {},
   "outputs": [
    {
     "name": "stdout",
     "output_type": "stream",
     "text": [
      "Ph  \n"
     ]
    }
   ],
   "source": [
    "print(s[0 : 10 : 3])"
   ]
  },
  {
   "cell_type": "code",
   "execution_count": 147,
   "metadata": {},
   "outputs": [
    {
     "name": "stdout",
     "output_type": "stream",
     "text": [
      "8.. ose twduinci a  otP. otPn efdmunrtnso dc2nhy cmdaebtpo-rwcbyeepo o ith gunletf osvrrjmaswda80 idsee a . otP.ntucenrfrgiumty otelceargadasoseepo sls cs,euafwndcdrn n 02n ealrsw02nhy 2[090nhy a19 it ealrtrfda,gunlgimropCAeto oscu  a,09 tletn otPn nko ae usRnvoiG\n",
      "1[yabldant vseepo t tedeaga ddln erta\"as eice ef inhy gimroplnicu n enioteb )aueop,lauirp eucrsgiuci,miaa nmagr lilmsrpu I.eclo-gba n ey-laiay inhy\n",
      "]3.teopeaserldalasrfeo aio receiwsemroppe tmaharp enioteb t ale ascrso gunlsI.otten ncfni oeuebtnsihi tlbde dcszshm hooipnie 'otP.gunlgimropeorplrnglvlhi eepen as otP\n"
     ]
    }
   ],
   "source": [
    "print(s[-10 : : -2])"
   ]
  },
  {
   "cell_type": "code",
   "execution_count": 148,
   "metadata": {},
   "outputs": [
    {
     "name": "stdout",
     "output_type": "stream",
     "text": [
      "8i 00\n"
     ]
    }
   ],
   "source": [
    "print(s[-10: : 2])"
   ]
  },
  {
   "cell_type": "code",
   "execution_count": 149,
   "metadata": {},
   "outputs": [
    {
     "name": "stdout",
     "output_type": "stream",
     "text": [
      ".0202 ni 81.7.2 noisrev htiw deunitnocsid saw 2 nohtyP .3 nohtyP no deifidomnu nur ton seod edoc 2 nohtyP hcum dna elbitapmoc-drawkcab yletelpmoc ton si taht egaugnal eht fo noisiver rojam a saw dna 8002 ni desaeler saw 0.3 nohtyP .gnitnuoc ecnerefer gnisu metsys noitcelloc egabrag a dna snoisneherpmoc tsil sa hcus ,serutaef wen decudortni dna 0002 ni desaeler saw 0.2 nohtyP ]23[.0.9.0 nohtyP sa 1991 ni ti desaeler tsrif dna ,egaugnal gnimmargorp CBA eht ot rosseccus a sa ,s0891 etal eht ni nohtyP no gnikrow nageb mussoR nav odiuG\n",
      "\n",
      "]13[.yrarbil dradnats evisneherpmoc sti ot eud egaugnal \"dedulcni seirettab\" a sa debircsed netfo si nohtyP .gnimmargorp lanoitcnuf dna detneiro-tcejbo ,)larudecorp ,ylralucitrap( derutcurts gnidulcni ,smgidarap gnimmargorp elpitlum stroppus tI .detcelloc-egabrag dna depyt-yllacimanyd si nohtyP\n",
      "\n",
      "]03[.stcejorp elacs-egral dna llams rof edoc lacigol ,raelc etirw sremmargorp pleh ot mia hcaorppa detneiro-tcejbo sti sa llew sa stcurtsnoc egaugnal stI .noitatnedni tnacifingis fo esu elbaton sti htiw ytilibadaer edoc sezisahpme yhposolihp ngised s'nohtyP .egaugnal gnimmargorp esoprup-lareneg level-hgih deterpretni na si nohtyP\n"
     ]
    }
   ],
   "source": [
    "print(s[: : -1])"
   ]
  },
  {
   "cell_type": "code",
   "execution_count": 30,
   "metadata": {},
   "outputs": [
    {
     "name": "stdout",
     "output_type": "stream",
     "text": [
      ".22n 172nirvhi entosdsw2nhy 3nhy odiion u o edeo  otPhu n liamcdaka ltlmctns ateaga h oniie oa  a n 02n ealrsw03nhy gino ceee ns essniclo gba  n ninhrmcti ahu srte e euotida00 idsee a . otP]3... otPs 91n idsee si n eaga nmagr B h trsecsas s81ea h inhy ogirwngbmso a du\n",
      "]3.rri rdaseinhrmcsio u gunl\"eucisietb  adbrsdntos otP.nmagr aotnfdadter-cjo,lrdcr yrlcta(drtut ndln sgdrpgimropeptu topst dtelceargdadptylcmnds otP\n",
      "0[scjr lc-ga n lm o dclcgl,al tr rmagr lho i copadter-cjosis lws tutnceaga t nianditaiigsf s lao t twyiiaareo eiapeypslh gsdsnhy eaga nmagr spu-aee ee-ghdtrrtin inhy\n"
     ]
    }
   ],
   "source": [
    "print(s[: : -2])"
   ]
  },
  {
   "cell_type": "markdown",
   "metadata": {},
   "source": [
    "### STRING METHODS :"
   ]
  },
  {
   "cell_type": "code",
   "execution_count": 150,
   "metadata": {},
   "outputs": [
    {
     "name": "stdout",
     "output_type": "stream",
     "text": [
      "APSSDC DATA SCIENCE TRAINING PROGRAM\n",
      "apssdc data science training program\n",
      "apssdc dATA sCIENCE tRAINING pROGRAM\n"
     ]
    }
   ],
   "source": [
    "s1 = 'APSSDC Data Science Training Program'\n",
    "\n",
    "print(s1.upper())\n",
    "print(s1.lower())\n",
    "print(s1.swapcase())"
   ]
  },
  {
   "cell_type": "code",
   "execution_count": 151,
   "metadata": {},
   "outputs": [],
   "source": [
    "su = 'APSSDC'\n",
    "sl = 'apssdc'\n",
    "sn = '1'\n"
   ]
  },
  {
   "cell_type": "code",
   "execution_count": 152,
   "metadata": {},
   "outputs": [
    {
     "name": "stdout",
     "output_type": "stream",
     "text": [
      "True False\n"
     ]
    }
   ],
   "source": [
    "print(su.isupper(), sl.isupper())"
   ]
  },
  {
   "cell_type": "code",
   "execution_count": 153,
   "metadata": {},
   "outputs": [
    {
     "name": "stdout",
     "output_type": "stream",
     "text": [
      "True True\n"
     ]
    }
   ],
   "source": [
    "print(sl.islower(), sn.isdigit())"
   ]
  },
  {
   "cell_type": "markdown",
   "metadata": {},
   "source": [
    "### Validating Indian mobile Number\n",
    "\n",
    "- +91 -> \n",
    "- 10 digits -> len()\n",
    "- 9, 8, 7, 6."
   ]
  },
  {
   "cell_type": "code",
   "execution_count": 154,
   "metadata": {},
   "outputs": [
    {
     "name": "stdout",
     "output_type": "stream",
     "text": [
      "+91987654321o is not valid Indian mobile number\n"
     ]
    }
   ],
   "source": [
    "n1 = '+919876543210'\n",
    "n2 = '9876543210'\n",
    "n3 = '+91563214565'\n",
    "n4 = '+5632147890'\n",
    "n1 = '+91987654321o'\n",
    "\n",
    "if n1[0] == '+' :\n",
    "    if n1[1:3] == '91' and len(n1[3: ]) == 10 and n1[3] in '9876' and n1[1 : ].isdigit() :\n",
    "        print(n1, 'is valid Indian mobile number.')\n",
    "    elif len(n1[3: ]) == 10 and n1[3] in '9876' and n1.isdigit():\n",
    "        print(n1, 'is valid indian mobile number.')\n",
    "    else :\n",
    "        print(n1, 'is not valid Indian mobile number')"
   ]
  },
  {
   "cell_type": "code",
   "execution_count": 155,
   "metadata": {},
   "outputs": [
    {
     "name": "stdout",
     "output_type": "stream",
     "text": [
      "True\n"
     ]
    }
   ],
   "source": [
    "rollNo = '18B01A05E5'\n",
    "\n",
    "print(rollNo.startswith('18'))"
   ]
  },
  {
   "cell_type": "code",
   "execution_count": 156,
   "metadata": {},
   "outputs": [],
   "source": [
    "email1 = 'bhagya32123@gmail.com'\n",
    "email2 = 'bhagya.veeravalli@gmail.com'\n",
    "email3 = '18b01a05e5@svecw.edu.in'"
   ]
  },
  {
   "cell_type": "code",
   "execution_count": 157,
   "metadata": {},
   "outputs": [
    {
     "name": "stdout",
     "output_type": "stream",
     "text": [
      "False\n"
     ]
    }
   ],
   "source": [
    "print(email2.endswith('svecw.edu.in'))"
   ]
  },
  {
   "cell_type": "code",
   "execution_count": 158,
   "metadata": {},
   "outputs": [
    {
     "name": "stdout",
     "output_type": "stream",
     "text": [
      "True\n"
     ]
    }
   ],
   "source": [
    "print(email3.endswith('svecw.edu.in'))"
   ]
  },
  {
   "cell_type": "code",
   "execution_count": 159,
   "metadata": {},
   "outputs": [
    {
     "name": "stdout",
     "output_type": "stream",
     "text": [
      "11\n"
     ]
    }
   ],
   "source": [
    "print(email1.index('@'))"
   ]
  },
  {
   "cell_type": "code",
   "execution_count": 160,
   "metadata": {},
   "outputs": [
    {
     "name": "stdout",
     "output_type": "stream",
     "text": [
      "bhagya32123\n"
     ]
    }
   ],
   "source": [
    "print(email1[0 : 11])"
   ]
  },
  {
   "cell_type": "code",
   "execution_count": 161,
   "metadata": {},
   "outputs": [
    {
     "name": "stdout",
     "output_type": "stream",
     "text": [
      "18b01a05e5\n"
     ]
    }
   ],
   "source": [
    "print(email3[0 : email3.index('@')])"
   ]
  },
  {
   "cell_type": "code",
   "execution_count": 162,
   "metadata": {},
   "outputs": [
    {
     "name": "stdout",
     "output_type": "stream",
     "text": [
      "svecw\n"
     ]
    }
   ],
   "source": [
    "print(email3[email3.index('@') + 1 : email3.index('.')])"
   ]
  },
  {
   "cell_type": "code",
   "execution_count": 163,
   "metadata": {},
   "outputs": [
    {
     "data": {
      "text/plain": [
       "'svecw'"
      ]
     },
     "execution_count": 163,
     "metadata": {},
     "output_type": "execute_result"
    }
   ],
   "source": [
    "email3[email3.index('@') + 1 : email3.index('.')]"
   ]
  },
  {
   "cell_type": "code",
   "execution_count": 164,
   "metadata": {},
   "outputs": [
    {
     "name": "stdout",
     "output_type": "stream",
     "text": [
      "Help on method_descriptor:\n",
      "\n",
      "index(...)\n",
      "    S.index(sub[, start[, end]]) -> int\n",
      "    \n",
      "    Return the lowest index in S where substring sub is found,\n",
      "    such that sub is contained within S[start:end].  Optional\n",
      "    arguments start and end are interpreted as in slice notation.\n",
      "    \n",
      "    Raises ValueError when the substring is not found.\n",
      "\n"
     ]
    }
   ],
   "source": [
    "help(str.index)"
   ]
  },
  {
   "cell_type": "code",
   "execution_count": 165,
   "metadata": {},
   "outputs": [
    {
     "name": "stdout",
     "output_type": "stream",
     "text": [
      "6\n"
     ]
    }
   ],
   "source": [
    "email = 'bhagya@svecw@in'\n",
    "\n",
    "print(email.index('@'))"
   ]
  },
  {
   "cell_type": "code",
   "execution_count": 166,
   "metadata": {},
   "outputs": [
    {
     "name": "stdout",
     "output_type": "stream",
     "text": [
      "6\n"
     ]
    }
   ],
   "source": [
    "email = 'bhagya@svecw@in'\n",
    "\n",
    "print(email.index('@', 5))"
   ]
  },
  {
   "cell_type": "code",
   "execution_count": 167,
   "metadata": {},
   "outputs": [
    {
     "name": "stdout",
     "output_type": "stream",
     "text": [
      "2\n",
      "2\n",
      "1\n"
     ]
    }
   ],
   "source": [
    "print(email.count('a'))\n",
    "print(email.count('@'))\n",
    "print(email.count('svecw'))"
   ]
  },
  {
   "cell_type": "code",
   "execution_count": 78,
   "metadata": {},
   "outputs": [
    {
     "name": "stdout",
     "output_type": "stream",
     "text": [
      "APSSDC Python        APSSDC Python APSSDC Python\n"
     ]
    }
   ],
   "source": [
    "s1 = '   APSSDC Python    '\n",
    "\n",
    "print(s1.lstrip(), s1.rstrip(), s1.strip())"
   ]
  },
  {
   "cell_type": "code",
   "execution_count": 168,
   "metadata": {},
   "outputs": [
    {
     "name": "stdout",
     "output_type": "stream",
     "text": [
      "APSSDC Python)))) (((((((APSSDC Python APSSDC Python\n"
     ]
    }
   ],
   "source": [
    "s2 = '(((((((APSSDC Python))))'\n",
    "\n",
    "print(s2.lstrip('('), s2.rstrip(')'), s2.strip('()'))"
   ]
  },
  {
   "cell_type": "code",
   "execution_count": 174,
   "metadata": {},
   "outputs": [
    {
     "name": "stdout",
     "output_type": "stream",
     "text": [
      "Cleaned data\n"
     ]
    }
   ],
   "source": [
    "s2 = '(((([[[[{{{{Cleaned data}}}}]]]]))))'\n",
    "\n",
    "print(s2.strip('({[]})'))"
   ]
  },
  {
   "cell_type": "code",
   "execution_count": 170,
   "metadata": {},
   "outputs": [
    {
     "name": "stdout",
     "output_type": "stream",
     "text": [
      "Python is an interpreted high-level general-purpose programming language. Python's design philosophy emphasizes code readability with its notable use of significant indentation. Its language constructs as well as its object-oriented approach aim to help programmers write clear, logical code for small and large-scale projects.[30]\n",
      "\n",
      "Python is dynamically-typed and garbage-collected. It supports multiple programming paradigms, including structured (particularly, procedural), object-oriented and functional programming. Python is often described as a \"batteries included\" language due to its comprehensive standard library.[31]\n",
      "\n",
      "Guido van Rossum began working on Python in the late 1980s, as a successor to the ABC programming language, and first released it in 1991 as Python 0.9.0.[32] Python 2.0 was released in 2000 and introduced new features, such as list comprehensions and a garbage collection system using reference counting. Python 3.0 was released in 2008 and was a major revision of the language that is not completely backward-compatible and much Python 2 code does not run unmodified on Python 3. Python 2 was discontinued with version 2.7.18 in 2020.\n"
     ]
    }
   ],
   "source": [
    "print(s)"
   ]
  },
  {
   "cell_type": "code",
   "execution_count": 173,
   "metadata": {},
   "outputs": [],
   "source": [
    "s3 = '''Python is an interpreted high-level general-purpose programming language. Python's design philosophy emphasizes code readability with its notable use of significant indentation. Its language constructs as well as its object-oriented approach aim to help programmers write clear, logical code for small and large-scale projects.[30]\n",
    "\n",
    "Python is dynamically-typed and garbage-collected. It supports multiple programming paradigms, including structured (particularly, procedural), object-oriented and functional programming. Python is often described as a \"batteries included\" language due to its comprehensive standard library.'''"
   ]
  },
  {
   "cell_type": "code",
   "execution_count": 172,
   "metadata": {},
   "outputs": [
    {
     "name": "stdout",
     "output_type": "stream",
     "text": [
      "Python is an interpreted high-level general-purpose programming language. Python's design philosophy emphasizes code readability with its notable use of significant indentation. Its language constructs as well as its object-oriented approach aim to help programmers write clear, logical code for small and large-scale projects.[30]\n",
      "\n",
      "Python is dynamically-typed and garbage-collected. It supports multiple programming paradigms, including structured (particularly, procedural), object-oriented and functional programming. Python is often described as a \"batteries included\" language due to its comprehensive standard library.\n"
     ]
    }
   ],
   "source": [
    "print(s3)"
   ]
  },
  {
   "cell_type": "code",
   "execution_count": 175,
   "metadata": {},
   "outputs": [
    {
     "name": "stdout",
     "output_type": "stream",
     "text": [
      "['Python', 'is', 'an', 'interpreted', 'high-level', 'general-purpose', 'programming', 'language.', \"Python's\", 'design', 'philosophy', 'emphasizes', 'code', 'readability', 'with', 'its', 'notable', 'use', 'of', 'significant', 'indentation.', 'Its', 'language', 'constructs', 'as', 'well', 'as', 'its', 'object-oriented', 'approach', 'aim', 'to', 'help', 'programmers', 'write', 'clear,', 'logical', 'code', 'for', 'small', 'and', 'large-scale', 'projects.[30]\\n\\nPython', 'is', 'dynamically-typed', 'and', 'garbage-collected.', 'It', 'supports', 'multiple', 'programming', 'paradigms,', 'including', 'structured', '(particularly,', 'procedural),', 'object-oriented', 'and', 'functional', 'programming.', 'Python', 'is', 'often', 'described', 'as', 'a', '\"batteries', 'included\"', 'language', 'due', 'to', 'its', 'comprehensive', 'standard', 'library.']\n"
     ]
    }
   ],
   "source": [
    "print(s3.split(' '))"
   ]
  },
  {
   "cell_type": "code",
   "execution_count": 176,
   "metadata": {},
   "outputs": [
    {
     "name": "stdout",
     "output_type": "stream",
     "text": [
      "['Python is an interpreted high-level general-purpose programming language', \" Python's design philosophy emphasizes code readability with its notable use of significant indentation\", ' Its language constructs as well as its object-oriented approach aim to help programmers write clear, logical code for small and large-scale projects', '[30]\\n\\nPython is dynamically-typed and garbage-collected', ' It supports multiple programming paradigms, including structured (particularly, procedural), object-oriented and functional programming', ' Python is often described as a \"batteries included\" language due to its comprehensive standard library', '']\n"
     ]
    }
   ],
   "source": [
    "print(s3.split('.'))\n",
    "\n",
    "sen = s3.split('.')"
   ]
  },
  {
   "cell_type": "code",
   "execution_count": 177,
   "metadata": {},
   "outputs": [
    {
     "data": {
      "text/plain": [
       "'Python is an interpreted high-level general-purpose programming language. Python\\'s design philosophy emphasizes code readability with its notable use of significant indentation. Its language constructs as well as its object-oriented approach aim to help programmers write clear, logical code for small and large-scale projects.[30]\\n\\nPython is dynamically-typed and garbage-collected. It supports multiple programming paradigms, including structured (particularly, procedural), object-oriented and functional programming. Python is often described as a \"batteries included\" language due to its comprehensive standard library.'"
      ]
     },
     "execution_count": 177,
     "metadata": {},
     "output_type": "execute_result"
    }
   ],
   "source": [
    "'.'.join(sen)"
   ]
  },
  {
   "cell_type": "code",
   "execution_count": 178,
   "metadata": {},
   "outputs": [
    {
     "data": {
      "text/plain": [
       "'Python is an interpreted high-level general-purpose programming language******** Python\\'s design philosophy emphasizes code readability with its notable use of significant indentation******** Its language constructs as well as its object-oriented approach aim to help programmers write clear, logical code for small and large-scale projects********[30]\\n\\nPython is dynamically-typed and garbage-collected******** It supports multiple programming paradigms, including structured (particularly, procedural), object-oriented and functional programming******** Python is often described as a \"batteries included\" language due to its comprehensive standard library********'"
      ]
     },
     "execution_count": 178,
     "metadata": {},
     "output_type": "execute_result"
    }
   ],
   "source": [
    "'********'.join(sen)"
   ]
  },
  {
   "cell_type": "code",
   "execution_count": 179,
   "metadata": {},
   "outputs": [
    {
     "name": "stdout",
     "output_type": "stream",
     "text": [
      "Python-is-an-interpreted-high-level-general-purpose-programming-language.-Python's-design-philosophy-emphasizes-code-readability-with-its-notable-use-of-significant-indentation.-Its-language-constructs-as-well-as-its-object-oriented-approach-aim-to-help-programmers-write-clear,-logical-code-for-small-and-large-scale-projects.[30]\n",
      "\n",
      "Python-is-dynamically-typed-and-garbage-collected.-It-supports-multiple-programming-paradigms,-including-structured-(particularly,-procedural),-object-oriented-and-functional-programming.-Python-is-often-described-as-a-\"batteries-included\"-language-due-to-its-comprehensive-standard-library.[31]\n",
      "\n",
      "Guido-van-Rossum-began-working-on-Python-in-the-late-1980s,-as-a-successor-to-the-ABC-programming-language,-and-first-released-it-in-1991-as-Python-0.9.0.[32]-Python-2.0-was-released-in-2000-and-introduced-new-features,-such-as-list-comprehensions-and-a-garbage-collection-system-using-reference-counting.-Python-3.0-was-released-in-2008-and-was-a-major-revision-of-the-language-that-is-not-completely-backward-compatible-and-much-Python-2-code-does-not-run-unmodified-on-Python-3.-Python-2-was-discontinued-with-version-2.7.18-in-2020.\n"
     ]
    }
   ],
   "source": [
    "print(s.replace(' ','-'))"
   ]
  },
  {
   "cell_type": "code",
   "execution_count": 180,
   "metadata": {},
   "outputs": [
    {
     "name": "stdout",
     "output_type": "stream",
     "text": [
      "Python Is An Interpreted High-Level General-Purpose Programming Language. Python'S Design Philosophy Emphasizes Code Readability With Its Notable Use Of Significant Indentation. Its Language Constructs As Well As Its Object-Oriented Approach Aim To Help Programmers Write Clear, Logical Code For Small And Large-Scale Projects.[30]\n",
      "\n",
      "Python Is Dynamically-Typed And Garbage-Collected. It Supports Multiple Programming Paradigms, Including Structured (Particularly, Procedural), Object-Oriented And Functional Programming. Python Is Often Described As A \"Batteries Included\" Language Due To Its Comprehensive Standard Library.[31]\n",
      "\n",
      "Guido Van Rossum Began Working On Python In The Late 1980S, As A Successor To The Abc Programming Language, And First Released It In 1991 As Python 0.9.0.[32] Python 2.0 Was Released In 2000 And Introduced New Features, Such As List Comprehensions And A Garbage Collection System Using Reference Counting. Python 3.0 Was Released In 2008 And Was A Major Revision Of The Language That Is Not Completely Backward-Compatible And Much Python 2 Code Does Not Run Unmodified On Python 3. Python 2 Was Discontinued With Version 2.7.18 In 2020.\n"
     ]
    }
   ],
   "source": [
    "print(s.title())"
   ]
  },
  {
   "cell_type": "code",
   "execution_count": 181,
   "metadata": {},
   "outputs": [
    {
     "name": "stdout",
     "output_type": "stream",
     "text": [
      "Python is an interpreted high-level general-purpose programming language. python's design philosophy emphasizes code readability with its notable use of significant indentation. its language constructs as well as its object-oriented approach aim to help programmers write clear, logical code for small and large-scale projects.[30]\n",
      "\n",
      "python is dynamically-typed and garbage-collected. it supports multiple programming paradigms, including structured (particularly, procedural), object-oriented and functional programming. python is often described as a \"batteries included\" language due to its comprehensive standard library.[31]\n",
      "\n",
      "guido van rossum began working on python in the late 1980s, as a successor to the abc programming language, and first released it in 1991 as python 0.9.0.[32] python 2.0 was released in 2000 and introduced new features, such as list comprehensions and a garbage collection system using reference counting. python 3.0 was released in 2008 and was a major revision of the language that is not completely backward-compatible and much python 2 code does not run unmodified on python 3. python 2 was discontinued with version 2.7.18 in 2020.\n"
     ]
    }
   ],
   "source": [
    "print(s.capitalize())"
   ]
  },
  {
   "cell_type": "code",
   "execution_count": 182,
   "metadata": {},
   "outputs": [
    {
     "name": "stdout",
     "output_type": "stream",
     "text": [
      "False\n"
     ]
    }
   ],
   "source": [
    "print(s.istitle())"
   ]
  },
  {
   "cell_type": "code",
   "execution_count": 183,
   "metadata": {},
   "outputs": [
    {
     "name": "stdout",
     "output_type": "stream",
     "text": [
      "True\n"
     ]
    }
   ],
   "source": [
    "string = 'Python Programming'\n",
    "\n",
    "print(string.istitle())"
   ]
  },
  {
   "cell_type": "code",
   "execution_count": 184,
   "metadata": {},
   "outputs": [
    {
     "name": "stdout",
     "output_type": "stream",
     "text": [
      "I\"m certify that Bhagya from Institute, on Program, on Date.\n"
     ]
    }
   ],
   "source": [
    "certificate = 'I\"m certify that {} from Institute, on Program, on Date.'.format('Bhagya')\n",
    "\n",
    "print(certificate)"
   ]
  },
  {
   "cell_type": "code",
   "execution_count": 185,
   "metadata": {},
   "outputs": [
    {
     "name": "stdout",
     "output_type": "stream",
     "text": [
      "I\"m certify that Bhagya from Institute, on Program, on 01-June-2021.\n"
     ]
    }
   ],
   "source": [
    "certificate = 'I\"m certify that {} from Institute, on Program, on {}.'.format('Bhagya', '01-June-2021')\n",
    "\n",
    "print(certificate)"
   ]
  },
  {
   "cell_type": "code",
   "execution_count": 186,
   "metadata": {},
   "outputs": [
    {
     "name": "stdout",
     "output_type": "stream",
     "text": [
      "I\"m certify that Bhagya from Institute, on Program,form01-june,Bhagya performance is excel.\n"
     ]
    }
   ],
   "source": [
    "certificate = 'I\"m certify that {0} from Institute, on Program,form{1},{0} performance is excel.'.format('Bhagya', '01-june')\n",
    "\n",
    "print(certificate)"
   ]
  },
  {
   "cell_type": "code",
   "execution_count": 187,
   "metadata": {},
   "outputs": [],
   "source": [
    "str1 = \"\"\"Python is an interpreted high-level general-purpose programming language. Python's design philosophy emphasizes code readability with its notable use of significant indentation. Its language constructs as well as its object-oriented approach aim to help programmers write clear, logical code for small and large-scale projects.[30]\n",
    "\n",
    "Python is dynamically-typed and garbage-collected. It supports multiple programming paradigms, including structured (particularly, procedural), object-oriented and functional programming. Python is often described as a \"batteries included\" language due to its comprehensive standard library.\"\"\"\n",
    "\n"
   ]
  },
  {
   "cell_type": "code",
   "execution_count": 188,
   "metadata": {},
   "outputs": [
    {
     "name": "stdout",
     "output_type": "stream",
     "text": [
      "P\ty\tt\th\to\tn\ti\ts\ta\tn\ti\tn\tt\te\tr\tp\tr\te\tt\te\td\th\ti\tg\th\tl\te\tv\te\tl\tg\te\tn\te\tr\ta\tl\tp\tu\tr\tp\to\ts\te\tp\tr\to\tg\tr\ta\tm\tm\ti\tn\tg\tl\ta\tn\tg\tu\ta\tg\te\tP\ty\tt\th\to\tn\ts\td\te\ts\ti\tg\tn\tp\th\ti\tl\to\ts\to\tp\th\ty\te\tm\tp\th\ta\ts\ti\tz\te\ts\tc\to\td\te\tr\te\ta\td\ta\tb\ti\tl\ti\tt\ty\tw\ti\tt\th\ti\tt\ts\tn\to\tt\ta\tb\tl\te\tu\ts\te\to\tf\ts\ti\tg\tn\ti\tf\ti\tc\ta\tn\tt\ti\tn\td\te\tn\tt\ta\tt\ti\to\tn\tI\tt\ts\tl\ta\tn\tg\tu\ta\tg\te\tc\to\tn\ts\tt\tr\tu\tc\tt\ts\ta\ts\tw\te\tl\tl\ta\ts\ti\tt\ts\to\tb\tj\te\tc\tt\to\tr\ti\te\tn\tt\te\td\ta\tp\tp\tr\to\ta\tc\th\ta\ti\tm\tt\to\th\te\tl\tp\tp\tr\to\tg\tr\ta\tm\tm\te\tr\ts\tw\tr\ti\tt\te\tc\tl\te\ta\tr\tl\to\tg\ti\tc\ta\tl\tc\to\td\te\tf\to\tr\ts\tm\ta\tl\tl\ta\tn\td\tl\ta\tr\tg\te\ts\tc\ta\tl\te\tp\tr\to\tj\te\tc\tt\ts\tP\ty\tt\th\to\tn\ti\ts\td\ty\tn\ta\tm\ti\tc\ta\tl\tl\ty\tt\ty\tp\te\td\ta\tn\td\tg\ta\tr\tb\ta\tg\te\tc\to\tl\tl\te\tc\tt\te\td\tI\tt\ts\tu\tp\tp\to\tr\tt\ts\tm\tu\tl\tt\ti\tp\tl\te\tp\tr\to\tg\tr\ta\tm\tm\ti\tn\tg\tp\ta\tr\ta\td\ti\tg\tm\ts\ti\tn\tc\tl\tu\td\ti\tn\tg\ts\tt\tr\tu\tc\tt\tu\tr\te\td\tp\ta\tr\tt\ti\tc\tu\tl\ta\tr\tl\ty\tp\tr\to\tc\te\td\tu\tr\ta\tl\to\tb\tj\te\tc\tt\to\tr\ti\te\tn\tt\te\td\ta\tn\td\tf\tu\tn\tc\tt\ti\to\tn\ta\tl\tp\tr\to\tg\tr\ta\tm\tm\ti\tn\tg\tP\ty\tt\th\to\tn\ti\ts\to\tf\tt\te\tn\td\te\ts\tc\tr\ti\tb\te\td\ta\ts\ta\tb\ta\tt\tt\te\tr\ti\te\ts\ti\tn\tc\tl\tu\td\te\td\tl\ta\tn\tg\tu\ta\tg\te\td\tu\te\tt\to\ti\tt\ts\tc\to\tm\tp\tr\te\th\te\tn\ts\ti\tv\te\ts\tt\ta\tn\td\ta\tr\td\tl\ti\tb\tr\ta\tr\ty\t"
     ]
    }
   ],
   "source": [
    "for char in str1 : \n",
    "    if char.isalpha() :\n",
    "        print(char, end = '\\t')"
   ]
  },
  {
   "cell_type": "code",
   "execution_count": 189,
   "metadata": {},
   "outputs": [
    {
     "name": "stdout",
     "output_type": "stream",
     "text": [
      "3\t0\t"
     ]
    }
   ],
   "source": [
    "for char in str1 : \n",
    "    if char.isdigit() :\n",
    "        print(char, end = '\\t')"
   ]
  },
  {
   "cell_type": "code",
   "execution_count": 190,
   "metadata": {},
   "outputs": [
    {
     "name": "stdout",
     "output_type": "stream",
     "text": [
      "o\ti\ta\ti\te\te\te\ti\te\te\te\te\ta\tu\to\te\to\ta\ti\ta\tu\ta\te\to\te\ti\ti\to\to\te\ta\ti\te\to\te\te\ta\ta\ti\ti\ti\ti\to\ta\te\tu\te\to\ti\ti\ti\ta\ti\te\ta\ti\to\tI\ta\tu\ta\te\to\tu\ta\te\ta\ti\to\te\to\ti\te\te\ta\to\ta\ta\ti\to\te\to\ta\te\ti\te\te\ta\to\ti\ta\to\te\to\ta\ta\ta\te\ta\te\to\te\to\ti\ta\ti\ta\te\ta\ta\ta\te\to\te\te\tI\tu\to\tu\ti\te\to\ta\ti\ta\ta\ti\ti\tu\ti\tu\tu\te\ta\ti\tu\ta\to\te\tu\ta\to\te\to\ti\te\te\ta\tu\ti\to\ta\to\ta\ti\to\ti\to\te\te\ti\te\ta\ta\ta\te\ti\te\ti\tu\te\ta\tu\ta\te\tu\te\to\ti\to\te\te\ti\te\ta\ta\ti\ta\t"
     ]
    }
   ],
   "source": [
    "for char in str1 : \n",
    "    if char in 'AEIOUaeiou' :\n",
    "        print(char, end = '\\t')"
   ]
  },
  {
   "cell_type": "code",
   "execution_count": 191,
   "metadata": {},
   "outputs": [
    {
     "name": "stdout",
     "output_type": "stream",
     "text": [
      "Alpha 522 Digits 2 Special characters 100\n"
     ]
    }
   ],
   "source": [
    "ac = 0\n",
    "nc = 0\n",
    "sc = 0\n",
    "\n",
    "for char in str1 : \n",
    "    if char.isalpha() :\n",
    "        ac += 1\n",
    "    elif char.isdigit():\n",
    "        nc += 1\n",
    "    else :\n",
    "        sc += 1\n",
    "        \n",
    "print('Alpha', ac, 'Digits', nc, 'Special characters', sc)"
   ]
  },
  {
   "cell_type": "markdown",
   "metadata": {},
   "source": [
    "### WORK\n",
    "- Sum of all the digits in the string.\n",
    "- Sum of the even and odd digits separately in the string."
   ]
  },
  {
   "cell_type": "markdown",
   "metadata": {},
   "source": [
    "## LISTS :\n",
    "\n",
    "It is used to store the non-homogenous group of valid datattypes in Python.\n",
    "\n",
    "#### Properties\n",
    "\n",
    "- It is declared as [].\n",
    "- List mutable datatypes.\n",
    "- List is an ordered data.\n",
    "- It is iterable."
   ]
  },
  {
   "cell_type": "code",
   "execution_count": 192,
   "metadata": {},
   "outputs": [],
   "source": [
    "li = []\n",
    "\n",
    "li2 = list()"
   ]
  },
  {
   "cell_type": "code",
   "execution_count": 193,
   "metadata": {},
   "outputs": [
    {
     "name": "stdout",
     "output_type": "stream",
     "text": [
      "<class 'list'> <class 'list'>\n"
     ]
    }
   ],
   "source": [
    "print(type(li), type(li2))"
   ]
  },
  {
   "cell_type": "code",
   "execution_count": 194,
   "metadata": {},
   "outputs": [
    {
     "name": "stdout",
     "output_type": "stream",
     "text": [
      "[1, 5.5, (5+6j), 'Python', [1, 2, 3]]\n"
     ]
    }
   ],
   "source": [
    "li = [1, 5.5, 5 + 6j, 'Python', [1, 2, 3]]\n",
    "print(li)"
   ]
  },
  {
   "cell_type": "code",
   "execution_count": null,
   "metadata": {},
   "outputs": [],
   "source": []
  }
 ],
 "metadata": {
  "kernelspec": {
   "display_name": "Python 3",
   "language": "python",
   "name": "python3"
  },
  "language_info": {
   "codemirror_mode": {
    "name": "ipython",
    "version": 3
   },
   "file_extension": ".py",
   "mimetype": "text/x-python",
   "name": "python",
   "nbconvert_exporter": "python",
   "pygments_lexer": "ipython3",
   "version": "3.7.6"
  }
 },
 "nbformat": 4,
 "nbformat_minor": 5
}
