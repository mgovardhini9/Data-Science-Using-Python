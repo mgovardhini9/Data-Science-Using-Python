{
 "cells": [
  {
   "cell_type": "markdown",
   "id": "e1344b2d",
   "metadata": {},
   "source": [
    "# Python Basics\n",
    "\n",
    "## Todays Objectives\n",
    "\n",
    "\n",
    "- Output & Input\n",
    "- Variables in Python\n",
    "- Type Conversions\n",
    "- Operators in Python\n",
    "- Conditional Statements"
   ]
  },
  {
   "cell_type": "code",
   "execution_count": 1,
   "id": "0786ec38",
   "metadata": {},
   "outputs": [
    {
     "name": "stdout",
     "output_type": "stream",
     "text": [
      "Hello World\n"
     ]
    }
   ],
   "source": [
    "print(\"Hello World\")"
   ]
  },
  {
   "cell_type": "code",
   "execution_count": 2,
   "id": "fce4b82c",
   "metadata": {},
   "outputs": [
    {
     "name": "stdout",
     "output_type": "stream",
     "text": [
      "Todays date is 29\n"
     ]
    }
   ],
   "source": [
    "print(\"Todays date is\",29)"
   ]
  },
  {
   "cell_type": "code",
   "execution_count": 3,
   "id": "0580d61e",
   "metadata": {},
   "outputs": [
    {
     "name": "stdout",
     "output_type": "stream",
     "text": [
      "Todays date is-29\n"
     ]
    }
   ],
   "source": [
    "print(\"Todays date is\",29, sep = '-')"
   ]
  },
  {
   "cell_type": "code",
   "execution_count": 4,
   "id": "3cc7983b",
   "metadata": {},
   "outputs": [
    {
     "name": "stdout",
     "output_type": "stream",
     "text": [
      "1\t2\t3\t4\t5\t6\n"
     ]
    }
   ],
   "source": [
    "print(1,2,3,4,5,6, sep = '\\t')"
   ]
  },
  {
   "cell_type": "code",
   "execution_count": 5,
   "id": "8c95e6b4",
   "metadata": {},
   "outputs": [
    {
     "name": "stdout",
     "output_type": "stream",
     "text": [
      "1abc2abc3abc4abc5abc6\n"
     ]
    }
   ],
   "source": [
    "print(1,2,3,4,5,6, sep = 'abc')"
   ]
  },
  {
   "cell_type": "code",
   "execution_count": 7,
   "id": "22b9b6cf",
   "metadata": {},
   "outputs": [
    {
     "name": "stdout",
     "output_type": "stream",
     "text": [
      "Hello World\n",
      "Hello World\n",
      "Hello World3\n"
     ]
    }
   ],
   "source": [
    "print(\"Hello World\")\n",
    "print(\"Hello World\")\n",
    "print(\"Hello World3\")"
   ]
  },
  {
   "cell_type": "code",
   "execution_count": 8,
   "id": "8b9c402d",
   "metadata": {},
   "outputs": [
    {
     "name": "stdout",
     "output_type": "stream",
     "text": [
      "Hello World\tHello World\n",
      "Hello World\n"
     ]
    }
   ],
   "source": [
    "print(\"Hello World\", end = '\\t')\n",
    "print(\"Hello World\")\n",
    "print(\"Hello World\")"
   ]
  },
  {
   "cell_type": "markdown",
   "id": "4cf81594",
   "metadata": {},
   "source": [
    "### Variables\n",
    "\n",
    "It is the named memory location which holds some value.\n",
    "\n",
    "\n",
    "### Properties of declaring a variable\n",
    "\n",
    "- It can contain A to Z, a to z, 0 to 9, _\n",
    "- It shouldn't start with a number.\n",
    "- no special characters should included in variable name except \"_\".\n",
    "- Keywords are not allowed."
   ]
  },
  {
   "cell_type": "code",
   "execution_count": 9,
   "id": "2e15079a",
   "metadata": {},
   "outputs": [],
   "source": [
    "a = 10\n",
    "A = 5"
   ]
  },
  {
   "cell_type": "code",
   "execution_count": 12,
   "id": "3b6a24ab",
   "metadata": {},
   "outputs": [],
   "source": [
    "a = 55\n",
    "_a = 2256\n",
    "# 1a = 66\n",
    "# a-b = 23+66\n",
    "_ = 625\n",
    "a9 = 'Python'\n",
    "a9_ = 'APSSDC'"
   ]
  },
  {
   "cell_type": "markdown",
   "id": "a1b177cf",
   "metadata": {},
   "source": [
    "### Data Types in Python\n",
    "\n",
    "- Primary Data Types -> int, float, complex, string, boolean.\n",
    "- Secondary Data Types -> Containers -> List, Tuple, Dictionary, Set."
   ]
  },
  {
   "cell_type": "code",
   "execution_count": 13,
   "id": "73a09781",
   "metadata": {},
   "outputs": [],
   "source": [
    "a = 55 # int\n",
    "b = 55.66 #float\n",
    "c = 5 + 6j #complex\n",
    "d = 'a+d/.,' #string\n",
    "e = True #boolean\n",
    "f = ['python', 65, 5+6j, 55.665] #list\n",
    "g = ('python', 65, 5+6j, 55.665) #tuple\n",
    "h = {'Name' : 'Python'} #dictionary\n",
    "i = {1, 2, 3, 4} #set"
   ]
  },
  {
   "cell_type": "code",
   "execution_count": 14,
   "id": "dd793926",
   "metadata": {},
   "outputs": [
    {
     "name": "stdout",
     "output_type": "stream",
     "text": [
      "<class 'int'>\n"
     ]
    }
   ],
   "source": [
    "print(type(a))"
   ]
  },
  {
   "cell_type": "code",
   "execution_count": 15,
   "id": "b2421ea7",
   "metadata": {},
   "outputs": [
    {
     "name": "stdout",
     "output_type": "stream",
     "text": [
      "<class 'float'>\n"
     ]
    }
   ],
   "source": [
    "a = 55.66\n",
    "\n",
    "print(type(a))"
   ]
  },
  {
   "cell_type": "code",
   "execution_count": 16,
   "id": "6bfa1789",
   "metadata": {},
   "outputs": [
    {
     "name": "stdout",
     "output_type": "stream",
     "text": [
      "<class 'complex'> <class 'set'>\n"
     ]
    }
   ],
   "source": [
    "print(type(c), type(i))"
   ]
  },
  {
   "cell_type": "code",
   "execution_count": 17,
   "id": "fa8fb9e6",
   "metadata": {},
   "outputs": [
    {
     "name": "stdout",
     "output_type": "stream",
     "text": [
      "123\n"
     ]
    }
   ],
   "source": [
    "a = input()"
   ]
  },
  {
   "cell_type": "code",
   "execution_count": 18,
   "id": "e2d11f9b",
   "metadata": {},
   "outputs": [],
   "source": [
    "abc = 556.6"
   ]
  },
  {
   "cell_type": "code",
   "execution_count": 19,
   "id": "7c882140",
   "metadata": {},
   "outputs": [
    {
     "name": "stdout",
     "output_type": "stream",
     "text": [
      "<class 'str'>\n"
     ]
    }
   ],
   "source": [
    "print(type(a))"
   ]
  },
  {
   "cell_type": "code",
   "execution_count": 20,
   "id": "59411c9b",
   "metadata": {},
   "outputs": [
    {
     "name": "stdout",
     "output_type": "stream",
     "text": [
      "[1, 2, 3]\n"
     ]
    }
   ],
   "source": [
    "b = input()"
   ]
  },
  {
   "cell_type": "code",
   "execution_count": 21,
   "id": "cc555a97",
   "metadata": {},
   "outputs": [
    {
     "name": "stdout",
     "output_type": "stream",
     "text": [
      "[1, 2, 3] <class 'str'>\n"
     ]
    }
   ],
   "source": [
    "print(b, type(b))"
   ]
  },
  {
   "cell_type": "markdown",
   "id": "71430d98",
   "metadata": {},
   "source": [
    "### TYPE Conversions"
   ]
  },
  {
   "cell_type": "code",
   "execution_count": 22,
   "id": "11d97729",
   "metadata": {},
   "outputs": [
    {
     "name": "stdout",
     "output_type": "stream",
     "text": [
      "23.3\n"
     ]
    },
    {
     "ename": "ValueError",
     "evalue": "invalid literal for int() with base 10: '23.3'",
     "output_type": "error",
     "traceback": [
      "\u001b[1;31m---------------------------------------------------------------------------\u001b[0m",
      "\u001b[1;31mValueError\u001b[0m                                Traceback (most recent call last)",
      "\u001b[1;32m<ipython-input-22-db898fecb4d9>\u001b[0m in \u001b[0;36m<module>\u001b[1;34m\u001b[0m\n\u001b[1;32m----> 1\u001b[1;33m \u001b[0ma\u001b[0m \u001b[1;33m=\u001b[0m \u001b[0mint\u001b[0m\u001b[1;33m(\u001b[0m\u001b[0minput\u001b[0m\u001b[1;33m(\u001b[0m\u001b[1;33m)\u001b[0m\u001b[1;33m)\u001b[0m\u001b[1;33m\u001b[0m\u001b[1;33m\u001b[0m\u001b[0m\n\u001b[0m\u001b[0;32m      2\u001b[0m \u001b[1;33m\u001b[0m\u001b[0m\n\u001b[0;32m      3\u001b[0m \u001b[0mprint\u001b[0m\u001b[1;33m(\u001b[0m\u001b[0ma\u001b[0m\u001b[1;33m,\u001b[0m \u001b[0mtype\u001b[0m\u001b[1;33m(\u001b[0m\u001b[0ma\u001b[0m\u001b[1;33m)\u001b[0m\u001b[1;33m)\u001b[0m\u001b[1;33m\u001b[0m\u001b[1;33m\u001b[0m\u001b[0m\n",
      "\u001b[1;31mValueError\u001b[0m: invalid literal for int() with base 10: '23.3'"
     ]
    }
   ],
   "source": [
    "a = int(input())\n",
    "\n",
    "print(a, type(a))"
   ]
  },
  {
   "cell_type": "code",
   "execution_count": 23,
   "id": "7c284c6a",
   "metadata": {},
   "outputs": [
    {
     "name": "stdout",
     "output_type": "stream",
     "text": [
      "2.3\n",
      "2.3 <class 'float'>\n"
     ]
    }
   ],
   "source": [
    "a = float(input())\n",
    "\n",
    "print(a, type(a))"
   ]
  },
  {
   "cell_type": "markdown",
   "id": "7da546ba",
   "metadata": {},
   "source": [
    "### Number System\n",
    "\n",
    "- Decimal -> 10 -> 0 to 9\n",
    "- Binary -> 2 -> 0, 1\n",
    "- Octal -> 8 -> 0 to 7\n",
    "- Hexadecimal -> 16 -> 0 to F"
   ]
  },
  {
   "cell_type": "code",
   "execution_count": 24,
   "id": "990df2fa",
   "metadata": {},
   "outputs": [
    {
     "name": "stdout",
     "output_type": "stream",
     "text": [
      "0b110111 0o67 0x37\n"
     ]
    }
   ],
   "source": [
    "a = 55\n",
    "\n",
    "print(bin(a), oct(a), hex(a))"
   ]
  },
  {
   "cell_type": "code",
   "execution_count": 26,
   "id": "6b050cd2",
   "metadata": {},
   "outputs": [
    {
     "name": "stdout",
     "output_type": "stream",
     "text": [
      "55 55 55\n"
     ]
    }
   ],
   "source": [
    "print(int('110111', 2), int('67', 8), int('37', 16))"
   ]
  },
  {
   "cell_type": "code",
   "execution_count": 27,
   "id": "a6f593b1",
   "metadata": {},
   "outputs": [
    {
     "name": "stdout",
     "output_type": "stream",
     "text": [
      "97\n"
     ]
    }
   ],
   "source": [
    "print(ord('a'))"
   ]
  },
  {
   "cell_type": "code",
   "execution_count": 28,
   "id": "864db8d3",
   "metadata": {},
   "outputs": [
    {
     "name": "stdout",
     "output_type": "stream",
     "text": [
      "a\n"
     ]
    }
   ],
   "source": [
    "print(chr(97))"
   ]
  },
  {
   "cell_type": "markdown",
   "id": "926278b2",
   "metadata": {},
   "source": [
    "### Operators in Python\n",
    "\n",
    "- Arithmetic Operator -> +, -, *, /, %, //, **.\n",
    "- Logical -> and, or, not.\n",
    "- Comparisons/relational -> <, >, <=, >=, ==, !=.\n",
    "- Bitwise Operator -> &(and), |(or), ~(not), ^(XOR), >>(right shift), <<(left shift .\n",
    "- Assignment operator -> +=, -=, /= %=, //=, **=.\n",
    "- Identity Operators -> is, not is.\n",
    "- Membership operators -> in, not in."
   ]
  },
  {
   "cell_type": "code",
   "execution_count": 30,
   "id": "3fe5e373",
   "metadata": {},
   "outputs": [
    {
     "name": "stdout",
     "output_type": "stream",
     "text": [
      "14->-6->40->0.4->4->0->16\n"
     ]
    }
   ],
   "source": [
    "a = 4\n",
    "b = 10\n",
    "\n",
    "print(a+b, a-b, a*b, a/b, a % b, a//b, a ** 2, sep = '->')"
   ]
  },
  {
   "cell_type": "markdown",
   "id": "e9e95c93",
   "metadata": {},
   "source": [
    "### and(inp1 * inp2)\n",
    "\n",
    "|inp1| inp2|inp1 and inp2|\n",
    "|----|----|----|\n",
    "|T|T|T|\n",
    "|T|F|F|\n",
    "|F|T|F|\n",
    "|F|F|F|\n",
    "\n",
    "\n",
    "### or(inp1 + inp2)\n",
    "\n",
    "|inp1| inp2|inp1 or inp2|\n",
    "|----|----|----|\n",
    "|T|T|T|\n",
    "|T|F|T|\n",
    "|F|T|T|\n",
    "|F|F|F|\n",
    "\n",
    "\n",
    "### not(~inp1)\n",
    "|inp1|not inp1|\n",
    "|----|----|\n",
    "|T|F|\n",
    "|F|T|"
   ]
  },
  {
   "cell_type": "code",
   "execution_count": 33,
   "id": "66575204",
   "metadata": {},
   "outputs": [
    {
     "name": "stdout",
     "output_type": "stream",
     "text": [
      "0->1->False->0->False\n"
     ]
    }
   ],
   "source": [
    "a = 1\n",
    "b = 0\n",
    "c = '0'\n",
    "\n",
    "print(a and b, a or b, not a, a and c, not c, sep = '->')\n"
   ]
  },
  {
   "cell_type": "code",
   "execution_count": 34,
   "id": "ae2f8de3",
   "metadata": {},
   "outputs": [
    {
     "name": "stdout",
     "output_type": "stream",
     "text": [
      "1 1\n"
     ]
    }
   ],
   "source": [
    "print(c and a, a or c)"
   ]
  },
  {
   "cell_type": "code",
   "execution_count": 35,
   "id": "cf4ad40c",
   "metadata": {},
   "outputs": [
    {
     "name": "stdout",
     "output_type": "stream",
     "text": [
      "6\n"
     ]
    }
   ],
   "source": [
    "a = 5\n",
    "b = 6\n",
    "c = 0\n",
    "\n",
    "print(a and b)"
   ]
  },
  {
   "cell_type": "code",
   "execution_count": 36,
   "id": "79ef7573",
   "metadata": {},
   "outputs": [
    {
     "name": "stdout",
     "output_type": "stream",
     "text": [
      "0 0\n"
     ]
    }
   ],
   "source": [
    "print(a and c , c and a)"
   ]
  },
  {
   "cell_type": "code",
   "execution_count": 37,
   "id": "7c41e60a",
   "metadata": {},
   "outputs": [
    {
     "name": "stdout",
     "output_type": "stream",
     "text": [
      "True False False\n"
     ]
    }
   ],
   "source": [
    "a = 5\n",
    "b = 6\n",
    "\n",
    "print(a < b, a > b, a == b)"
   ]
  },
  {
   "cell_type": "markdown",
   "id": "c3bcddb1",
   "metadata": {},
   "source": [
    "### Bitwise Operators\n",
    "\n",
    "&, |, ~, ^\n",
    "\n",
    "a = 4\n",
    "b = 10\n",
    "\n",
    "4 -> 0100\n",
    "10 -> 1010\n",
    "\n",
    "          _____\n",
    "          0000 -> 0 -> and\n",
    "          1110 -> 14 -> or\n",
    "      ~a\n",
    "      4  -> 0100\n",
    "            0001\n",
    "            -0101 -> 5\n",
    "      "
   ]
  },
  {
   "cell_type": "code",
   "execution_count": 38,
   "id": "06f84477",
   "metadata": {},
   "outputs": [
    {
     "name": "stdout",
     "output_type": "stream",
     "text": [
      "8 46 -45\n"
     ]
    }
   ],
   "source": [
    "a = 44\n",
    "b =10\n",
    "\n",
    "print(a & b, a | b, ~a)"
   ]
  },
  {
   "cell_type": "markdown",
   "id": "a6971d5c",
   "metadata": {},
   "source": [
    "###\n",
    "\n",
    "XOR ->  A'B + AB'\n",
    "\n",
    "|inp1| inp2|inp1 and inp2|\n",
    "|----|----|----|\n",
    "|T|T|F|\n",
    "|T|F|T|\n",
    "|F|T|T|\n",
    "|F|F|F|\n",
    "\n",
    "\n",
    "a = 4  -> 0100\n",
    "\n",
    "b = 10 -> 1010\n",
    "\n",
    "         ____\n",
    "         1110 -> 14"
   ]
  },
  {
   "cell_type": "code",
   "execution_count": 39,
   "id": "6d02d12e",
   "metadata": {},
   "outputs": [
    {
     "name": "stdout",
     "output_type": "stream",
     "text": [
      "38\n"
     ]
    }
   ],
   "source": [
    "print(a ^ b)\n"
   ]
  },
  {
   "cell_type": "markdown",
   "id": "21625a24",
   "metadata": {},
   "source": [
    "### Left Shift and right shift\n",
    "\n",
    "\n",
    "\n",
    "a = 4 -> 0100\n",
    "\n",
    "\n",
    "a << 2 -> 010000 -> 16\n",
    "\n",
    "a << 2 -> 0001 -> 1"
   ]
  },
  {
   "cell_type": "code",
   "execution_count": 40,
   "id": "44bb4754",
   "metadata": {},
   "outputs": [
    {
     "name": "stdout",
     "output_type": "stream",
     "text": [
      "16 1\n"
     ]
    }
   ],
   "source": [
    "a = 4\n",
    "\n",
    "print(a << 2, a >> 2)"
   ]
  },
  {
   "cell_type": "code",
   "execution_count": 42,
   "id": "d7eb4c80",
   "metadata": {},
   "outputs": [
    {
     "name": "stdout",
     "output_type": "stream",
     "text": [
      "15\n",
      "25\n",
      "20\n",
      "400\n"
     ]
    }
   ],
   "source": [
    "a = 5\n",
    "\n",
    "a = a + 10\n",
    "print(a)\n",
    "a += 10\n",
    "print(a)\n",
    "a -= 5\n",
    "print(a)\n",
    "a **= 2\n",
    "print(a)"
   ]
  },
  {
   "cell_type": "markdown",
   "id": "15f717e0",
   "metadata": {},
   "source": [
    "# Membership Operators"
   ]
  },
  {
   "cell_type": "code",
   "execution_count": 43,
   "id": "1a385060",
   "metadata": {},
   "outputs": [
    {
     "name": "stdout",
     "output_type": "stream",
     "text": [
      "False False True\n"
     ]
    }
   ],
   "source": [
    "a = 'Python'\n",
    "b = 'Py'\n",
    "c = 'py'\n",
    "\n",
    "print(a in b, a in c, a not in c)"
   ]
  },
  {
   "cell_type": "markdown",
   "id": "9142ec48",
   "metadata": {},
   "source": [
    "# Identity Operators"
   ]
  },
  {
   "cell_type": "code",
   "execution_count": 46,
   "id": "7fda6786",
   "metadata": {},
   "outputs": [],
   "source": [
    "a = 5\n",
    "b = 5.5\n",
    "c = 5\n",
    "d = [1, 2, 3]\n",
    "e = [1, 2, 3]\n",
    "f = d"
   ]
  },
  {
   "cell_type": "code",
   "execution_count": 47,
   "id": "f4208432",
   "metadata": {},
   "outputs": [
    {
     "name": "stdout",
     "output_type": "stream",
     "text": [
      "True True True\n"
     ]
    }
   ],
   "source": [
    "print(a == c, d == e, d == f)"
   ]
  },
  {
   "cell_type": "code",
   "execution_count": 48,
   "id": "675d279b",
   "metadata": {},
   "outputs": [
    {
     "name": "stdout",
     "output_type": "stream",
     "text": [
      "140728773060528\n",
      "140728773060528\n",
      "2960527799296\n",
      "2960527780864\n",
      "2960527799296\n"
     ]
    }
   ],
   "source": [
    "print(id(a))\n",
    "print(id(c))\n",
    "print(id(d))\n",
    "print(id(e))\n",
    "print(id(f))"
   ]
  },
  {
   "cell_type": "code",
   "execution_count": 50,
   "id": "0f67d631",
   "metadata": {},
   "outputs": [
    {
     "name": "stdout",
     "output_type": "stream",
     "text": [
      "[1, 2, 3, 'Python', 'Python']\n",
      "[1, 2, 3, 'Python', 'Python']\n"
     ]
    }
   ],
   "source": [
    "d.append('Python')\n",
    "\n",
    "print(d)\n",
    "print(f)"
   ]
  },
  {
   "cell_type": "code",
   "execution_count": 51,
   "id": "a69f7994",
   "metadata": {},
   "outputs": [
    {
     "name": "stdout",
     "output_type": "stream",
     "text": [
      "[1, 2, 3, 'Python', 'Python'] [1, 2, 3] [1, 2, 3, 'Python', 'Python']\n",
      "False True False\n"
     ]
    }
   ],
   "source": [
    "print(d, e, f)\n",
    "print( d is e, d is f, e is f)"
   ]
  },
  {
   "cell_type": "code",
   "execution_count": null,
   "id": "7b38c268",
   "metadata": {},
   "outputs": [],
   "source": []
  }
 ],
 "metadata": {
  "kernelspec": {
   "display_name": "Python 3",
   "language": "python",
   "name": "python3"
  },
  "language_info": {
   "codemirror_mode": {
    "name": "ipython",
    "version": 3
   },
   "file_extension": ".py",
   "mimetype": "text/x-python",
   "name": "python",
   "nbconvert_exporter": "python",
   "pygments_lexer": "ipython3",
   "version": "3.8.8"
  }
 },
 "nbformat": 4,
 "nbformat_minor": 5
}
