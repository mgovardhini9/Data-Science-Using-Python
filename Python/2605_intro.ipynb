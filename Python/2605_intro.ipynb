{
 "cells": [
  {
   "cell_type": "code",
   "execution_count": null,
   "metadata": {},
   "outputs": [],
   "source": [
    "print(\"Hello Hello!!\")"
   ]
  },
  {
   "cell_type": "markdown",
   "metadata": {},
   "source": [
    "# Markdown Syntax\n",
    "\n",
    "## Heading2\n",
    "### Heading3\n",
    "#### Heading4\n",
    "##### Heading5\n",
    "###### Heading6"
   ]
  },
  {
   "cell_type": "markdown",
   "metadata": {},
   "source": [
    "- Python is easy to write\n",
    "* Python is open source\n",
    "+ Python is high level Programming language\n",
    "    - High level means user understandable language\n",
    "        * Which is in english\n",
    "            - Sub\n",
    "                - Sub\n",
    "            - Sub2"
   ]
  },
  {
   "cell_type": "markdown",
   "metadata": {},
   "source": [
    "### Font Styles\n",
    "\n",
    "- I'm in **Bold** font style\n",
    "- I'm also in __Bold__ font style\n",
    "- I'm in *Italitic* font style\n",
    "- I'm also in _Italitic_ font style\n",
    "- I'm in both ***Italic and Bold*** fint style\n",
    "- I'm in both ___Italic and Bold___ fint style\n",
    "- I'm ~strike offed~\n",
    "- I'm ~**strike offed and bold**~\n",
    "- I'm ~***strike offed, bold and italic***~"
   ]
  },
  {
   "cell_type": "markdown",
   "metadata": {},
   "source": [
    "#### Syntax ![Image Description](image path)\n",
    "\n",
    "\n",
    "![Python Logo](https://www.python.org/static/community_logos/python-logo-master-v3-TM-flattened.png)\n",
    "\n",
    "\n",
    "![Python Logo](../images/python-logo.png)"
   ]
  },
  {
   "cell_type": "markdown",
   "metadata": {},
   "source": [
    "#### Inserting Hyper Link\n",
    "\n",
    "#### [Some Description]\\(Link)\n",
    "\n",
    "\n",
    "[Click Here to View Python Logo](https://www.python.org/static/community_logos/python-logo-master-v3-TM-flattened.png)\n",
    "\n",
    "\n",
    "https://www.python.org/static/community_logos/python-logo-master-v3-TM-flattened.png"
   ]
  },
  {
   "cell_type": "markdown",
   "metadata": {},
   "source": [
    "### Tabular data\n",
    "\n",
    "\n",
    "|Name|RollNo|EmailId|\n",
    "|-----|------|-------|\n",
    "|Arjun|123|Email1|"
   ]
  },
  {
   "cell_type": "markdown",
   "metadata": {},
   "source": [
    "> Sun rises in the East\n",
    "\n",
    "Python is `easy` to learn\n",
    "\n",
    "a + b whole square formulae is $(a_1 + b_1)^2 = {a_1}^2 +  2*a_1*b_1 + {b_1}^2$\n",
    "\n",
    "\n",
    "$\\alpha + \\beta + \\gamma + \\kappa + \\lambda + \\iota + \\delta$\n",
    "\n",
    "### $\\frac{a}{b}$\n",
    "\n",
    "$\\begin{pmatrix} a & b \\\\ c & d \\end{pmatrix}$"
   ]
  },
  {
   "cell_type": "code",
   "execution_count": null,
   "metadata": {},
   "outputs": [],
   "source": []
  }
 ],
 "metadata": {
  "kernelspec": {
   "display_name": "Python 3",
   "language": "python",
   "name": "python3"
  },
  "language_info": {
   "codemirror_mode": {
    "name": "ipython",
    "version": 3
   },
   "file_extension": ".py",
   "mimetype": "text/x-python",
   "name": "python",
   "nbconvert_exporter": "python",
   "pygments_lexer": "ipython3",
   "version": "3.7.6"
  }
 },
 "nbformat": 4,
 "nbformat_minor": 4
}
