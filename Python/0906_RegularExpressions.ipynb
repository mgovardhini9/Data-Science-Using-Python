{
 "cells": [
  {
   "cell_type": "code",
   "execution_count": 1,
   "metadata": {},
   "outputs": [],
   "source": [
    "s = \"\"\"Python is an interpreted high-level general-purpose programming language. Python's design philosophy emphasizes code readability with its notable use of significant indentation. Wikipedia\n",
    "Developer: Python Software Foundation\n",
    "Stable release: 3.9.5 / 3 May 2021; 19 days ago\n",
    "Preview release: 3.10.0b1 / 3 May 2021; 19 days ago\n",
    "Typing discipline: Duck, dynamic, strong typing; gradual (since 3.5, but ignored in CPython)\n",
    "First appeared: February 1991; 30 years ago\n",
    "Paradigm: Multi-paradigm: object-oriented, procedural (imperative), functional, structured, reflective\"\"\""
   ]
  },
  {
   "cell_type": "code",
   "execution_count": 2,
   "metadata": {},
   "outputs": [
    {
     "name": "stdout",
     "output_type": "stream",
     "text": [
      "['P', 'y', 't', 'h', 'o', 'n', ' ', 'i', 's', ' ', 'a', 'n', ' ', 'i', 'n', 't', 'e', 'r', 'p', 'r', 'e', 't', 'e', 'd', ' ', 'h', 'i', 'g', 'h', '-', 'l', 'e', 'v', 'e', 'l', ' ', 'g', 'e', 'n', 'e', 'r', 'a', 'l', '-', 'p', 'u', 'r', 'p', 'o', 's', 'e', ' ', 'p', 'r', 'o', 'g', 'r', 'a', 'm', 'm', 'i', 'n', 'g', ' ', 'l', 'a', 'n', 'g', 'u', 'a', 'g', 'e', '.', ' ', 'P', 'y', 't', 'h', 'o', 'n', \"'\", 's', ' ', 'd', 'e', 's', 'i', 'g', 'n', ' ', 'p', 'h', 'i', 'l', 'o', 's', 'o', 'p', 'h', 'y', ' ', 'e', 'm', 'p', 'h', 'a', 's', 'i', 'z', 'e', 's', ' ', 'c', 'o', 'd', 'e', ' ', 'r', 'e', 'a', 'd', 'a', 'b', 'i', 'l', 'i', 't', 'y', ' ', 'w', 'i', 't', 'h', ' ', 'i', 't', 's', ' ', 'n', 'o', 't', 'a', 'b', 'l', 'e', ' ', 'u', 's', 'e', ' ', 'o', 'f', ' ', 's', 'i', 'g', 'n', 'i', 'f', 'i', 'c', 'a', 'n', 't', ' ', 'i', 'n', 'd', 'e', 'n', 't', 'a', 't', 'i', 'o', 'n', '.', ' ', 'W', 'i', 'k', 'i', 'p', 'e', 'd', 'i', 'a', '\\n', 'D', 'e', 'v', 'e', 'l', 'o', 'p', 'e', 'r', ':', ' ', 'P', 'y', 't', 'h', 'o', 'n', ' ', 'S', 'o', 'f', 't', 'w', 'a', 'r', 'e', ' ', 'F', 'o', 'u', 'n', 'd', 'a', 't', 'i', 'o', 'n', '\\n', 'S', 't', 'a', 'b', 'l', 'e', ' ', 'r', 'e', 'l', 'e', 'a', 's', 'e', ':', ' ', '3', '.', '9', '.', '5', ' ', '/', ' ', '3', ' ', 'M', 'a', 'y', ' ', '2', '0', '2', '1', ';', ' ', '1', '9', ' ', 'd', 'a', 'y', 's', ' ', 'a', 'g', 'o', '\\n', 'P', 'r', 'e', 'v', 'i', 'e', 'w', ' ', 'r', 'e', 'l', 'e', 'a', 's', 'e', ':', ' ', '3', '.', '1', '0', '.', '0', 'b', '1', ' ', '/', ' ', '3', ' ', 'M', 'a', 'y', ' ', '2', '0', '2', '1', ';', ' ', '1', '9', ' ', 'd', 'a', 'y', 's', ' ', 'a', 'g', 'o', '\\n', 'T', 'y', 'p', 'i', 'n', 'g', ' ', 'd', 'i', 's', 'c', 'i', 'p', 'l', 'i', 'n', 'e', ':', ' ', 'D', 'u', 'c', 'k', ',', ' ', 'd', 'y', 'n', 'a', 'm', 'i', 'c', ',', ' ', 's', 't', 'r', 'o', 'n', 'g', ' ', 't', 'y', 'p', 'i', 'n', 'g', ';', ' ', 'g', 'r', 'a', 'd', 'u', 'a', 'l', ' ', '(', 's', 'i', 'n', 'c', 'e', ' ', '3', '.', '5', ',', ' ', 'b', 'u', 't', ' ', 'i', 'g', 'n', 'o', 'r', 'e', 'd', ' ', 'i', 'n', ' ', 'C', 'P', 'y', 't', 'h', 'o', 'n', ')', '\\n', 'F', 'i', 'r', 's', 't', ' ', 'a', 'p', 'p', 'e', 'a', 'r', 'e', 'd', ':', ' ', 'F', 'e', 'b', 'r', 'u', 'a', 'r', 'y', ' ', '1', '9', '9', '1', ';', ' ', '3', '0', ' ', 'y', 'e', 'a', 'r', 's', ' ', 'a', 'g', 'o', '\\n', 'P', 'a', 'r', 'a', 'd', 'i', 'g', 'm', ':', ' ', 'M', 'u', 'l', 't', 'i', '-', 'p', 'a', 'r', 'a', 'd', 'i', 'g', 'm', ':', ' ', 'o', 'b', 'j', 'e', 'c', 't', '-', 'o', 'r', 'i', 'e', 'n', 't', 'e', 'd', ',', ' ', 'p', 'r', 'o', 'c', 'e', 'd', 'u', 'r', 'a', 'l', ' ', '(', 'i', 'm', 'p', 'e', 'r', 'a', 't', 'i', 'v', 'e', ')', ',', ' ', 'f', 'u', 'n', 'c', 't', 'i', 'o', 'n', 'a', 'l', ',', ' ', 's', 't', 'r', 'u', 'c', 't', 'u', 'r', 'e', 'd', ',', ' ', 'r', 'e', 'f', 'l', 'e', 'c', 't', 'i', 'v', 'e']\n"
     ]
    }
   ],
   "source": [
    "print(list(s))"
   ]
  },
  {
   "cell_type": "code",
   "execution_count": 4,
   "metadata": {},
   "outputs": [
    {
     "name": "stdout",
     "output_type": "stream",
     "text": [
      "['P', 'P', 'W', 'D', 'P', 'S', 'F', 'S', 'M', 'P', 'M', 'T', 'D', 'C', 'P', 'F', 'F', 'P', 'M']\n"
     ]
    }
   ],
   "source": [
    "li = []\n",
    "\n",
    "for char in s :\n",
    "    if char.isupper() :\n",
    "        li.append(char)\n",
    "print(li)"
   ]
  },
  {
   "cell_type": "code",
   "execution_count": 5,
   "metadata": {},
   "outputs": [
    {
     "name": "stdout",
     "output_type": "stream",
     "text": [
      "[' ', ' ', ' ', ' ', '-', ' ', '-', ' ', ' ', '.', ' ', \"'\", ' ', ' ', ' ', ' ', ' ', ' ', ' ', ' ', ' ', ' ', ' ', ' ', '.', ' ', '\\n', ':', ' ', ' ', ' ', '\\n', ' ', ':', ' ', '.', '.', ' ', '/', ' ', ' ', ' ', ';', ' ', ' ', ' ', '\\n', ' ', ':', ' ', '.', '.', ' ', '/', ' ', ' ', ' ', ';', ' ', ' ', ' ', '\\n', ' ', ':', ' ', ',', ' ', ',', ' ', ' ', ';', ' ', ' ', '(', ' ', '.', ',', ' ', ' ', ' ', ' ', ')', '\\n', ' ', ':', ' ', ' ', ';', ' ', ' ', ' ', '\\n', ':', ' ', '-', ':', ' ', '-', ',', ' ', ' ', '(', ')', ',', ' ', ',', ' ', ',', ' ']\n"
     ]
    }
   ],
   "source": [
    "li = []\n",
    "\n",
    "for char in s :\n",
    "    if not char.isalnum() :\n",
    "        li.append(char)\n",
    "print(li)"
   ]
  },
  {
   "cell_type": "code",
   "execution_count": 6,
   "metadata": {},
   "outputs": [
    {
     "name": "stdout",
     "output_type": "stream",
     "text": [
      "565\n"
     ]
    }
   ],
   "source": [
    "print(len(s))"
   ]
  },
  {
   "cell_type": "markdown",
   "metadata": {},
   "source": [
    "#### replace all special characters with `**`"
   ]
  },
  {
   "cell_type": "code",
   "execution_count": 7,
   "metadata": {},
   "outputs": [
    {
     "name": "stdout",
     "output_type": "stream",
     "text": [
      "Python is an interpreted high-level general-purpose programming language. Python's design philosophy emphasizes code readability with its notable use of significant indentation. Wikipedia\n",
      "Developer: Python Software Foundation\n",
      "Stable release: 3.9.5 / 3 May 2021; 19 days ago\n",
      "Preview release: 3.10.0b1 / 3 May 2021; 19 days ago\n",
      "Typing discipline: Duck, dynamic, strong typing; gradual (since 3.5, but ignored in CPython)\n",
      "First appeared: February 1991; 30 years ago\n",
      "Paradigm: Multi-paradigm: object-oriented, procedural (imperative), functional, structured, reflective\n"
     ]
    }
   ],
   "source": [
    "print(s)"
   ]
  },
  {
   "cell_type": "code",
   "execution_count": 10,
   "metadata": {},
   "outputs": [
    {
     "name": "stdout",
     "output_type": "stream",
     "text": [
      "Python**is**an**interpreted**high**level**general**purpose**programming**language****Python**s**design**philosophy**emphasizes**code**readability**with**its**notable**use**of**significant**indentation****Wikipedia**Developer****Python**Software**Foundation**Stable**release****3**9**5******3**May**2021****19**days**ago**Preview**release****3**10**0b1******3**May**2021****19**days**ago**Typing**discipline****Duck****dynamic****strong**typing****gradual****since**3**5****but**ignored**in**CPython****First**appeared****February**1991****30**years**ago**Paradigm****Multi**paradigm****object**oriented****procedural****imperative******functional****structured****reflective\n"
     ]
    }
   ],
   "source": [
    "s1 = \"\"\n",
    "\n",
    "for char in s :\n",
    "    if not char.isalnum() :\n",
    "        s1 += '**'\n",
    "    else :\n",
    "        s1 += char\n",
    "\n",
    "print(s1)"
   ]
  },
  {
   "cell_type": "code",
   "execution_count": 13,
   "metadata": {},
   "outputs": [
    {
     "name": "stdout",
     "output_type": "stream",
     "text": [
      "Python is an interpreted high**level general**purpose programming language** Python**s design philosophy emphasizes code readability with its notable use of significant indentation** Wikipedia\n",
      "Developer** Python Software Foundation\n",
      "Stable release** 3**9**5 ** 3 May 2021** 19 days ago\n",
      "Preview release** 3**10**0b1 ** 3 May 2021** 19 days ago\n",
      "Typing discipline** Duck** dynamic** strong typing** gradual **since 3**5** but ignored in CPython**\n",
      "First appeared** February 1991** 30 years ago\n",
      "Paradigm** Multi**paradigm** object**oriented** procedural **imperative**** functional** structured** reflective\n"
     ]
    }
   ],
   "source": [
    "s1 = \"\"\n",
    "\n",
    "for char in s :\n",
    "    if not char.isalnum() and char != ' ' and not char.isspace():\n",
    "        s1 += '**'\n",
    "    else :\n",
    "        s1 += char\n",
    "\n",
    "print(s1)"
   ]
  },
  {
   "cell_type": "code",
   "execution_count": 16,
   "metadata": {},
   "outputs": [
    {
     "name": "stdout",
     "output_type": "stream",
     "text": [
      "['is', 'an', 'interpreted', 'high-level', 'general-purpose', 'programming', 'language.', 'design', 'philosophy', 'emphasizes', 'code', 'readability', 'with', 'its', 'notable', 'use', 'of', 'significant', 'indentation.', 'release:', 'days', 'ago', 'release:', 'days', 'ago', 'discipline:', 'dynamic,', 'strong', 'typing;', 'gradual', 'but', 'ignored', 'in', 'appeared:', 'years', 'ago', 'object-oriented,', 'procedural', 'functional,', 'structured,', 'reflective']\n"
     ]
    }
   ],
   "source": [
    "ss = s.split()\n",
    "li = []\n",
    "for char in ss :\n",
    "    if char[0].islower() :\n",
    "        li.append(char)\n",
    "print(li)"
   ]
  },
  {
   "cell_type": "code",
   "execution_count": 17,
   "metadata": {},
   "outputs": [
    {
     "name": "stdout",
     "output_type": "stream",
     "text": [
      "['Python', \"Python's\", 'Wikipedia', 'Developer:', 'Python', 'Software', 'Foundation', 'Stable', 'May', 'Preview', 'May', 'Typing', 'Duck,', 'CPython)', 'First', 'February', 'Paradigm:', 'Multi-paradigm:']\n"
     ]
    }
   ],
   "source": [
    "ss = s.split()\n",
    "li = []\n",
    "for char in ss :\n",
    "    if char[0].isupper() :\n",
    "        li.append(char)\n",
    "print(li)"
   ]
  },
  {
   "cell_type": "markdown",
   "metadata": {},
   "source": [
    "### Regular expressions :\n",
    "\n",
    "- A group of characters / special characters for matching a pattern."
   ]
  },
  {
   "cell_type": "code",
   "execution_count": 21,
   "metadata": {},
   "outputs": [],
   "source": [
    "import re"
   ]
  },
  {
   "cell_type": "markdown",
   "metadata": {},
   "source": [
    "### Syntax :\n",
    "\n",
    "method(pattern, string)"
   ]
  },
  {
   "cell_type": "code",
   "execution_count": 22,
   "metadata": {},
   "outputs": [
    {
     "data": {
      "text/plain": [
       "['P', 'P', 'P', 'P', 'P', 'P']"
      ]
     },
     "execution_count": 22,
     "metadata": {},
     "output_type": "execute_result"
    }
   ],
   "source": [
    "re.findall('P', s)"
   ]
  },
  {
   "cell_type": "code",
   "execution_count": 23,
   "metadata": {},
   "outputs": [
    {
     "name": "stdout",
     "output_type": "stream",
     "text": [
      "['Pyt', 'Pyt', 'Pyt', 'Pre', 'Pyt', 'Par']\n"
     ]
    }
   ],
   "source": [
    "print(re.findall('P..', s))"
   ]
  },
  {
   "cell_type": "code",
   "execution_count": 24,
   "metadata": {},
   "outputs": [
    {
     "name": "stdout",
     "output_type": "stream",
     "text": [
      "['an ', 'al-', 'amm', 'ang', 'age', 'asi', 'ada', 'abl', 'ant', 'ati', 'are', 'ati', 'abl', 'ase', 'ay ', 'ays', 'ago', 'ase', 'ay ', 'ays', 'ago', 'ami', 'adu', 'al ', 'app', 'are', 'ary', 'ars', 'ago', 'ara', 'ara', 'al ', 'ati', 'al,']\n"
     ]
    }
   ],
   "source": [
    "print(re.findall('a..', s))"
   ]
  },
  {
   "cell_type": "code",
   "execution_count": 25,
   "metadata": {},
   "outputs": [
    {
     "name": "stdout",
     "output_type": "stream",
     "text": [
      "Python is an interpreted high-level general-purpose programming language. Python's design philosophy emphasizes code readability with its notable use of significant indentation. Wikipedia\n",
      "Developer: Python Software Foundation\n",
      "Stable release: 3.9.5 / 3 May 2021; 19 days ago\n",
      "Preview release: 3.10.0b1 / 3 May 2021; 19 days ago\n",
      "Typing discipline: Duck, dynamic, strong typing; gradual (since 3.5, but ignored in CPython)\n",
      "First appeared: February 1991; 30 years ago\n",
      "Paradigm: Multi-paradigm: object-oriented, procedural (imperative), functional, structured, reflective\n"
     ]
    }
   ],
   "source": [
    "print(s)"
   ]
  },
  {
   "cell_type": "code",
   "execution_count": 26,
   "metadata": {},
   "outputs": [
    {
     "name": "stdout",
     "output_type": "stream",
     "text": [
      "['Pyt']\n"
     ]
    }
   ],
   "source": [
    "print(re.findall('^P..', s))"
   ]
  },
  {
   "cell_type": "code",
   "execution_count": 29,
   "metadata": {},
   "outputs": [
    {
     "name": "stdout",
     "output_type": "stream",
     "text": [
      "['Py']\n"
     ]
    }
   ],
   "source": [
    "print(re.findall('\\A..', s))"
   ]
  },
  {
   "cell_type": "code",
   "execution_count": 31,
   "metadata": {},
   "outputs": [
    {
     "name": "stdout",
     "output_type": "stream",
     "text": [
      "['ctive']\n"
     ]
    }
   ],
   "source": [
    "print(re.findall('....e$', s))"
   ]
  },
  {
   "cell_type": "code",
   "execution_count": 32,
   "metadata": {},
   "outputs": [
    {
     "data": {
      "text/plain": [
       "\"Python is an interpreted high-level general-purpose programming language. Python's design philosophy emphasizes code readability with its notable use of significant indentation. Wikipedia\\nDeveloper: Python Software Foundation\\nStable release: 3.9.5 / 3 May 2021; 19 days ago\\nPreview release: 3.10.0b1 / 3 May 2021; 19 days ago\\nTyping discipline: Duck, dynamic, strong typing; gradual (since 3.5, but ignored in CPython)\\nFirst appeared: February 1991; 30 years ago\\nParadigm: Multi-paradigm: object-oriented, procedural (imperative), functional, structured, reflective\""
      ]
     },
     "execution_count": 32,
     "metadata": {},
     "output_type": "execute_result"
    }
   ],
   "source": [
    "s"
   ]
  },
  {
   "cell_type": "code",
   "execution_count": 39,
   "metadata": {},
   "outputs": [
    {
     "name": "stdout",
     "output_type": "stream",
     "text": [
      "['efnr']\n"
     ]
    }
   ],
   "source": [
    "st = 'ksjddijiewjdiuefnr'\n",
    "\n",
    "print(re.findall('...r$', st))"
   ]
  },
  {
   "cell_type": "code",
   "execution_count": 41,
   "metadata": {},
   "outputs": [
    {
     "name": "stdout",
     "output_type": "stream",
     "text": [
      "['Pyt', 'hon', ' is', ' an', ' in', 'ter', 'pre', 'ted', ' hi', 'gh-', 'lev', 'el ', 'gen', 'era', 'l-p', 'urp', 'ose', ' pr', 'ogr', 'amm', 'ing', ' la', 'ngu', 'age', '. P', 'yth', \"on'\", 's d', 'esi', 'gn ', 'phi', 'los', 'oph', 'y e', 'mph', 'asi', 'zes', ' co', 'de ', 'rea', 'dab', 'ili', 'ty ', 'wit', 'h i', 'ts ', 'not', 'abl', 'e u', 'se ', 'of ', 'sig', 'nif', 'ica', 'nt ', 'ind', 'ent', 'ati', 'on.', ' Wi', 'kip', 'edi', 'Dev', 'elo', 'per', ': P', 'yth', 'on ', 'Sof', 'twa', 're ', 'Fou', 'nda', 'tio', 'Sta', 'ble', ' re', 'lea', 'se:', ' 3.', '9.5', ' / ', '3 M', 'ay ', '202', '1; ', '19 ', 'day', 's a', 'Pre', 'vie', 'w r', 'ele', 'ase', ': 3', '.10', '.0b', '1 /', ' 3 ', 'May', ' 20', '21;', ' 19', ' da', 'ys ', 'ago', 'Typ', 'ing', ' di', 'sci', 'pli', 'ne:', ' Du', 'ck,', ' dy', 'nam', 'ic,', ' st', 'ron', 'g t', 'ypi', 'ng;', ' gr', 'adu', 'al ', '(si', 'nce', ' 3.', '5, ', 'but', ' ig', 'nor', 'ed ', 'in ', 'CPy', 'tho', 'Fir', 'st ', 'app', 'ear', 'ed:', ' Fe', 'bru', 'ary', ' 19', '91;', ' 30', ' ye', 'ars', ' ag', 'Par', 'adi', 'gm:', ' Mu', 'lti', '-pa', 'rad', 'igm', ': o', 'bje', 'ct-', 'ori', 'ent', 'ed,', ' pr', 'oce', 'dur', 'al ', '(im', 'per', 'ati', 've)', ', f', 'unc', 'tio', 'nal', ', s', 'tru', 'ctu', 'red', ', r', 'efl', 'ect', 'ive']\n"
     ]
    }
   ],
   "source": [
    "print(re.findall('...', s))"
   ]
  },
  {
   "cell_type": "code",
   "execution_count": 42,
   "metadata": {},
   "outputs": [
    {
     "name": "stdout",
     "output_type": "stream",
     "text": [
      "['Pyt', 'hon', ' is', ' an', ' in', 'ter', 'pre', 'ted', ' hi', 'h-l', 'eve', 'l g', 'ene', 'ral', '-pu', 'rpo', 'e p', 'rog', 'ram', 'min', 'g l', 'ang', 'uag', ' Py', 'tho', \"n's\", ' de', 'sig', 'n p', 'hil', 'oso', 'phy', ' em', 'pha', 'siz', 's c', 'ode', ' re', 'ada', 'bil', 'ity', ' wi', 'h i', 's n', 'ota', 'ble', ' us', 'e o', 'f s', 'ign', 'ifi', 'can', 't i', 'nde', 'nta', 'tio', ' Wi', 'kip', 'edi', 'Dev', 'elo', 'per', ' Py', 'tho', ' So', 'ftw', 'are', ' Fo', 'und', 'ati', 'Sta', 'ble', ' re', 'lea', ' Ma', '9 d', 'ays', ' ag', 'Pre', 'vie', 'w r', 'ele', 'ase', '.0b', ' Ma', '9 d', 'ays', ' ag', 'Typ', 'ing', ' di', 'sci', 'pli', ' Du', ', d', 'yna', 'mic', ', s', 'tro', 'g t', 'ypi', '; g', 'rad', 'ual', ' (s', 'inc', ', b', 't i', 'gno', 'red', ' in', 'CPy', 'tho', 'Fir', 't a', 'ppe', 'are', ' Fe', 'bru', 'ary', '0 y', 'ear', 's a', 'Par', 'adi', ' Mu', 'lti', '-pa', 'rad', 'igm', ': o', 'bje', 't-o', 'rie', 'nte', ', p', 'roc', 'edu', 'ral', ' (i', 'mpe', 'rat', 'ive', ', f', 'unc', 'tio', 'nal', ', s', 'tru', 'ctu', 'red', ', r', 'efl', 'ect', 'ive']\n"
     ]
    }
   ],
   "source": [
    "print(re.findall('..[a-z]', s))"
   ]
  },
  {
   "cell_type": "code",
   "execution_count": 43,
   "metadata": {},
   "outputs": [
    {
     "name": "stdout",
     "output_type": "stream",
     "text": [
      "['yth', 'n i', 's a', 'n i', 'nte', 'rpr', 'ete', 'd h', 'igh', 'lev', 'l g', 'ene', 'ral', 'pur', 'pos', 'e p', 'rog', 'ram', 'min', 'g l', 'ang', 'uag', 'yth', \"n's\", 'des', 'ign', 'phi', 'los', 'oph', 'y e', 'mph', 'asi', 'zes', 'cod', 'e r', 'ead', 'abi', 'lit', 'y w', 'ith', 'its', 'not', 'abl', 'e u', 'e o', 'f s', 'ign', 'ifi', 'can', 't i', 'nde', 'nta', 'tio', 'iki', 'ped', 'eve', 'lop', 'yth', 'oft', 'war', 'oun', 'dat', 'ion', 'tab', 'e r', 'ele', 'ase', 'day', 's a', 'rev', 'iew', 'rel', 'eas', 'day', 's a', 'ypi', 'g d', 'isc', 'ipl', 'ine', 'uck', 'dyn', 'ami', 'str', 'ong', 'typ', 'ing', 'gra', 'dua', 'sin', 'but', 'ign', 'ore', 'd i', 'yth', 'irs', 't a', 'ppe', 'are', 'ebr', 'uar', 'yea', 's a', 'ara', 'dig', 'ult', 'i-p', 'ara', 'dig', 'obj', 'ect', 'ori', 'ent', 'pro', 'ced', 'ura', 'imp', 'era', 'tiv', 'fun', 'cti', 'ona', 'str', 'uct', 'ure', 'ref', 'lec', 'tiv']\n"
     ]
    }
   ],
   "source": [
    "print(re.findall('[a-z].[a-z]', s))"
   ]
  },
  {
   "cell_type": "code",
   "execution_count": 44,
   "metadata": {},
   "outputs": [
    {
     "name": "stdout",
     "output_type": "stream",
     "text": [
      "['Pyt', 'hon', 's a', 'n i', 'nte', 'rpr', 'ete', 'd h', 'igh', 'lev', 'l g', 'ene', 'ral', 'pur', 'pos', 'e p', 'rog', 'ram', 'min', 'g l', 'ang', 'uag', 'Pyt', 'hon', 's d', 'esi', 'n p', 'hil', 'oso', 'phy', 'emp', 'has', 'ize', 's c', 'ode', 'rea', 'dab', 'ili', 'y w', 'ith', 'its', 'not', 'abl', 'e u', 'e o', 'f s', 'ign', 'ifi', 'can', 't i', 'nde', 'nta', 'tio', 'Wik', 'ipe', 'dia', 'Dev', 'elo', 'per', 'Pyt', 'hon', 'Sof', 'twa', 'Fou', 'nda', 'tio', 'Sta', 'ble', 'rel', 'eas', 'May', 'day', 's a', 'Pre', 'vie', 'w r', 'ele', 'ase', 'May', 'day', 's a', 'Typ', 'ing', 'dis', 'cip', 'lin', 'Duc', 'dyn', 'ami', 'str', 'ong', 'typ', 'ing', 'gra', 'dua', 'sin', 'but', 'ign', 'ore', 'd i', 'CPy', 'tho', 'Fir', 't a', 'ppe', 'are', 'Feb', 'rua', 'yea', 's a', 'Par', 'adi', 'Mul', 'i-p', 'ara', 'dig', 'obj', 'ect', 'ori', 'ent', 'pro', 'ced', 'ura', 'imp', 'era', 'tiv', 'fun', 'cti', 'ona', 'str', 'uct', 'ure', 'ref', 'lec', 'tiv']\n"
     ]
    }
   ],
   "source": [
    "print(re.findall('[A-za-z].[a-z]', s))"
   ]
  },
  {
   "cell_type": "code",
   "execution_count": 45,
   "metadata": {},
   "outputs": [
    {
     "name": "stdout",
     "output_type": "stream",
     "text": [
      "['Pyt', 'Pyt', 'Wik', 'Dev', 'Pyt', 'Sof', 'Fou', 'Sta', 'May', 'Pre', 'May', 'Typ', 'Duc', 'CPy', 'Fir', 'Feb', 'Par', 'Mul']\n"
     ]
    }
   ],
   "source": [
    "print(re.findall('[A-Z].[a-z]', s))"
   ]
  },
  {
   "cell_type": "code",
   "execution_count": 46,
   "metadata": {},
   "outputs": [
    {
     "name": "stdout",
     "output_type": "stream",
     "text": [
      "['Pyt', 'hon', 'int', 'erp', 'ret', 'hig', 'lev', 'gen', 'era', 'pur', 'pos', 'pro', 'gra', 'mmi', 'lan', 'gua', 'Pyt', 'hon', 'des', 'ign', 'phi', 'los', 'oph', 'emp', 'has', 'ize', 'cod', 'rea', 'dab', 'ili', 'wit', 'its', 'not', 'abl', 'use', 'sig', 'nif', 'ica', 'ind', 'ent', 'ati', 'Wik', 'ipe', 'dia', 'Dev', 'elo', 'per', 'Pyt', 'hon', 'Sof', 'twa', 'Fou', 'nda', 'tio', 'Sta', 'ble', 'rel', 'eas', 'May', 'day', 'ago', 'Pre', 'vie', 'rel', 'eas', 'May', 'day', 'ago', 'Typ', 'ing', 'dis', 'cip', 'lin', 'Duc', 'dyn', 'ami', 'str', 'ong', 'typ', 'ing', 'gra', 'dua', 'sin', 'but', 'ign', 'ore', 'Pyt', 'hon', 'Fir', 'app', 'ear', 'Feb', 'rua', 'yea', 'ago', 'Par', 'adi', 'Mul', 'par', 'adi', 'obj', 'ect', 'ori', 'ent', 'pro', 'ced', 'ura', 'imp', 'era', 'tiv', 'fun', 'cti', 'ona', 'str', 'uct', 'ure', 'ref', 'lec', 'tiv']\n"
     ]
    }
   ],
   "source": [
    "print(re.findall('[A-Za-z][a-z][a-z]', s))"
   ]
  },
  {
   "cell_type": "code",
   "execution_count": 51,
   "metadata": {},
   "outputs": [
    {
     "name": "stdout",
     "output_type": "stream",
     "text": [
      "['$10']\n"
     ]
    }
   ],
   "source": [
    "d = ' Today, I received $10 from my boss.'\n",
    "print(re.findall('\\$..', d))"
   ]
  },
  {
   "cell_type": "code",
   "execution_count": 53,
   "metadata": {},
   "outputs": [
    {
     "name": "stdout",
     "output_type": "stream",
     "text": [
      "['P', 'y', 't', 'h', 'o', 'n', ' ', 'i', 's', ' ', 'a', 'n', ' ', 'i', 'n', 't', 'e', 'r', 'p', 'r', 'e', 't', 'e', 'd', ' ', 'h', 'i', 'g', 'h', '-', 'l', 'e', 'v', 'e', 'l', ' ', 'g', 'e', 'n', 'e', 'r', 'a', 'l', '-', 'p', 'u', 'r', 'p', 'o', 's', 'e', ' ', 'p', 'r', 'o', 'g', 'r', 'a', 'm', 'm', 'i', 'n', 'g', ' ', 'l', 'a', 'n', 'g', 'u', 'a', 'g', 'e', '.', ' ', 'P', 'y', 't', 'h', 'o', 'n', \"'\", 's', ' ', 'd', 'e', 's', 'i', 'g', 'n', ' ', 'p', 'h', 'i', 'l', 'o', 's', 'o', 'p', 'h', 'y', ' ', 'e', 'm', 'p', 'h', 'a', 's', 'i', 'z', 'e', 's', ' ', 'c', 'o', 'd', 'e', ' ', 'r', 'e', 'a', 'd', 'a', 'b', 'i', 'l', 'i', 't', 'y', ' ', 'w', 'i', 't', 'h', ' ', 'i', 't', 's', ' ', 'n', 'o', 't', 'a', 'b', 'l', 'e', ' ', 'u', 's', 'e', ' ', 'o', 'f', ' ', 's', 'i', 'g', 'n', 'i', 'f', 'i', 'c', 'a', 'n', 't', ' ', 'i', 'n', 'd', 'e', 'n', 't', 'a', 't', 'i', 'o', 'n', '.', ' ', 'W', 'i', 'k', 'i', 'p', 'e', 'd', 'i', 'a', 'D', 'e', 'v', 'e', 'l', 'o', 'p', 'e', 'r', ':', ' ', 'P', 'y', 't', 'h', 'o', 'n', ' ', 'S', 'o', 'f', 't', 'w', 'a', 'r', 'e', ' ', 'F', 'o', 'u', 'n', 'd', 'a', 't', 'i', 'o', 'n', 'S', 't', 'a', 'b', 'l', 'e', ' ', 'r', 'e', 'l', 'e', 'a', 's', 'e', ':', ' ', '3', '.', '9', '.', '5', ' ', '/', ' ', '3', ' ', 'M', 'a', 'y', ' ', '2', '0', '2', '1', ';', ' ', '1', '9', ' ', 'd', 'a', 'y', 's', ' ', 'a', 'g', 'o', 'P', 'r', 'e', 'v', 'i', 'e', 'w', ' ', 'r', 'e', 'l', 'e', 'a', 's', 'e', ':', ' ', '3', '.', '1', '0', '.', '0', 'b', '1', ' ', '/', ' ', '3', ' ', 'M', 'a', 'y', ' ', '2', '0', '2', '1', ';', ' ', '1', '9', ' ', 'd', 'a', 'y', 's', ' ', 'a', 'g', 'o', 'T', 'y', 'p', 'i', 'n', 'g', ' ', 'd', 'i', 's', 'c', 'i', 'p', 'l', 'i', 'n', 'e', ':', ' ', 'D', 'u', 'c', 'k', ',', ' ', 'd', 'y', 'n', 'a', 'm', 'i', 'c', ',', ' ', 's', 't', 'r', 'o', 'n', 'g', ' ', 't', 'y', 'p', 'i', 'n', 'g', ';', ' ', 'g', 'r', 'a', 'd', 'u', 'a', 'l', ' ', '(', 's', 'i', 'n', 'c', 'e', ' ', '3', '.', '5', ',', ' ', 'b', 'u', 't', ' ', 'i', 'g', 'n', 'o', 'r', 'e', 'd', ' ', 'i', 'n', ' ', 'C', 'P', 'y', 't', 'h', 'o', 'n', ')', 'F', 'i', 'r', 's', 't', ' ', 'a', 'p', 'p', 'e', 'a', 'r', 'e', 'd', ':', ' ', 'F', 'e', 'b', 'r', 'u', 'a', 'r', 'y', ' ', '1', '9', '9', '1', ';', ' ', '3', '0', ' ', 'y', 'e', 'a', 'r', 's', ' ', 'a', 'g', 'o', 'P', 'a', 'r', 'a', 'd', 'i', 'g', 'm', ':', ' ', 'M', 'u', 'l', 't', 'i', '-', 'p', 'a', 'r', 'a', 'd', 'i', 'g', 'm', ':', ' ', 'o', 'b', 'j', 'e', 'c', 't', '-', 'o', 'r', 'i', 'e', 'n', 't', 'e', 'd', ',', ' ', 'p', 'r', 'o', 'c', 'e', 'd', 'u', 'r', 'a', 'l', ' ', '(', 'i', 'm', 'p', 'e', 'r', 'a', 't', 'i', 'v', 'e', ')', ',', ' ', 'f', 'u', 'n', 'c', 't', 'i', 'o', 'n', 'a', 'l', ',', ' ', 's', 't', 'r', 'u', 'c', 't', 'u', 'r', 'e', 'd', ',', ' ', 'r', 'e', 'f', 'l', 'e', 'c', 't', 'i', 'v', 'e']\n"
     ]
    }
   ],
   "source": [
    "print(re.findall('.', s))"
   ]
  },
  {
   "cell_type": "code",
   "execution_count": 57,
   "metadata": {},
   "outputs": [
    {
     "name": "stdout",
     "output_type": "stream",
     "text": [
      "['.', '.', '.', '.', '.', '.', '.']\n"
     ]
    }
   ],
   "source": [
    "print(re.findall('\\.', s))"
   ]
  },
  {
   "cell_type": "code",
   "execution_count": 58,
   "metadata": {},
   "outputs": [
    {
     "name": "stdout",
     "output_type": "stream",
     "text": [
      "['ge.', 'on.', ' 3.', ' 3.', '10.', ' 3.']\n"
     ]
    }
   ],
   "source": [
    "print(re.findall('..\\.', s))"
   ]
  },
  {
   "cell_type": "code",
   "execution_count": 59,
   "metadata": {},
   "outputs": [
    {
     "name": "stdout",
     "output_type": "stream",
     "text": [
      "['P', 'y', 't', 'h', 'o', 'n', 'i', 's', 'a', 'n', 'i', 'n', 't', 'e', 'r', 'p', 'r', 'e', 't', 'e', 'd', 'h', 'i', 'g', 'h', 'l', 'e', 'v', 'e', 'l', 'g', 'e', 'n', 'e', 'r', 'a', 'l', 'p', 'u', 'r', 'p', 'o', 's', 'e', 'p', 'r', 'o', 'g', 'r', 'a', 'm', 'm', 'i', 'n', 'g', 'l', 'a', 'n', 'g', 'u', 'a', 'g', 'e', 'P', 'y', 't', 'h', 'o', 'n', 's', 'd', 'e', 's', 'i', 'g', 'n', 'p', 'h', 'i', 'l', 'o', 's', 'o', 'p', 'h', 'y', 'e', 'm', 'p', 'h', 'a', 's', 'i', 'z', 'e', 's', 'c', 'o', 'd', 'e', 'r', 'e', 'a', 'd', 'a', 'b', 'i', 'l', 'i', 't', 'y', 'w', 'i', 't', 'h', 'i', 't', 's', 'n', 'o', 't', 'a', 'b', 'l', 'e', 'u', 's', 'e', 'o', 'f', 's', 'i', 'g', 'n', 'i', 'f', 'i', 'c', 'a', 'n', 't', 'i', 'n', 'd', 'e', 'n', 't', 'a', 't', 'i', 'o', 'n', 'W', 'i', 'k', 'i', 'p', 'e', 'd', 'i', 'a', 'D', 'e', 'v', 'e', 'l', 'o', 'p', 'e', 'r', 'P', 'y', 't', 'h', 'o', 'n', 'S', 'o', 'f', 't', 'w', 'a', 'r', 'e', 'F', 'o', 'u', 'n', 'd', 'a', 't', 'i', 'o', 'n', 'S', 't', 'a', 'b', 'l', 'e', 'r', 'e', 'l', 'e', 'a', 's', 'e', '3', '9', '5', '3', 'M', 'a', 'y', '2', '0', '2', '1', '1', '9', 'd', 'a', 'y', 's', 'a', 'g', 'o', 'P', 'r', 'e', 'v', 'i', 'e', 'w', 'r', 'e', 'l', 'e', 'a', 's', 'e', '3', '1', '0', '0', 'b', '1', '3', 'M', 'a', 'y', '2', '0', '2', '1', '1', '9', 'd', 'a', 'y', 's', 'a', 'g', 'o', 'T', 'y', 'p', 'i', 'n', 'g', 'd', 'i', 's', 'c', 'i', 'p', 'l', 'i', 'n', 'e', 'D', 'u', 'c', 'k', 'd', 'y', 'n', 'a', 'm', 'i', 'c', 's', 't', 'r', 'o', 'n', 'g', 't', 'y', 'p', 'i', 'n', 'g', 'g', 'r', 'a', 'd', 'u', 'a', 'l', 's', 'i', 'n', 'c', 'e', '3', '5', 'b', 'u', 't', 'i', 'g', 'n', 'o', 'r', 'e', 'd', 'i', 'n', 'C', 'P', 'y', 't', 'h', 'o', 'n', 'F', 'i', 'r', 's', 't', 'a', 'p', 'p', 'e', 'a', 'r', 'e', 'd', 'F', 'e', 'b', 'r', 'u', 'a', 'r', 'y', '1', '9', '9', '1', '3', '0', 'y', 'e', 'a', 'r', 's', 'a', 'g', 'o', 'P', 'a', 'r', 'a', 'd', 'i', 'g', 'm', 'M', 'u', 'l', 't', 'i', 'p', 'a', 'r', 'a', 'd', 'i', 'g', 'm', 'o', 'b', 'j', 'e', 'c', 't', 'o', 'r', 'i', 'e', 'n', 't', 'e', 'd', 'p', 'r', 'o', 'c', 'e', 'd', 'u', 'r', 'a', 'l', 'i', 'm', 'p', 'e', 'r', 'a', 't', 'i', 'v', 'e', 'f', 'u', 'n', 'c', 't', 'i', 'o', 'n', 'a', 'l', 's', 't', 'r', 'u', 'c', 't', 'u', 'r', 'e', 'd', 'r', 'e', 'f', 'l', 'e', 'c', 't', 'i', 'v', 'e']\n"
     ]
    }
   ],
   "source": [
    "print(re.findall('\\w', s))"
   ]
  },
  {
   "cell_type": "code",
   "execution_count": 60,
   "metadata": {},
   "outputs": [
    {
     "name": "stdout",
     "output_type": "stream",
     "text": [
      "[' ', ' ', ' ', ' ', '-', ' ', '-', ' ', ' ', '.', ' ', \"'\", ' ', ' ', ' ', ' ', ' ', ' ', ' ', ' ', ' ', ' ', ' ', ' ', '.', ' ', '\\n', ':', ' ', ' ', ' ', '\\n', ' ', ':', ' ', '.', '.', ' ', '/', ' ', ' ', ' ', ';', ' ', ' ', ' ', '\\n', ' ', ':', ' ', '.', '.', ' ', '/', ' ', ' ', ' ', ';', ' ', ' ', ' ', '\\n', ' ', ':', ' ', ',', ' ', ',', ' ', ' ', ';', ' ', ' ', '(', ' ', '.', ',', ' ', ' ', ' ', ' ', ')', '\\n', ' ', ':', ' ', ' ', ';', ' ', ' ', ' ', '\\n', ':', ' ', '-', ':', ' ', '-', ',', ' ', ' ', '(', ')', ',', ' ', ',', ' ', ',', ' ']\n"
     ]
    }
   ],
   "source": [
    "print(re.findall('\\W', s))"
   ]
  },
  {
   "cell_type": "code",
   "execution_count": 64,
   "metadata": {},
   "outputs": [
    {
     "name": "stdout",
     "output_type": "stream",
     "text": [
      "['3', '9', '5', '3', '2', '0', '2', '1', '1', '9', '3', '1', '0', '0', '1', '3', '2', '0', '2', '1', '1', '9', '3', '5', '1', '9', '9', '1', '3', '0']\n"
     ]
    }
   ],
   "source": [
    "print(re.findall('\\d', s))"
   ]
  },
  {
   "cell_type": "code",
   "execution_count": 62,
   "metadata": {},
   "outputs": [
    {
     "name": "stdout",
     "output_type": "stream",
     "text": [
      "['20', '21', '19', '10', '20', '21', '19', '19', '91', '30']\n"
     ]
    }
   ],
   "source": [
    "print(re.findall('\\d\\d', s))"
   ]
  },
  {
   "cell_type": "code",
   "execution_count": 63,
   "metadata": {},
   "outputs": [
    {
     "name": "stdout",
     "output_type": "stream",
     "text": [
      "['2021', '2021', '1991']\n"
     ]
    }
   ],
   "source": [
    "print(re.findall('\\d\\d\\d\\d', s))"
   ]
  },
  {
   "cell_type": "code",
   "execution_count": 68,
   "metadata": {},
   "outputs": [
    {
     "name": "stdout",
     "output_type": "stream",
     "text": [
      "[]\n"
     ]
    }
   ],
   "source": [
    "n1 = '4556'\n",
    "n2 = '345'\n",
    "\n",
    "print(re.findall('^\\d\\d\\d$', n1))"
   ]
  },
  {
   "cell_type": "code",
   "execution_count": 69,
   "metadata": {},
   "outputs": [
    {
     "name": "stdout",
     "output_type": "stream",
     "text": [
      "['345']\n"
     ]
    }
   ],
   "source": [
    "print(re.findall('^\\d\\d\\d$', n2))"
   ]
  },
  {
   "cell_type": "code",
   "execution_count": 70,
   "metadata": {},
   "outputs": [
    {
     "name": "stdout",
     "output_type": "stream",
     "text": [
      "[' ', ' ', ' ', ' ', ' ', ' ', ' ', ' ', ' ', ' ', ' ', ' ', ' ', ' ', ' ', ' ', ' ', ' ', ' ', ' ', ' ', '\\n', ' ', ' ', ' ', '\\n', ' ', ' ', ' ', ' ', ' ', ' ', ' ', ' ', ' ', '\\n', ' ', ' ', ' ', ' ', ' ', ' ', ' ', ' ', ' ', '\\n', ' ', ' ', ' ', ' ', ' ', ' ', ' ', ' ', ' ', ' ', ' ', ' ', '\\n', ' ', ' ', ' ', ' ', ' ', ' ', '\\n', ' ', ' ', ' ', ' ', ' ', ' ', ' ']\n"
     ]
    }
   ],
   "source": [
    "print(re.findall('\\s', s))"
   ]
  },
  {
   "cell_type": "code",
   "execution_count": 71,
   "metadata": {},
   "outputs": [
    {
     "name": "stdout",
     "output_type": "stream",
     "text": [
      "['P', 'y', 't', 'h', 'o', 'n', 'i', 's', 'a', 'n', 'i', 'n', 't', 'e', 'r', 'p', 'r', 'e', 't', 'e', 'd', 'h', 'i', 'g', 'h', '-', 'l', 'e', 'v', 'e', 'l', 'g', 'e', 'n', 'e', 'r', 'a', 'l', '-', 'p', 'u', 'r', 'p', 'o', 's', 'e', 'p', 'r', 'o', 'g', 'r', 'a', 'm', 'm', 'i', 'n', 'g', 'l', 'a', 'n', 'g', 'u', 'a', 'g', 'e', '.', 'P', 'y', 't', 'h', 'o', 'n', \"'\", 's', 'd', 'e', 's', 'i', 'g', 'n', 'p', 'h', 'i', 'l', 'o', 's', 'o', 'p', 'h', 'y', 'e', 'm', 'p', 'h', 'a', 's', 'i', 'z', 'e', 's', 'c', 'o', 'd', 'e', 'r', 'e', 'a', 'd', 'a', 'b', 'i', 'l', 'i', 't', 'y', 'w', 'i', 't', 'h', 'i', 't', 's', 'n', 'o', 't', 'a', 'b', 'l', 'e', 'u', 's', 'e', 'o', 'f', 's', 'i', 'g', 'n', 'i', 'f', 'i', 'c', 'a', 'n', 't', 'i', 'n', 'd', 'e', 'n', 't', 'a', 't', 'i', 'o', 'n', '.', 'W', 'i', 'k', 'i', 'p', 'e', 'd', 'i', 'a', 'D', 'e', 'v', 'e', 'l', 'o', 'p', 'e', 'r', ':', 'P', 'y', 't', 'h', 'o', 'n', 'S', 'o', 'f', 't', 'w', 'a', 'r', 'e', 'F', 'o', 'u', 'n', 'd', 'a', 't', 'i', 'o', 'n', 'S', 't', 'a', 'b', 'l', 'e', 'r', 'e', 'l', 'e', 'a', 's', 'e', ':', '3', '.', '9', '.', '5', '/', '3', 'M', 'a', 'y', '2', '0', '2', '1', ';', '1', '9', 'd', 'a', 'y', 's', 'a', 'g', 'o', 'P', 'r', 'e', 'v', 'i', 'e', 'w', 'r', 'e', 'l', 'e', 'a', 's', 'e', ':', '3', '.', '1', '0', '.', '0', 'b', '1', '/', '3', 'M', 'a', 'y', '2', '0', '2', '1', ';', '1', '9', 'd', 'a', 'y', 's', 'a', 'g', 'o', 'T', 'y', 'p', 'i', 'n', 'g', 'd', 'i', 's', 'c', 'i', 'p', 'l', 'i', 'n', 'e', ':', 'D', 'u', 'c', 'k', ',', 'd', 'y', 'n', 'a', 'm', 'i', 'c', ',', 's', 't', 'r', 'o', 'n', 'g', 't', 'y', 'p', 'i', 'n', 'g', ';', 'g', 'r', 'a', 'd', 'u', 'a', 'l', '(', 's', 'i', 'n', 'c', 'e', '3', '.', '5', ',', 'b', 'u', 't', 'i', 'g', 'n', 'o', 'r', 'e', 'd', 'i', 'n', 'C', 'P', 'y', 't', 'h', 'o', 'n', ')', 'F', 'i', 'r', 's', 't', 'a', 'p', 'p', 'e', 'a', 'r', 'e', 'd', ':', 'F', 'e', 'b', 'r', 'u', 'a', 'r', 'y', '1', '9', '9', '1', ';', '3', '0', 'y', 'e', 'a', 'r', 's', 'a', 'g', 'o', 'P', 'a', 'r', 'a', 'd', 'i', 'g', 'm', ':', 'M', 'u', 'l', 't', 'i', '-', 'p', 'a', 'r', 'a', 'd', 'i', 'g', 'm', ':', 'o', 'b', 'j', 'e', 'c', 't', '-', 'o', 'r', 'i', 'e', 'n', 't', 'e', 'd', ',', 'p', 'r', 'o', 'c', 'e', 'd', 'u', 'r', 'a', 'l', '(', 'i', 'm', 'p', 'e', 'r', 'a', 't', 'i', 'v', 'e', ')', ',', 'f', 'u', 'n', 'c', 't', 'i', 'o', 'n', 'a', 'l', ',', 's', 't', 'r', 'u', 'c', 't', 'u', 'r', 'e', 'd', ',', 'r', 'e', 'f', 'l', 'e', 'c', 't', 'i', 'v', 'e']\n"
     ]
    }
   ],
   "source": [
    "print(re.findall('\\S', s))"
   ]
  },
  {
   "cell_type": "code",
   "execution_count": 73,
   "metadata": {},
   "outputs": [
    {
     "name": "stdout",
     "output_type": "stream",
     "text": [
      "[]\n"
     ]
    }
   ],
   "source": [
    "print(re.findall('\\t', s))"
   ]
  },
  {
   "cell_type": "code",
   "execution_count": 75,
   "metadata": {},
   "outputs": [
    {
     "name": "stdout",
     "output_type": "stream",
     "text": [
      "['edia\\n', 'tion\\n', ' ago\\n', ' ago\\n', 'hon)\\n', ' ago\\n']\n"
     ]
    }
   ],
   "source": [
    "print(re.findall('....\\n', s))"
   ]
  },
  {
   "cell_type": "code",
   "execution_count": 79,
   "metadata": {},
   "outputs": [
    {
     "data": {
      "text/plain": [
       "' Today, I received $10 from my boss.'"
      ]
     },
     "execution_count": 79,
     "metadata": {},
     "output_type": "execute_result"
    }
   ],
   "source": [
    "d"
   ]
  },
  {
   "cell_type": "code",
   "execution_count": 86,
   "metadata": {},
   "outputs": [
    {
     "name": "stdout",
     "output_type": "stream",
     "text": [
      "['P', 'P', 'P', 'P', 'P', 'P']\n"
     ]
    }
   ],
   "source": [
    "print(re.findall('P+', s))"
   ]
  },
  {
   "cell_type": "code",
   "execution_count": 87,
   "metadata": {},
   "outputs": [
    {
     "name": "stdout",
     "output_type": "stream",
     "text": [
      "['P', '', '', '', '', '', '', '', '', '', '', '', '', '', '', '', '', '', '', '', '', '', '', '', '', '', '', '', '', '', '', '', '', '', '', '', '', '', '', '', '', '', '', '', '', '', '', '', '', '', '', '', '', '', '', '', '', '', '', '', '', '', '', '', '', '', '', '', '', '', '', '', '', '', 'P', '', '', '', '', '', '', '', '', '', '', '', '', '', '', '', '', '', '', '', '', '', '', '', '', '', '', '', '', '', '', '', '', '', '', '', '', '', '', '', '', '', '', '', '', '', '', '', '', '', '', '', '', '', '', '', '', '', '', '', '', '', '', '', '', '', '', '', '', '', '', '', '', '', '', '', '', '', '', '', '', '', '', '', '', '', '', '', '', '', '', '', '', '', '', '', '', '', '', '', '', '', '', '', '', '', '', '', '', '', '', '', '', '', '', '', '', '', '', '', '', '', '', '', '', 'P', '', '', '', '', '', '', '', '', '', '', '', '', '', '', '', '', '', '', '', '', '', '', '', '', '', '', '', '', '', '', '', '', '', '', '', '', '', '', '', '', '', '', '', '', '', '', '', '', '', '', '', '', '', '', '', '', '', '', '', '', '', '', '', '', '', '', '', '', '', '', '', '', '', '', 'P', '', '', '', '', '', '', '', '', '', '', '', '', '', '', '', '', '', '', '', '', '', '', '', '', '', '', '', '', '', '', '', '', '', '', '', '', '', '', '', '', '', '', '', '', '', '', '', '', '', '', '', '', '', '', '', '', '', '', '', '', '', '', '', '', '', '', '', '', '', '', '', '', '', '', '', '', '', '', '', '', '', '', '', '', '', '', '', '', '', '', '', '', '', '', '', '', '', '', '', '', '', '', '', '', '', '', '', '', '', '', '', '', '', '', '', '', '', '', '', '', '', '', '', '', '', '', '', '', '', '', '', '', '', '', '', '', 'P', '', '', '', '', '', '', '', '', '', '', '', '', '', '', '', '', '', '', '', '', '', '', '', '', '', '', '', '', '', '', '', '', '', '', '', '', '', '', '', '', '', '', '', '', '', '', '', '', '', '', '', 'P', '', '', '', '', '', '', '', '', '', '', '', '', '', '', '', '', '', '', '', '', '', '', '', '', '', '', '', '', '', '', '', '', '', '', '', '', '', '', '', '', '', '', '', '', '', '', '', '', '', '', '', '', '', '', '', '', '', '', '', '', '', '', '', '', '', '', '', '', '', '', '', '', '', '', '', '', '', '', '', '', '', '', '', '', '', '', '', '', '', '', '', '', '', '', '', '', '', '', '', '', '', '']\n"
     ]
    }
   ],
   "source": [
    "print(re.findall('P*', s))"
   ]
  },
  {
   "cell_type": "code",
   "execution_count": 88,
   "metadata": {},
   "outputs": [
    {
     "name": "stdout",
     "output_type": "stream",
     "text": [
      "['P', 'P', 'P', 'P', 'P', 'P']\n"
     ]
    }
   ],
   "source": [
    "print(re.findall('P\\d*', s))"
   ]
  },
  {
   "cell_type": "code",
   "execution_count": 89,
   "metadata": {},
   "outputs": [],
   "source": [
    "email = 'bhagya_veeravalli@gmail.com'"
   ]
  },
  {
   "cell_type": "code",
   "execution_count": 90,
   "metadata": {},
   "outputs": [
    {
     "name": "stdout",
     "output_type": "stream",
     "text": [
      "['b', 'h', 'a', 'g', 'y', 'a', 'v', 'e', 'e', 'r', 'a', 'v', 'a', 'l', 'l', 'i', 'g', 'm', 'a', 'i', 'l', 'c', 'o', 'm']\n"
     ]
    }
   ],
   "source": [
    "print(re.findall('[a-z]', email))"
   ]
  },
  {
   "cell_type": "code",
   "execution_count": 92,
   "metadata": {},
   "outputs": [
    {
     "name": "stdout",
     "output_type": "stream",
     "text": [
      "['bhagya', '', 'veeravalli', '', 'gmail', '', 'com', '']\n"
     ]
    }
   ],
   "source": [
    "print(re.findall('[a-z]*', email))"
   ]
  },
  {
   "cell_type": "code",
   "execution_count": 94,
   "metadata": {},
   "outputs": [
    {
     "name": "stdout",
     "output_type": "stream",
     "text": [
      "['bhagya_veeravalli', '', 'gmail', '', 'com', '']\n"
     ]
    }
   ],
   "source": [
    "print(re.findall('[a-z_]*', email))"
   ]
  },
  {
   "cell_type": "code",
   "execution_count": 96,
   "metadata": {},
   "outputs": [
    {
     "name": "stdout",
     "output_type": "stream",
     "text": [
      "['bhagya', 'veeravalli', 'gmail', 'com']\n"
     ]
    }
   ],
   "source": [
    "print(re.findall('[a-z]+', email))"
   ]
  },
  {
   "cell_type": "code",
   "execution_count": 97,
   "metadata": {},
   "outputs": [
    {
     "name": "stdout",
     "output_type": "stream",
     "text": [
      "['bh', 'ag', 'ya', '_', 've', 'er', 'av', 'al', 'li', '@', 'gm', 'ai', 'l.', 'co', 'm']\n"
     ]
    }
   ],
   "source": [
    "print(re.findall('[a-z]?.', email))"
   ]
  },
  {
   "cell_type": "code",
   "execution_count": 99,
   "metadata": {},
   "outputs": [
    {
     "name": "stdout",
     "output_type": "stream",
     "text": [
      "['bh', 'ag', 'ya', 've', 'er', 'av', 'al', 'li', 'gm', 'ai', 'l', 'co', 'm']\n"
     ]
    }
   ],
   "source": [
    "print(re.findall('[a-z]?[a-z]', email))"
   ]
  },
  {
   "cell_type": "code",
   "execution_count": 104,
   "metadata": {},
   "outputs": [
    {
     "name": "stdout",
     "output_type": "stream",
     "text": [
      "['bh', 'ag', 'ya', 've', 'er', 'av', 'al', 'li', 'gm', 'ai', 'co']\n"
     ]
    }
   ],
   "source": [
    "print(re.findall('[a-z]{2}', email))"
   ]
  },
  {
   "cell_type": "code",
   "execution_count": 105,
   "metadata": {},
   "outputs": [
    {
     "name": "stdout",
     "output_type": "stream",
     "text": [
      "['bha', 'gya', 'vee', 'rav', 'all', 'gma', 'com']\n"
     ]
    }
   ],
   "source": [
    "print(re.findall('[a-z]{3}', email))"
   ]
  },
  {
   "cell_type": "code",
   "execution_count": 107,
   "metadata": {},
   "outputs": [],
   "source": [
    "ip = '163.125.255.125'\n",
    "\n",
    "ip2 = '172.160.250.5'"
   ]
  },
  {
   "cell_type": "code",
   "execution_count": 111,
   "metadata": {},
   "outputs": [
    {
     "name": "stdout",
     "output_type": "stream",
     "text": [
      "<re.Match object; span=(0, 15), match='163.125.255.125'>\n"
     ]
    }
   ],
   "source": [
    "print(re.match('163.125.255.[0-2][0-5][0-5]', ip))"
   ]
  },
  {
   "cell_type": "code",
   "execution_count": 112,
   "metadata": {},
   "outputs": [
    {
     "name": "stdout",
     "output_type": "stream",
     "text": [
      "None\n"
     ]
    }
   ],
   "source": [
    "print(re.match('163.125.255.[0-2][0-5][0-5]', ip2))"
   ]
  },
  {
   "cell_type": "code",
   "execution_count": 113,
   "metadata": {},
   "outputs": [
    {
     "data": {
      "text/plain": [
       "(0, 15)"
      ]
     },
     "execution_count": 113,
     "metadata": {},
     "output_type": "execute_result"
    }
   ],
   "source": [
    "obj = re.match('163.125.255.[0-2][0-5][0-5]', ip)\n",
    "\n",
    "\n",
    "obj.span()"
   ]
  },
  {
   "cell_type": "code",
   "execution_count": 116,
   "metadata": {},
   "outputs": [
    {
     "data": {
      "text/plain": [
       "<re.Match object; span=(0, 15), match='163.125.255.125'>"
      ]
     },
     "execution_count": 116,
     "metadata": {},
     "output_type": "execute_result"
    }
   ],
   "source": [
    "ip3 = '163.125.255.125opa'\n",
    "\n",
    "re.match('163.125.255.[0-2][0-5][0-5]', ip3)"
   ]
  },
  {
   "cell_type": "code",
   "execution_count": 117,
   "metadata": {},
   "outputs": [],
   "source": [
    "ip3 = '163.125.255.125opa'\n",
    "\n",
    "re.match('^163.125.255.[0-2][0-5][0-5]$', ip3)"
   ]
  },
  {
   "cell_type": "code",
   "execution_count": 118,
   "metadata": {},
   "outputs": [
    {
     "data": {
      "text/plain": [
       "<re.Match object; span=(0, 15), match='163.125.255.125'>"
      ]
     },
     "execution_count": 118,
     "metadata": {},
     "output_type": "execute_result"
    }
   ],
   "source": [
    "\n",
    "re.match('^163.125.255.[0-2][0-5][0-5]$', ip)"
   ]
  },
  {
   "cell_type": "code",
   "execution_count": 119,
   "metadata": {},
   "outputs": [
    {
     "data": {
      "text/plain": [
       "'163.125.255.125'"
      ]
     },
     "execution_count": 119,
     "metadata": {},
     "output_type": "execute_result"
    }
   ],
   "source": [
    "obj.string"
   ]
  },
  {
   "cell_type": "markdown",
   "metadata": {},
   "source": [
    "- +91\n",
    "- 6789\n",
    "- 10 digits"
   ]
  },
  {
   "cell_type": "code",
   "execution_count": 124,
   "metadata": {},
   "outputs": [],
   "source": [
    "m1 = '9876543210'\n",
    "m2 = '3216547890'\n",
    "m3 = '987654321o'"
   ]
  },
  {
   "cell_type": "code",
   "execution_count": 125,
   "metadata": {},
   "outputs": [
    {
     "data": {
      "text/plain": [
       "<re.Match object; span=(0, 10), match='9876543210'>"
      ]
     },
     "execution_count": 125,
     "metadata": {},
     "output_type": "execute_result"
    }
   ],
   "source": [
    "pattern = '^[6789]\\d{9}$'\n",
    "\n",
    "re.match(pattern, m1)"
   ]
  },
  {
   "cell_type": "code",
   "execution_count": 126,
   "metadata": {},
   "outputs": [
    {
     "name": "stdout",
     "output_type": "stream",
     "text": [
      "None None\n"
     ]
    }
   ],
   "source": [
    "print(re.match(pattern, m2), re.match(pattern, m3))"
   ]
  },
  {
   "cell_type": "code",
   "execution_count": 131,
   "metadata": {},
   "outputs": [
    {
     "name": "stdout",
     "output_type": "stream",
     "text": [
      "<re.Match object; span=(0, 13), match='+919876543210'>\n"
     ]
    }
   ],
   "source": [
    "m4 = '+919876543210'\n",
    "\n",
    "pattern = '^[+]91[6789]\\d{9}$'\n",
    "print(re.match(pattern, m4))"
   ]
  },
  {
   "cell_type": "markdown",
   "metadata": {},
   "source": [
    "## TASKS :\n",
    "\n",
    "### check whether the given email is valid email id or not.\n",
    "\n",
    "### username@domain.extension\n",
    "\n",
    "- userName\n",
    "    - a-zA-Z0-9._\n",
    "    - It shouldn't start with .\n",
    "    - min 8 , max 15 characters\n",
    "- @\n",
    "- domain\n",
    "    - a-zA-Z0-9\n",
    "    - min 2, max 10\n",
    "- extension\n",
    "    - a-zA-Z\n",
    "    - 2,5\n"
   ]
  },
  {
   "cell_type": "markdown",
   "metadata": {},
   "source": [
    "### Sub -> replace\n",
    "\n",
    "### Syntax\n",
    "\n",
    "sub(pattern, replace, string)"
   ]
  },
  {
   "cell_type": "code",
   "execution_count": 132,
   "metadata": {},
   "outputs": [
    {
     "name": "stdout",
     "output_type": "stream",
     "text": [
      "Python-is-an-interpreted-high-level-general-purpose-programming-language.-Python's-design-philosophy-emphasizes-code-readability-with-its-notable-use-of-significant-indentation.-Wikipedia-Developer:-Python-Software-Foundation-Stable-release:-3.9.5-/-3-May-2021;-19-days-ago-Preview-release:-3.10.0b1-/-3-May-2021;-19-days-ago-Typing-discipline:-Duck,-dynamic,-strong-typing;-gradual-(since-3.5,-but-ignored-in-CPython)-First-appeared:-February-1991;-30-years-ago-Paradigm:-Multi-paradigm:-object-oriented,-procedural-(imperative),-functional,-structured,-reflective\n"
     ]
    }
   ],
   "source": [
    "print(re.sub('\\s', '-', s))"
   ]
  },
  {
   "cell_type": "code",
   "execution_count": 133,
   "metadata": {},
   "outputs": [
    {
     "name": "stdout",
     "output_type": "stream",
     "text": [
      "Python is an interpreted high-level general-purpose programming language. Python's design philosophy emphasizes code readability with its notable use of significant indentation. Wikipedia\n",
      "Developer: Python Software Foundation\n",
      "Stable release: 0.0.0 / 0 May 0000; 00 days ago\n",
      "Preview release: 0.00.0b0 / 0 May 0000; 00 days ago\n",
      "Typing discipline: Duck, dynamic, strong typing; gradual (since 0.0, but ignored in CPython)\n",
      "First appeared: February 0000; 00 years ago\n",
      "Paradigm: Multi-paradigm: object-oriented, procedural (imperative), functional, structured, reflective\n"
     ]
    }
   ],
   "source": [
    "print(re.sub('\\d', '0', s))"
   ]
  },
  {
   "cell_type": "code",
   "execution_count": 134,
   "metadata": {},
   "outputs": [
    {
     "name": "stdout",
     "output_type": "stream",
     "text": [
      "(\"Python is an interpreted high-level general-purpose programming language. Python's design philosophy emphasizes code readability with its notable use of significant indentation. Wikipedia\\nDeveloper: Python Software Foundation\\nStable release: 0.0.0 / 0 May 0000; 00 days ago\\nPreview release: 0.00.0b0 / 0 May 0000; 00 days ago\\nTyping discipline: Duck, dynamic, strong typing; gradual (since 0.0, but ignored in CPython)\\nFirst appeared: February 0000; 00 years ago\\nParadigm: Multi-paradigm: object-oriented, procedural (imperative), functional, structured, reflective\", 30)\n"
     ]
    }
   ],
   "source": [
    "print(re.subn('\\d', '0', s))"
   ]
  },
  {
   "cell_type": "code",
   "execution_count": 135,
   "metadata": {},
   "outputs": [
    {
     "name": "stdout",
     "output_type": "stream",
     "text": [
      "(\"Python-is-an-interpreted-high-level-general-purpose-programming-language.-Python's-design-philosophy-emphasizes-code-readability-with-its-notable-use-of-significant-indentation.-Wikipedia-Developer:-Python-Software-Foundation-Stable-release:-3.9.5-/-3-May-2021;-19-days-ago-Preview-release:-3.10.0b1-/-3-May-2021;-19-days-ago-Typing-discipline:-Duck,-dynamic,-strong-typing;-gradual-(since-3.5,-but-ignored-in-CPython)-First-appeared:-February-1991;-30-years-ago-Paradigm:-Multi-paradigm:-object-oriented,-procedural-(imperative),-functional,-structured,-reflective\", 73)\n"
     ]
    }
   ],
   "source": [
    "print(re.subn('\\s', '-', s))"
   ]
  },
  {
   "cell_type": "code",
   "execution_count": 136,
   "metadata": {},
   "outputs": [
    {
     "name": "stdout",
     "output_type": "stream",
     "text": [
      "****** ** ** *********** ********** *************** *********** ********* ******** ****** ********** ********** **** *********** **** *** ******* *** ** *********** ************ *********\n",
      "********** ****** ******** **********\n",
      "****** ******** ***** * * *** ***** ** **** ***\n",
      "******* ******** ******** * * *** ***** ** **** ***\n",
      "****** *********** ***** ******** ****** ******* ******* ****** **** *** ******* ** ********\n",
      "***** ********* ******** ***** ** ***** ***\n",
      "********* *************** **************** ********** ************* *********** *********** **********\n"
     ]
    }
   ],
   "source": [
    "print(re.sub('\\S', '*', s))"
   ]
  },
  {
   "cell_type": "code",
   "execution_count": 137,
   "metadata": {},
   "outputs": [
    {
     "name": "stdout",
     "output_type": "stream",
     "text": [
      "('****** ** ** *********** ********** *************** *********** ********* ******** ****** ********** ********** **** *********** **** *** ******* *** ** *********** ************ *********\\n********** ****** ******** **********\\n****** ******** ***** * * *** ***** ** **** ***\\n******* ******** ******** * * *** ***** ** **** ***\\n****** *********** ***** ******** ****** ******* ******* ****** **** *** ******* ** ********\\n***** ********* ******** ***** ** ***** ***\\n********* *************** **************** ********** ************* *********** *********** **********', 492)\n"
     ]
    }
   ],
   "source": [
    "print(re.subn('\\S', '*', s))"
   ]
  },
  {
   "cell_type": "code",
   "execution_count": 138,
   "metadata": {},
   "outputs": [
    {
     "name": "stdout",
     "output_type": "stream",
     "text": [
      "Pyth*n *s *n *nt*rpr*t*d h*gh-l*v*l g*n*r*l-p*rp*s* pr*gr*mm*ng l*ng**g*. Pyth*n's d*s*gn ph*l*s*phy *mph*s*z*s c*d* r**d*b*l*ty w*th *ts n*t*bl* *s* *f s*gn*f*c*nt *nd*nt*t**n. W*k*p*d**\n",
      "D*v*l*p*r: Pyth*n S*ftw*r* F**nd*t**n\n",
      "St*bl* r*l**s*: 3.9.5 / 3 M*y 2021; 19 d*ys *g*\n",
      "Pr*v**w r*l**s*: 3.10.0b1 / 3 M*y 2021; 19 d*ys *g*\n",
      "Typ*ng d*sc*pl*n*: D*ck, dyn*m*c, str*ng typ*ng; gr*d**l (s*nc* 3.5, b*t *gn*r*d *n CPyth*n)\n",
      "F*rst *pp**r*d: F*br**ry 1991; 30 y**rs *g*\n",
      "P*r*d*gm: M*lt*-p*r*d*gm: *bj*ct-*r**nt*d, pr*c*d*r*l (*mp*r*t*v*), f*nct**n*l, str*ct*r*d, r*fl*ct*v*\n"
     ]
    }
   ],
   "source": [
    "print(re.sub('[aeiou]', '*', s))"
   ]
  },
  {
   "cell_type": "code",
   "execution_count": 139,
   "metadata": {},
   "outputs": [
    {
     "name": "stdout",
     "output_type": "stream",
     "text": [
      "(\"Pyth*n *s *n *nt*rpr*t*d h*gh-l*v*l g*n*r*l-p*rp*s* pr*gr*mm*ng l*ng**g*. Pyth*n's d*s*gn ph*l*s*phy *mph*s*z*s c*d* r**d*b*l*ty w*th *ts n*t*bl* *s* *f s*gn*f*c*nt *nd*nt*t**n. W*k*p*d**\\nD*v*l*p*r: Pyth*n S*ftw*r* F**nd*t**n\\nSt*bl* r*l**s*: 3.9.5 / 3 M*y 2021; 19 d*ys *g*\\nPr*v**w r*l**s*: 3.10.0b1 / 3 M*y 2021; 19 d*ys *g*\\nTyp*ng d*sc*pl*n*: D*ck, dyn*m*c, str*ng typ*ng; gr*d**l (s*nc* 3.5, b*t *gn*r*d *n CPyth*n)\\nF*rst *pp**r*d: F*br**ry 1991; 30 y**rs *g*\\nP*r*d*gm: M*lt*-p*r*d*gm: *bj*ct-*r**nt*d, pr*c*d*r*l (*mp*r*t*v*), f*nct**n*l, str*ct*r*d, r*fl*ct*v*\", 163)\n"
     ]
    }
   ],
   "source": [
    "print(re.subn('[aeiou]', '*', s))"
   ]
  },
  {
   "cell_type": "code",
   "execution_count": 140,
   "metadata": {},
   "outputs": [
    {
     "name": "stdout",
     "output_type": "stream",
     "text": [
      "****o**i**a**i**e***e*e***i****e*e***e*e*a***u**o*e***o**a**i****a**ua*e******o*****e*i*****i*o*o****e***a*i*e***o*e**ea*a*i*i****i***i****o*a**e*u*e*o***i**i*i*a***i**e**a*io****i*i*e*ia**e*e*o*e*******o***o***a*e**ou**a*io****a**e**e*ea*e*************a************a***a*o***e*ie***e*ea*e****************a************a***a*o****i****i**i**i*e***u*******a*i******o******i******a*ua****i**e*******u**i**o*e**i*******o****i****a**ea*e****e**ua*************ea***a*o**a*a*i*****u**i**a*a*i****o**e***o*ie**e*****o*e*u*a***i**e*a*i*e****u***io*a******u**u*e****e**e**i*e\n"
     ]
    }
   ],
   "source": [
    "print(re.sub('[^aeiou]', '*', s))"
   ]
  },
  {
   "cell_type": "code",
   "execution_count": null,
   "metadata": {},
   "outputs": [],
   "source": [
    "print(re.subn('[^aeiou\\s]', '*', s))"
   ]
  }
 ],
 "metadata": {
  "kernelspec": {
   "display_name": "Python 3",
   "language": "python",
   "name": "python3"
  },
  "language_info": {
   "codemirror_mode": {
    "name": "ipython",
    "version": 3
   },
   "file_extension": ".py",
   "mimetype": "text/x-python",
   "name": "python",
   "nbconvert_exporter": "python",
   "pygments_lexer": "ipython3",
   "version": "3.7.6"
  }
 },
 "nbformat": 4,
 "nbformat_minor": 5
}
