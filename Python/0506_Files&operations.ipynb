{
 "cells": [
  {
   "cell_type": "markdown",
   "metadata": {},
   "source": [
    "\n",
    "\n",
    "### Files and file operations :\n",
    "\n",
    "File is a collection of records.\n",
    "\n",
    "\n",
    "- File operations :\n",
    "    - open file\n",
    "    - read r+\n",
    "    - write w+, w\n",
    "    - append a, a+\n",
    "    - close"
   ]
  },
  {
   "cell_type": "code",
   "execution_count": 1,
   "metadata": {},
   "outputs": [
    {
     "data": {
      "text/plain": [
       "'C:\\\\Users\\\\bhagy\\\\Documents\\\\Data Science Internship'"
      ]
     },
     "execution_count": 1,
     "metadata": {},
     "output_type": "execute_result"
    }
   ],
   "source": [
    "pwd()"
   ]
  },
  {
   "cell_type": "code",
   "execution_count": 3,
   "metadata": {},
   "outputs": [
    {
     "name": "stdout",
     "output_type": "stream",
     "text": [
      "13\n"
     ]
    }
   ],
   "source": [
    "fopen = open('data.txt', 'w')\n",
    "fw = fopen.write(\"Good evening.\")\n",
    "print(fw)\n",
    "fopen.close()"
   ]
  },
  {
   "cell_type": "code",
   "execution_count": 5,
   "metadata": {},
   "outputs": [],
   "source": [
    "fadd = open('data.txt', 'a')\n",
    "fa = fadd.write(\"Good Evening\\n\" *10)\n",
    "fadd.close()"
   ]
  },
  {
   "cell_type": "code",
   "execution_count": 8,
   "metadata": {},
   "outputs": [],
   "source": [
    "fread = open('data.txt', 'r')\n",
    "fr = fread.read()\n",
    "fread.close()"
   ]
  },
  {
   "cell_type": "code",
   "execution_count": 9,
   "metadata": {},
   "outputs": [
    {
     "name": "stdout",
     "output_type": "stream",
     "text": [
      "Good evening.Good Evening\n",
      "Good Evening\n",
      "Good Evening\n",
      "Good Evening\n",
      "Good Evening\n",
      "Good Evening\n",
      "Good Evening\n",
      "Good Evening\n",
      "Good Evening\n",
      "Good Evening\n",
      "Good Evening\n",
      "Good Evening\n",
      "Good Evening\n",
      "Good Evening\n",
      "Good Evening\n",
      "Good Evening\n",
      "Good Evening\n",
      "Good Evening\n",
      "Good Evening\n",
      "Good Evening\n",
      "\n"
     ]
    }
   ],
   "source": [
    "fread = open('data.txt', 'r')\n",
    "fr = fread.read()\n",
    "print(fr)\n",
    "fread.close()"
   ]
  },
  {
   "cell_type": "code",
   "execution_count": 11,
   "metadata": {},
   "outputs": [
    {
     "name": "stdout",
     "output_type": "stream",
     "text": [
      "['Good evening.Good Evening\\n', 'Good Evening\\n', 'Good Evening\\n', 'Good Evening\\n', 'Good Evening\\n', 'Good Evening\\n', 'Good Evening\\n', 'Good Evening\\n', 'Good Evening\\n', 'Good Evening\\n', 'Good Evening\\n', 'Good Evening\\n', 'Good Evening\\n', 'Good Evening\\n', 'Good Evening\\n', 'Good Evening\\n', 'Good Evening\\n', 'Good Evening\\n', 'Good Evening\\n', 'Good Evening\\n']\n"
     ]
    }
   ],
   "source": [
    "fread = open('data.txt', 'r')\n",
    "fr = fread.readlines()\n",
    "print(fr)\n",
    "fread.close()"
   ]
  },
  {
   "cell_type": "code",
   "execution_count": 13,
   "metadata": {},
   "outputs": [
    {
     "name": "stdout",
     "output_type": "stream",
     "text": [
      "21\n"
     ]
    }
   ],
   "source": [
    "with open('data1.txt', 'w') as ds :\n",
    "    ff = ds.write(\"Good Evening Everyone\")\n",
    "    print(ff)\n",
    "ds.close()"
   ]
  },
  {
   "cell_type": "code",
   "execution_count": 15,
   "metadata": {},
   "outputs": [
    {
     "name": "stdout",
     "output_type": "stream",
     "text": [
      "210\n"
     ]
    }
   ],
   "source": [
    "with open('data2.txt', 'w') as fd :\n",
    "    fr = fd.write(\"Good Evening Everyone\"*10)\n",
    "    print(fr)\n",
    "    fd.close()"
   ]
  },
  {
   "cell_type": "code",
   "execution_count": 16,
   "metadata": {},
   "outputs": [
    {
     "ename": "ValueError",
     "evalue": "I/O operation on closed file.",
     "output_type": "error",
     "traceback": [
      "\u001b[1;31m---------------------------------------------------------------------------\u001b[0m",
      "\u001b[1;31mValueError\u001b[0m                                Traceback (most recent call last)",
      "\u001b[1;32m<ipython-input-16-3a8a7d7c74fa>\u001b[0m in \u001b[0;36m<module>\u001b[1;34m\u001b[0m\n\u001b[1;32m----> 1\u001b[1;33m \u001b[0mfr\u001b[0m \u001b[1;33m=\u001b[0m \u001b[0mfd\u001b[0m\u001b[1;33m.\u001b[0m\u001b[0mread\u001b[0m\u001b[1;33m(\u001b[0m\u001b[1;33m)\u001b[0m\u001b[1;33m\u001b[0m\u001b[1;33m\u001b[0m\u001b[0m\n\u001b[0m",
      "\u001b[1;31mValueError\u001b[0m: I/O operation on closed file."
     ]
    }
   ],
   "source": [
    "fr = fd.read()"
   ]
  },
  {
   "cell_type": "markdown",
   "metadata": {},
   "source": [
    "#### - Number of lines in a file.\n",
    "#### - Number of words in a file.\n",
    "#### - Number of characters in a file."
   ]
  },
  {
   "cell_type": "code",
   "execution_count": 44,
   "metadata": {},
   "outputs": [
    {
     "name": "stdout",
     "output_type": "stream",
     "text": [
      "Number of lines in a file :  20\n",
      "Number of words in a file :  41\n",
      "Number of characters in a file :  273\n"
     ]
    }
   ],
   "source": [
    " \n",
    "with open('data.txt', 'r') as fg :\n",
    "    k = fg.read()\n",
    "    cnt = 0\n",
    "    wc = 0\n",
    "    for i in k :\n",
    "        if i == \"\\n\"  : \n",
    "            cnt += 1\n",
    "            wc = k.split()\n",
    "    print(\"Number of lines in a file : \", cnt)\n",
    "    print(\"Number of words in a file : \", len(wc))\n",
    "    print(\"Number of characters in a file : \", len(k))"
   ]
  },
  {
   "cell_type": "code",
   "execution_count": 45,
   "metadata": {},
   "outputs": [
    {
     "name": "stdout",
     "output_type": "stream",
     "text": [
      "Total number of lines is: 20\n"
     ]
    }
   ],
   "source": [
    "fname = \"data.txt\"\n",
    "count = 0\n",
    "with open(fname, 'r') as fg:\n",
    "    for line in fg:\n",
    "        count += 1\n",
    "print(\"Total number of lines is:\", count)"
   ]
  },
  {
   "cell_type": "markdown",
   "metadata": {},
   "source": [
    "### Files in python :\n",
    "\n",
    "- open() -> \n",
    "    - r -> read the file from existing file.\n",
    "    - w -> Write data to new file / if file exists remove all the data and add new data\n",
    "    - a -> Write the data to the existing file.\n",
    "- Do some operations.\n",
    "    - read the data\n",
    "    - write the data.\n",
    "- close()\n",
    "\n",
    "- all data should be in strings."
   ]
  },
  {
   "cell_type": "code",
   "execution_count": 46,
   "metadata": {},
   "outputs": [],
   "source": [
    "f = open('file.txt', 'w')\n",
    "\n",
    "f.close()"
   ]
  },
  {
   "cell_type": "code",
   "execution_count": 47,
   "metadata": {},
   "outputs": [],
   "source": [
    "for i in range(1, 11) :\n",
    "    f = open('file' + str(i) + '.txt', 'w')\n",
    "\n",
    "    f.close()"
   ]
  },
  {
   "cell_type": "code",
   "execution_count": 48,
   "metadata": {},
   "outputs": [
    {
     "ename": "TypeError",
     "evalue": "write() argument must be str, not int",
     "output_type": "error",
     "traceback": [
      "\u001b[1;31m---------------------------------------------------------------------------\u001b[0m",
      "\u001b[1;31mTypeError\u001b[0m                                 Traceback (most recent call last)",
      "\u001b[1;32m<ipython-input-48-e769fce05913>\u001b[0m in \u001b[0;36m<module>\u001b[1;34m\u001b[0m\n\u001b[0;32m      1\u001b[0m \u001b[0mf\u001b[0m \u001b[1;33m=\u001b[0m \u001b[0mopen\u001b[0m\u001b[1;33m(\u001b[0m\u001b[1;34m'file.txt'\u001b[0m\u001b[1;33m,\u001b[0m \u001b[1;34m'w'\u001b[0m\u001b[1;33m)\u001b[0m\u001b[1;33m\u001b[0m\u001b[1;33m\u001b[0m\u001b[0m\n\u001b[1;32m----> 2\u001b[1;33m \u001b[0mf\u001b[0m\u001b[1;33m.\u001b[0m\u001b[0mwrite\u001b[0m\u001b[1;33m(\u001b[0m\u001b[1;36m5\u001b[0m\u001b[1;33m)\u001b[0m\u001b[1;33m\u001b[0m\u001b[1;33m\u001b[0m\u001b[0m\n\u001b[0m\u001b[0;32m      3\u001b[0m \u001b[0mf\u001b[0m\u001b[1;33m.\u001b[0m\u001b[0mclose\u001b[0m\u001b[1;33m(\u001b[0m\u001b[1;33m)\u001b[0m\u001b[1;33m\u001b[0m\u001b[1;33m\u001b[0m\u001b[0m\n",
      "\u001b[1;31mTypeError\u001b[0m: write() argument must be str, not int"
     ]
    }
   ],
   "source": [
    "f = open('file.txt', 'w')\n",
    "f.write(5)\n",
    "f.close()"
   ]
  },
  {
   "cell_type": "code",
   "execution_count": 52,
   "metadata": {},
   "outputs": [],
   "source": [
    "f = open('file.txt', 'w')\n",
    "for i in range(1, 101) :\n",
    "    f.write('18B01A05' + str(i) + \"\\n\")\n",
    "f.close()"
   ]
  },
  {
   "cell_type": "code",
   "execution_count": 53,
   "metadata": {},
   "outputs": [],
   "source": [
    "f = open('file.txt', 'a')\n",
    "for i in range(1, 101) :\n",
    "    f.write('18B01A05' + str(i) + \"\\t\")\n",
    "f.close()"
   ]
  },
  {
   "cell_type": "code",
   "execution_count": 54,
   "metadata": {},
   "outputs": [
    {
     "name": "stdout",
     "output_type": "stream",
     "text": [
      "18B01A051\n",
      "18B01A052\n",
      "18B01A053\n",
      "18B01A054\n",
      "18B01A055\n",
      "18B01A056\n",
      "18B01A057\n",
      "18B01A058\n",
      "18B01A059\n",
      "18B01A0510\n",
      "18B01A0511\n",
      "18B01A0512\n",
      "18B01A0513\n",
      "18B01A0514\n",
      "18B01A0515\n",
      "18B01A0516\n",
      "18B01A0517\n",
      "18B01A0518\n",
      "18B01A0519\n",
      "18B01A0520\n",
      "18B01A0521\n",
      "18B01A0522\n",
      "18B01A0523\n",
      "18B01A0524\n",
      "18B01A0525\n",
      "18B01A0526\n",
      "18B01A0527\n",
      "18B01A0528\n",
      "18B01A0529\n",
      "18B01A0530\n",
      "18B01A0531\n",
      "18B01A0532\n",
      "18B01A0533\n",
      "18B01A0534\n",
      "18B01A0535\n",
      "18B01A0536\n",
      "18B01A0537\n",
      "18B01A0538\n",
      "18B01A0539\n",
      "18B01A0540\n",
      "18B01A0541\n",
      "18B01A0542\n",
      "18B01A0543\n",
      "18B01A0544\n",
      "18B01A0545\n",
      "18B01A0546\n",
      "18B01A0547\n",
      "18B01A0548\n",
      "18B01A0549\n",
      "18B01A0550\n",
      "18B01A0551\n",
      "18B01A0552\n",
      "18B01A0553\n",
      "18B01A0554\n",
      "18B01A0555\n",
      "18B01A0556\n",
      "18B01A0557\n",
      "18B01A0558\n",
      "18B01A0559\n",
      "18B01A0560\n",
      "18B01A0561\n",
      "18B01A0562\n",
      "18B01A0563\n",
      "18B01A0564\n",
      "18B01A0565\n",
      "18B01A0566\n",
      "18B01A0567\n",
      "18B01A0568\n",
      "18B01A0569\n",
      "18B01A0570\n",
      "18B01A0571\n",
      "18B01A0572\n",
      "18B01A0573\n",
      "18B01A0574\n",
      "18B01A0575\n",
      "18B01A0576\n",
      "18B01A0577\n",
      "18B01A0578\n",
      "18B01A0579\n",
      "18B01A0580\n",
      "18B01A0581\n",
      "18B01A0582\n",
      "18B01A0583\n",
      "18B01A0584\n",
      "18B01A0585\n",
      "18B01A0586\n",
      "18B01A0587\n",
      "18B01A0588\n",
      "18B01A0589\n",
      "18B01A0590\n",
      "18B01A0591\n",
      "18B01A0592\n",
      "18B01A0593\n",
      "18B01A0594\n",
      "18B01A0595\n",
      "18B01A0596\n",
      "18B01A0597\n",
      "18B01A0598\n",
      "18B01A0599\n",
      "18B01A05100\n",
      "18B01A051\t18B01A052\t18B01A053\t18B01A054\t18B01A055\t18B01A056\t18B01A057\t18B01A058\t18B01A059\t18B01A0510\t18B01A0511\t18B01A0512\t18B01A0513\t18B01A0514\t18B01A0515\t18B01A0516\t18B01A0517\t18B01A0518\t18B01A0519\t18B01A0520\t18B01A0521\t18B01A0522\t18B01A0523\t18B01A0524\t18B01A0525\t18B01A0526\t18B01A0527\t18B01A0528\t18B01A0529\t18B01A0530\t18B01A0531\t18B01A0532\t18B01A0533\t18B01A0534\t18B01A0535\t18B01A0536\t18B01A0537\t18B01A0538\t18B01A0539\t18B01A0540\t18B01A0541\t18B01A0542\t18B01A0543\t18B01A0544\t18B01A0545\t18B01A0546\t18B01A0547\t18B01A0548\t18B01A0549\t18B01A0550\t18B01A0551\t18B01A0552\t18B01A0553\t18B01A0554\t18B01A0555\t18B01A0556\t18B01A0557\t18B01A0558\t18B01A0559\t18B01A0560\t18B01A0561\t18B01A0562\t18B01A0563\t18B01A0564\t18B01A0565\t18B01A0566\t18B01A0567\t18B01A0568\t18B01A0569\t18B01A0570\t18B01A0571\t18B01A0572\t18B01A0573\t18B01A0574\t18B01A0575\t18B01A0576\t18B01A0577\t18B01A0578\t18B01A0579\t18B01A0580\t18B01A0581\t18B01A0582\t18B01A0583\t18B01A0584\t18B01A0585\t18B01A0586\t18B01A0587\t18B01A0588\t18B01A0589\t18B01A0590\t18B01A0591\t18B01A0592\t18B01A0593\t18B01A0594\t18B01A0595\t18B01A0596\t18B01A0597\t18B01A0598\t18B01A0599\t18B01A05100\t\n",
      "<class 'str'>\n"
     ]
    }
   ],
   "source": [
    "f = open('file.txt', 'r')\n",
    "\n",
    "data = f.read()\n",
    "print(data)\n",
    "print(type(data))\n",
    "\n",
    "f.close()"
   ]
  },
  {
   "cell_type": "code",
   "execution_count": 57,
   "metadata": {},
   "outputs": [
    {
     "name": "stdout",
     "output_type": "stream",
     "text": [
      "18B01A051\n",
      "\n",
      "18B01A052\n",
      "\n",
      "<class 'str'>\n"
     ]
    }
   ],
   "source": [
    "f = open('file.txt', 'r')\n",
    "\n",
    "data = f.readline()\n",
    "\n",
    "print(data)\n",
    "print(f.readline())\n",
    "print(type(data))\n",
    "\n",
    "f.close()"
   ]
  },
  {
   "cell_type": "code",
   "execution_count": 58,
   "metadata": {},
   "outputs": [
    {
     "name": "stdout",
     "output_type": "stream",
     "text": [
      "18B01A051\n",
      "18B01\n",
      "<class 'str'>\n"
     ]
    }
   ],
   "source": [
    "f = open('file.txt', 'r')\n",
    "\n",
    "data = f.read(15)\n",
    "\n",
    "print(data)\n",
    "print(type(data))\n",
    "\n",
    "f.close()"
   ]
  },
  {
   "cell_type": "code",
   "execution_count": 59,
   "metadata": {},
   "outputs": [
    {
     "name": "stdout",
     "output_type": "stream",
     "text": [
      "18B01A051\n",
      "18B01\n",
      "A052\n",
      "18B01A053\n",
      "\n",
      "<class 'str'>\n"
     ]
    }
   ],
   "source": [
    "f = open('file.txt', 'r')\n",
    "\n",
    "data = f.read(15)\n",
    "print(data)\n",
    "data = f.read(15)\n",
    "print(data)\n",
    "print(type(data))\n",
    "\n",
    "f.close()"
   ]
  },
  {
   "cell_type": "code",
   "execution_count": 61,
   "metadata": {},
   "outputs": [
    {
     "name": "stdout",
     "output_type": "stream",
     "text": [
      "['18B01A051\\n', '18B01A052\\n', '18B01A053\\n', '18B01A054\\n', '18B01A055\\n', '18B01A056\\n', '18B01A057\\n', '18B01A058\\n', '18B01A059\\n', '18B01A0510\\n']\n",
      "<class 'list'>\n"
     ]
    }
   ],
   "source": [
    "f = open('file.txt', 'r')\n",
    "\n",
    "data = f.readlines()\n",
    "\n",
    "print(data[:10])\n",
    "print(type(data))\n",
    "\n",
    "f.close()"
   ]
  },
  {
   "cell_type": "code",
   "execution_count": 62,
   "metadata": {},
   "outputs": [
    {
     "name": "stdout",
     "output_type": "stream",
     "text": [
      "18B01A051\n",
      "\n",
      "18B01A052\n",
      "\n",
      "18B01A053\n",
      "\n",
      "18B01A054\n",
      "\n",
      "18B01A055\n",
      "\n",
      "18B01A056\n",
      "\n",
      "18B01A057\n",
      "\n",
      "18B01A058\n",
      "\n",
      "18B01A059\n",
      "\n",
      "18B01A0510\n",
      "\n",
      "18B01A0511\n",
      "\n",
      "18B01A0512\n",
      "\n",
      "18B01A0513\n",
      "\n",
      "18B01A0514\n",
      "\n",
      "18B01A0515\n",
      "\n",
      "18B01A0516\n",
      "\n",
      "18B01A0517\n",
      "\n",
      "18B01A0518\n",
      "\n",
      "18B01A0519\n",
      "\n",
      "18B01A0520\n",
      "\n",
      "18B01A0521\n",
      "\n",
      "18B01A0522\n",
      "\n",
      "18B01A0523\n",
      "\n",
      "18B01A0524\n",
      "\n",
      "18B01A0525\n",
      "\n",
      "18B01A0526\n",
      "\n",
      "18B01A0527\n",
      "\n",
      "18B01A0528\n",
      "\n",
      "18B01A0529\n",
      "\n",
      "18B01A0530\n",
      "\n",
      "18B01A0531\n",
      "\n",
      "18B01A0532\n",
      "\n",
      "18B01A0533\n",
      "\n",
      "18B01A0534\n",
      "\n",
      "18B01A0535\n",
      "\n",
      "18B01A0536\n",
      "\n",
      "18B01A0537\n",
      "\n",
      "18B01A0538\n",
      "\n",
      "18B01A0539\n",
      "\n",
      "18B01A0540\n",
      "\n",
      "18B01A0541\n",
      "\n",
      "18B01A0542\n",
      "\n",
      "18B01A0543\n",
      "\n",
      "18B01A0544\n",
      "\n",
      "18B01A0545\n",
      "\n",
      "18B01A0546\n",
      "\n",
      "18B01A0547\n",
      "\n",
      "18B01A0548\n",
      "\n",
      "18B01A0549\n",
      "\n",
      "18B01A0550\n",
      "\n",
      "18B01A0551\n",
      "\n",
      "18B01A0552\n",
      "\n",
      "18B01A0553\n",
      "\n",
      "18B01A0554\n",
      "\n",
      "18B01A0555\n",
      "\n",
      "18B01A0556\n",
      "\n",
      "18B01A0557\n",
      "\n",
      "18B01A0558\n",
      "\n",
      "18B01A0559\n",
      "\n",
      "18B01A0560\n",
      "\n",
      "18B01A0561\n",
      "\n",
      "18B01A0562\n",
      "\n",
      "18B01A0563\n",
      "\n",
      "18B01A0564\n",
      "\n",
      "18B01A0565\n",
      "\n",
      "18B01A0566\n",
      "\n",
      "18B01A0567\n",
      "\n",
      "18B01A0568\n",
      "\n",
      "18B01A0569\n",
      "\n",
      "18B01A0570\n",
      "\n",
      "18B01A0571\n",
      "\n",
      "18B01A0572\n",
      "\n",
      "18B01A0573\n",
      "\n",
      "18B01A0574\n",
      "\n",
      "18B01A0575\n",
      "\n",
      "18B01A0576\n",
      "\n",
      "18B01A0577\n",
      "\n",
      "18B01A0578\n",
      "\n",
      "18B01A0579\n",
      "\n",
      "18B01A0580\n",
      "\n",
      "18B01A0581\n",
      "\n",
      "18B01A0582\n",
      "\n",
      "18B01A0583\n",
      "\n",
      "18B01A0584\n",
      "\n",
      "18B01A0585\n",
      "\n",
      "18B01A0586\n",
      "\n",
      "18B01A0587\n",
      "\n",
      "18B01A0588\n",
      "\n",
      "18B01A0589\n",
      "\n",
      "18B01A0590\n",
      "\n",
      "18B01A0591\n",
      "\n",
      "18B01A0592\n",
      "\n",
      "18B01A0593\n",
      "\n",
      "18B01A0594\n",
      "\n",
      "18B01A0595\n",
      "\n",
      "18B01A0596\n",
      "\n",
      "18B01A0597\n",
      "\n",
      "18B01A0598\n",
      "\n",
      "18B01A0599\n",
      "\n",
      "18B01A05100\n",
      "\n",
      "18B01A051\t18B01A052\t18B01A053\t18B01A054\t18B01A055\t18B01A056\t18B01A057\t18B01A058\t18B01A059\t18B01A0510\t18B01A0511\t18B01A0512\t18B01A0513\t18B01A0514\t18B01A0515\t18B01A0516\t18B01A0517\t18B01A0518\t18B01A0519\t18B01A0520\t18B01A0521\t18B01A0522\t18B01A0523\t18B01A0524\t18B01A0525\t18B01A0526\t18B01A0527\t18B01A0528\t18B01A0529\t18B01A0530\t18B01A0531\t18B01A0532\t18B01A0533\t18B01A0534\t18B01A0535\t18B01A0536\t18B01A0537\t18B01A0538\t18B01A0539\t18B01A0540\t18B01A0541\t18B01A0542\t18B01A0543\t18B01A0544\t18B01A0545\t18B01A0546\t18B01A0547\t18B01A0548\t18B01A0549\t18B01A0550\t18B01A0551\t18B01A0552\t18B01A0553\t18B01A0554\t18B01A0555\t18B01A0556\t18B01A0557\t18B01A0558\t18B01A0559\t18B01A0560\t18B01A0561\t18B01A0562\t18B01A0563\t18B01A0564\t18B01A0565\t18B01A0566\t18B01A0567\t18B01A0568\t18B01A0569\t18B01A0570\t18B01A0571\t18B01A0572\t18B01A0573\t18B01A0574\t18B01A0575\t18B01A0576\t18B01A0577\t18B01A0578\t18B01A0579\t18B01A0580\t18B01A0581\t18B01A0582\t18B01A0583\t18B01A0584\t18B01A0585\t18B01A0586\t18B01A0587\t18B01A0588\t18B01A0589\t18B01A0590\t18B01A0591\t18B01A0592\t18B01A0593\t18B01A0594\t18B01A0595\t18B01A0596\t18B01A0597\t18B01A0598\t18B01A0599\t18B01A05100\t\n"
     ]
    }
   ],
   "source": [
    "f = open('file.txt', 'r')\n",
    "\n",
    "data = f.readlines()\n",
    "\n",
    "for line in data :\n",
    "    print(line)\n",
    "\n",
    "f.close()"
   ]
  },
  {
   "cell_type": "code",
   "execution_count": 63,
   "metadata": {},
   "outputs": [
    {
     "name": "stdout",
     "output_type": "stream",
     "text": [
      "18B01A051\n",
      "\n",
      "18B01A052\n",
      "\n",
      "18B01A053\n",
      "\n",
      "18B01A054\n",
      "\n",
      "18B01A055\n",
      "\n",
      "18B01A056\n",
      "\n",
      "18B01A057\n",
      "\n",
      "18B01A058\n",
      "\n",
      "18B01A059\n",
      "\n",
      "18B01A0510\n",
      "\n",
      "18B01A0511\n",
      "\n",
      "18B01A0512\n",
      "\n",
      "18B01A0513\n",
      "\n",
      "18B01A0514\n",
      "\n",
      "18B01A0515\n",
      "\n",
      "18B01A0516\n",
      "\n",
      "18B01A0517\n",
      "\n",
      "18B01A0518\n",
      "\n",
      "18B01A0519\n",
      "\n",
      "18B01A0520\n",
      "\n",
      "18B01A0521\n",
      "\n",
      "18B01A0522\n",
      "\n",
      "18B01A0523\n",
      "\n",
      "18B01A0524\n",
      "\n",
      "18B01A0525\n",
      "\n",
      "18B01A0526\n",
      "\n",
      "18B01A0527\n",
      "\n",
      "18B01A0528\n",
      "\n",
      "18B01A0529\n",
      "\n",
      "18B01A0530\n",
      "\n",
      "18B01A0531\n",
      "\n",
      "18B01A0532\n",
      "\n",
      "18B01A0533\n",
      "\n",
      "18B01A0534\n",
      "\n",
      "18B01A0535\n",
      "\n",
      "18B01A0536\n",
      "\n",
      "18B01A0537\n",
      "\n",
      "18B01A0538\n",
      "\n",
      "18B01A0539\n",
      "\n",
      "18B01A0540\n",
      "\n",
      "18B01A0541\n",
      "\n",
      "18B01A0542\n",
      "\n",
      "18B01A0543\n",
      "\n",
      "18B01A0544\n",
      "\n",
      "18B01A0545\n",
      "\n",
      "18B01A0546\n",
      "\n",
      "18B01A0547\n",
      "\n",
      "18B01A0548\n",
      "\n",
      "18B01A0549\n",
      "\n",
      "18B01A0550\n",
      "\n",
      "18B01A0551\n",
      "\n",
      "18B01A0552\n",
      "\n",
      "18B01A0553\n",
      "\n",
      "18B01A0554\n",
      "\n",
      "18B01A0555\n",
      "\n",
      "18B01A0556\n",
      "\n",
      "18B01A0557\n",
      "\n",
      "18B01A0558\n",
      "\n",
      "18B01A0559\n",
      "\n",
      "18B01A0560\n",
      "\n",
      "18B01A0561\n",
      "\n",
      "18B01A0562\n",
      "\n",
      "18B01A0563\n",
      "\n",
      "18B01A0564\n",
      "\n",
      "18B01A0565\n",
      "\n",
      "18B01A0566\n",
      "\n",
      "18B01A0567\n",
      "\n",
      "18B01A0568\n",
      "\n",
      "18B01A0569\n",
      "\n",
      "18B01A0570\n",
      "\n",
      "18B01A0571\n",
      "\n",
      "18B01A0572\n",
      "\n",
      "18B01A0573\n",
      "\n",
      "18B01A0574\n",
      "\n",
      "18B01A0575\n",
      "\n",
      "18B01A0576\n",
      "\n",
      "18B01A0577\n",
      "\n",
      "18B01A0578\n",
      "\n",
      "18B01A0579\n",
      "\n",
      "18B01A0580\n",
      "\n",
      "18B01A0581\n",
      "\n",
      "18B01A0582\n",
      "\n",
      "18B01A0583\n",
      "\n",
      "18B01A0584\n",
      "\n",
      "18B01A0585\n",
      "\n",
      "18B01A0586\n",
      "\n",
      "18B01A0587\n",
      "\n",
      "18B01A0588\n",
      "\n",
      "18B01A0589\n",
      "\n",
      "18B01A0590\n",
      "\n",
      "18B01A0591\n",
      "\n",
      "18B01A0592\n",
      "\n",
      "18B01A0593\n",
      "\n",
      "18B01A0594\n",
      "\n",
      "18B01A0595\n",
      "\n",
      "18B01A0596\n",
      "\n",
      "18B01A0597\n",
      "\n",
      "18B01A0598\n",
      "\n",
      "18B01A0599\n",
      "\n",
      "18B01A05100\n",
      "\n",
      "18B01A051\t18B01A052\t18B01A053\t18B01A054\t18B01A055\t18B01A056\t18B01A057\t18B01A058\t18B01A059\t18B01A0510\t18B01A0511\t18B01A0512\t18B01A0513\t18B01A0514\t18B01A0515\t18B01A0516\t18B01A0517\t18B01A0518\t18B01A0519\t18B01A0520\t18B01A0521\t18B01A0522\t18B01A0523\t18B01A0524\t18B01A0525\t18B01A0526\t18B01A0527\t18B01A0528\t18B01A0529\t18B01A0530\t18B01A0531\t18B01A0532\t18B01A0533\t18B01A0534\t18B01A0535\t18B01A0536\t18B01A0537\t18B01A0538\t18B01A0539\t18B01A0540\t18B01A0541\t18B01A0542\t18B01A0543\t18B01A0544\t18B01A0545\t18B01A0546\t18B01A0547\t18B01A0548\t18B01A0549\t18B01A0550\t18B01A0551\t18B01A0552\t18B01A0553\t18B01A0554\t18B01A0555\t18B01A0556\t18B01A0557\t18B01A0558\t18B01A0559\t18B01A0560\t18B01A0561\t18B01A0562\t18B01A0563\t18B01A0564\t18B01A0565\t18B01A0566\t18B01A0567\t18B01A0568\t18B01A0569\t18B01A0570\t18B01A0571\t18B01A0572\t18B01A0573\t18B01A0574\t18B01A0575\t18B01A0576\t18B01A0577\t18B01A0578\t18B01A0579\t18B01A0580\t18B01A0581\t18B01A0582\t18B01A0583\t18B01A0584\t18B01A0585\t18B01A0586\t18B01A0587\t18B01A0588\t18B01A0589\t18B01A0590\t18B01A0591\t18B01A0592\t18B01A0593\t18B01A0594\t18B01A0595\t18B01A0596\t18B01A0597\t18B01A0598\t18B01A0599\t18B01A05100\t\n"
     ]
    }
   ],
   "source": [
    "f = open('file.txt', 'r')\n",
    "\n",
    "data = f.readlines()\n",
    "\n",
    "for line in data :\n",
    "    print(line)\n",
    "\n",
    "f.close()"
   ]
  },
  {
   "cell_type": "markdown",
   "metadata": {},
   "source": [
    "- +r\n",
    "- +w\n",
    "- +a"
   ]
  },
  {
   "cell_type": "code",
   "execution_count": 65,
   "metadata": {},
   "outputs": [
    {
     "data": {
      "text/plain": [
       "4368"
      ]
     },
     "execution_count": 65,
     "metadata": {},
     "output_type": "execute_result"
    }
   ],
   "source": [
    "f = open('file.txt', 'r+')\n",
    "\n",
    "data = f.read()\n",
    "f.write(data)\n"
   ]
  },
  {
   "cell_type": "code",
   "execution_count": 66,
   "metadata": {},
   "outputs": [],
   "source": [
    "f = open('file.txt', 'r+')\n",
    "\n",
    "data = f.read()\n",
    "f.write(data)\n",
    "\n",
    "f.close()"
   ]
  },
  {
   "cell_type": "code",
   "execution_count": 67,
   "metadata": {},
   "outputs": [
    {
     "ename": "ValueError",
     "evalue": "I/O operation on closed file.",
     "output_type": "error",
     "traceback": [
      "\u001b[1;31m---------------------------------------------------------------------------\u001b[0m",
      "\u001b[1;31mValueError\u001b[0m                                Traceback (most recent call last)",
      "\u001b[1;32m<ipython-input-67-029e74b718af>\u001b[0m in \u001b[0;36m<module>\u001b[1;34m\u001b[0m\n\u001b[0;32m      1\u001b[0m \u001b[1;32mwith\u001b[0m \u001b[0mopen\u001b[0m\u001b[1;33m(\u001b[0m\u001b[1;34m'file.txt'\u001b[0m\u001b[1;33m,\u001b[0m \u001b[1;34m'r+'\u001b[0m\u001b[1;33m)\u001b[0m \u001b[1;32mas\u001b[0m \u001b[0mf\u001b[0m \u001b[1;33m:\u001b[0m\u001b[1;33m\u001b[0m\u001b[1;33m\u001b[0m\u001b[0m\n\u001b[0;32m      2\u001b[0m     \u001b[0mf\u001b[0m\u001b[1;33m.\u001b[0m\u001b[0mwrite\u001b[0m\u001b[1;33m(\u001b[0m\u001b[1;34m'\\n Day12 APSSDC session.'\u001b[0m\u001b[1;33m)\u001b[0m\u001b[1;33m\u001b[0m\u001b[1;33m\u001b[0m\u001b[0m\n\u001b[1;32m----> 3\u001b[1;33m \u001b[0mprint\u001b[0m\u001b[1;33m(\u001b[0m\u001b[0mf\u001b[0m\u001b[1;33m.\u001b[0m\u001b[0mread\u001b[0m\u001b[1;33m(\u001b[0m\u001b[1;33m)\u001b[0m\u001b[1;33m)\u001b[0m\u001b[1;33m\u001b[0m\u001b[1;33m\u001b[0m\u001b[0m\n\u001b[0m",
      "\u001b[1;31mValueError\u001b[0m: I/O operation on closed file."
     ]
    }
   ],
   "source": [
    "with open('file.txt', 'r+') as f :\n",
    "    f.write('\\n Day12 APSSDC session.')\n",
    "print(f.read())"
   ]
  },
  {
   "cell_type": "code",
   "execution_count": 75,
   "metadata": {},
   "outputs": [
    {
     "ename": "ValueError",
     "evalue": "I/O operation on closed file.",
     "output_type": "error",
     "traceback": [
      "\u001b[1;31m---------------------------------------------------------------------------\u001b[0m",
      "\u001b[1;31mValueError\u001b[0m                                Traceback (most recent call last)",
      "\u001b[1;32m<ipython-input-75-d7f26f386045>\u001b[0m in \u001b[0;36m<module>\u001b[1;34m\u001b[0m\n\u001b[0;32m      2\u001b[0m     \u001b[0mf\u001b[0m\u001b[1;33m.\u001b[0m\u001b[0mwrite\u001b[0m\u001b[1;33m(\u001b[0m\u001b[1;34m'\\n Day12 APSSDC session.'\u001b[0m\u001b[1;33m)\u001b[0m\u001b[1;33m\u001b[0m\u001b[1;33m\u001b[0m\u001b[0m\n\u001b[0;32m      3\u001b[0m \u001b[1;33m\u001b[0m\u001b[0m\n\u001b[1;32m----> 4\u001b[1;33m \u001b[0mprint\u001b[0m\u001b[1;33m(\u001b[0m\u001b[0mf\u001b[0m\u001b[1;33m.\u001b[0m\u001b[0mread\u001b[0m\u001b[1;33m(\u001b[0m\u001b[1;33m)\u001b[0m\u001b[1;33m)\u001b[0m\u001b[1;33m\u001b[0m\u001b[1;33m\u001b[0m\u001b[0m\n\u001b[0m",
      "\u001b[1;31mValueError\u001b[0m: I/O operation on closed file."
     ]
    }
   ],
   "source": [
    "with open('file.txt', 'r+') as f :\n",
    "    f.write('\\n Day12 APSSDC session.')\n",
    "    \n",
    "print(f.read())"
   ]
  },
  {
   "cell_type": "markdown",
   "metadata": {},
   "source": [
    "### Copy data from 1 file to many :\n"
   ]
  },
  {
   "cell_type": "code",
   "execution_count": 76,
   "metadata": {},
   "outputs": [],
   "source": [
    "with open('file.txt', 'r+') as f :\n",
    "   data = f.read()\n",
    "\n",
    "for i in range(1, 10) :\n",
    "    with open('file' + str(i) + '.txt', 'r+') as f :\n",
    "        f.write(data)"
   ]
  },
  {
   "cell_type": "code",
   "execution_count": null,
   "metadata": {},
   "outputs": [],
   "source": []
  }
 ],
 "metadata": {
  "kernelspec": {
   "display_name": "Python 3",
   "language": "python",
   "name": "python3"
  },
  "language_info": {
   "codemirror_mode": {
    "name": "ipython",
    "version": 3
   },
   "file_extension": ".py",
   "mimetype": "text/x-python",
   "name": "python",
   "nbconvert_exporter": "python",
   "pygments_lexer": "ipython3",
   "version": "3.7.6"
  }
 },
 "nbformat": 4,
 "nbformat_minor": 5
}
